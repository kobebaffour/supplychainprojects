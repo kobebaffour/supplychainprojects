{
 "cells": [
  {
   "cell_type": "code",
   "execution_count": 25,
   "metadata": {},
   "outputs": [],
   "source": [
    "import pandas as pd\n",
    "import plotly.express as px\n",
    "import plotly.graph_objects as go\n",
    "import plotly.io as pio\n",
    "pio.templates.default = \"plotly_white\"\n",
    "\n",
    "data = pd.read_csv(\"instagram data.csv\", encoding = \"latin-1\")"
   ]
  },
  {
   "cell_type": "code",
   "execution_count": 26,
   "metadata": {},
   "outputs": [
    {
     "name": "stdout",
     "output_type": "stream",
     "text": [
      "   Impressions  From Home  From Hashtags  From Explore  From Other  Saves  \\\n",
      "0         3920       2586           1028           619          56     98   \n",
      "1         5394       2727           1838          1174          78    194   \n",
      "2         4021       2085           1188             0         533     41   \n",
      "3         4528       2700            621           932          73    172   \n",
      "4         2518       1704            255           279          37     96   \n",
      "\n",
      "   Comments  Shares  Likes  Profile Visits  Follows  \\\n",
      "0         9       5    162              35        2   \n",
      "1         7      14    224              48       10   \n",
      "2        11       1    131              62       12   \n",
      "3        10       7    213              23        8   \n",
      "4         5       4    123               8        0   \n",
      "\n",
      "                                             Caption  \\\n",
      "0  Here are some of the most important data visua...   \n",
      "1  Here are some of the best data science project...   \n",
      "2  Learn how to train a machine learning model an...   \n",
      "3  Heres how you can write a Python program to d...   \n",
      "4  Plotting annotations while visualizing your da...   \n",
      "\n",
      "                                            Hashtags  \n",
      "0  #finance #money #business #investing #investme...  \n",
      "1  #healthcare #health #covid #data #datascience ...  \n",
      "2  #data #datascience #dataanalysis #dataanalytic...  \n",
      "3  #python #pythonprogramming #pythonprojects #py...  \n",
      "4  #datavisualization #datascience #data #dataana...  \n"
     ]
    }
   ],
   "source": [
    "print(data.head())"
   ]
  },
  {
   "cell_type": "code",
   "execution_count": 27,
   "metadata": {},
   "outputs": [
    {
     "name": "stdout",
     "output_type": "stream",
     "text": [
      "Index(['Impressions', 'From Home', 'From Hashtags', 'From Explore',\n",
      "       'From Other', 'Saves', 'Comments', 'Shares', 'Likes', 'Profile Visits',\n",
      "       'Follows', 'Caption', 'Hashtags'],\n",
      "      dtype='object')\n"
     ]
    }
   ],
   "source": [
    "print(data.columns)"
   ]
  },
  {
   "cell_type": "code",
   "execution_count": 28,
   "metadata": {},
   "outputs": [
    {
     "name": "stdout",
     "output_type": "stream",
     "text": [
      "<class 'pandas.core.frame.DataFrame'>\n",
      "RangeIndex: 119 entries, 0 to 118\n",
      "Data columns (total 13 columns):\n",
      " #   Column          Non-Null Count  Dtype \n",
      "---  ------          --------------  ----- \n",
      " 0   Impressions     119 non-null    int64 \n",
      " 1   From Home       119 non-null    int64 \n",
      " 2   From Hashtags   119 non-null    int64 \n",
      " 3   From Explore    119 non-null    int64 \n",
      " 4   From Other      119 non-null    int64 \n",
      " 5   Saves           119 non-null    int64 \n",
      " 6   Comments        119 non-null    int64 \n",
      " 7   Shares          119 non-null    int64 \n",
      " 8   Likes           119 non-null    int64 \n",
      " 9   Profile Visits  119 non-null    int64 \n",
      " 10  Follows         119 non-null    int64 \n",
      " 11  Caption         119 non-null    object\n",
      " 12  Hashtags        119 non-null    object\n",
      "dtypes: int64(11), object(2)\n",
      "memory usage: 12.2+ KB\n",
      "None\n"
     ]
    }
   ],
   "source": [
    "print(data.info())"
   ]
  },
  {
   "cell_type": "code",
   "execution_count": 29,
   "metadata": {},
   "outputs": [
    {
     "name": "stdout",
     "output_type": "stream",
     "text": [
      "        Impressions     From Home  From Hashtags  From Explore   From Other  \\\n",
      "count    119.000000    119.000000     119.000000    119.000000   119.000000   \n",
      "mean    5703.991597   2475.789916    1887.512605   1078.100840   171.092437   \n",
      "std     4843.780105   1489.386348    1884.361443   2613.026132   289.431031   \n",
      "min     1941.000000   1133.000000     116.000000      0.000000     9.000000   \n",
      "25%     3467.000000   1945.000000     726.000000    157.500000    38.000000   \n",
      "50%     4289.000000   2207.000000    1278.000000    326.000000    74.000000   \n",
      "75%     6138.000000   2602.500000    2363.500000    689.500000   196.000000   \n",
      "max    36919.000000  13473.000000   11817.000000  17414.000000  2547.000000   \n",
      "\n",
      "             Saves    Comments      Shares       Likes  Profile Visits  \\\n",
      "count   119.000000  119.000000  119.000000  119.000000      119.000000   \n",
      "mean    153.310924    6.663866    9.361345  173.781513       50.621849   \n",
      "std     156.317731    3.544576   10.089205   82.378947       87.088402   \n",
      "min      22.000000    0.000000    0.000000   72.000000        4.000000   \n",
      "25%      65.000000    4.000000    3.000000  121.500000       15.000000   \n",
      "50%     109.000000    6.000000    6.000000  151.000000       23.000000   \n",
      "75%     169.000000    8.000000   13.500000  204.000000       42.000000   \n",
      "max    1095.000000   19.000000   75.000000  549.000000      611.000000   \n",
      "\n",
      "          Follows  \n",
      "count  119.000000  \n",
      "mean    20.756303  \n",
      "std     40.921580  \n",
      "min      0.000000  \n",
      "25%      4.000000  \n",
      "50%      8.000000  \n",
      "75%     18.000000  \n",
      "max    260.000000  \n"
     ]
    }
   ],
   "source": [
    "print(data.describe())"
   ]
  },
  {
   "cell_type": "code",
   "execution_count": 30,
   "metadata": {},
   "outputs": [
    {
     "name": "stdout",
     "output_type": "stream",
     "text": [
      "Impressions       0\n",
      "From Home         0\n",
      "From Hashtags     0\n",
      "From Explore      0\n",
      "From Other        0\n",
      "Saves             0\n",
      "Comments          0\n",
      "Shares            0\n",
      "Likes             0\n",
      "Profile Visits    0\n",
      "Follows           0\n",
      "Caption           0\n",
      "Hashtags          0\n",
      "dtype: int64\n"
     ]
    }
   ],
   "source": [
    "print(data.isnull().sum())"
   ]
  },
  {
   "cell_type": "code",
   "execution_count": 31,
   "metadata": {},
   "outputs": [
    {
     "data": {
      "application/vnd.plotly.v1+json": {
       "config": {
        "plotlyServerURL": "https://plot.ly"
       },
       "data": [
        {
         "alignmentgroup": "True",
         "bingroup": "x",
         "hovertemplate": "Impressions=%{x}<br>count=%{y}<extra></extra>",
         "legendgroup": "",
         "marker": {
          "color": "#636efa",
          "pattern": {
           "shape": ""
          }
         },
         "name": "",
         "nbinsx": 10,
         "offsetgroup": "",
         "orientation": "v",
         "showlegend": false,
         "type": "histogram",
         "x": [
          3920,
          5394,
          4021,
          4528,
          2518,
          3884,
          2621,
          3541,
          3749,
          4115,
          2218,
          3234,
          4344,
          3216,
          9453,
          5055,
          4002,
          3169,
          6168,
          2407,
          2064,
          3973,
          7281,
          3052,
          4628,
          4082,
          5394,
          2766,
          3924,
          3015,
          6666,
          3854,
          4355,
          4343,
          6108,
          2523,
          2327,
          3990,
          2191,
          1941,
          16062,
          4998,
          4289,
          3880,
          3786,
          4298,
          3630,
          2826,
          7407,
          10386,
          2998,
          7018,
          2941,
          6432,
          10667,
          3988,
          4978,
          3388,
          4467,
          3246,
          5072,
          6339,
          4239,
          3454,
          7571,
          3333,
          3818,
          10933,
          5058,
          3601,
          3480,
          3525,
          3606,
          5542,
          6559,
          3623,
          10493,
          4446,
          2957,
          5538,
          4681,
          5273,
          5055,
          4002,
          3169,
          6168,
          2407,
          3630,
          2826,
          7407,
          10386,
          2998,
          3052,
          4628,
          4082,
          5394,
          2766,
          3924,
          3015,
          5409,
          5323,
          8001,
          4150,
          4609,
          6348,
          11068,
          7231,
          17396,
          6814,
          17713,
          5563,
          4842,
          11149,
          10206,
          13700,
          5731,
          4139,
          32695,
          36919
         ],
         "xaxis": "x",
         "yaxis": "y"
        }
       ],
       "layout": {
        "barmode": "relative",
        "legend": {
         "tracegroupgap": 0
        },
        "template": {
         "data": {
          "bar": [
           {
            "error_x": {
             "color": "#2a3f5f"
            },
            "error_y": {
             "color": "#2a3f5f"
            },
            "marker": {
             "line": {
              "color": "white",
              "width": 0.5
             },
             "pattern": {
              "fillmode": "overlay",
              "size": 10,
              "solidity": 0.2
             }
            },
            "type": "bar"
           }
          ],
          "barpolar": [
           {
            "marker": {
             "line": {
              "color": "white",
              "width": 0.5
             },
             "pattern": {
              "fillmode": "overlay",
              "size": 10,
              "solidity": 0.2
             }
            },
            "type": "barpolar"
           }
          ],
          "carpet": [
           {
            "aaxis": {
             "endlinecolor": "#2a3f5f",
             "gridcolor": "#C8D4E3",
             "linecolor": "#C8D4E3",
             "minorgridcolor": "#C8D4E3",
             "startlinecolor": "#2a3f5f"
            },
            "baxis": {
             "endlinecolor": "#2a3f5f",
             "gridcolor": "#C8D4E3",
             "linecolor": "#C8D4E3",
             "minorgridcolor": "#C8D4E3",
             "startlinecolor": "#2a3f5f"
            },
            "type": "carpet"
           }
          ],
          "choropleth": [
           {
            "colorbar": {
             "outlinewidth": 0,
             "ticks": ""
            },
            "type": "choropleth"
           }
          ],
          "contour": [
           {
            "colorbar": {
             "outlinewidth": 0,
             "ticks": ""
            },
            "colorscale": [
             [
              0,
              "#0d0887"
             ],
             [
              0.1111111111111111,
              "#46039f"
             ],
             [
              0.2222222222222222,
              "#7201a8"
             ],
             [
              0.3333333333333333,
              "#9c179e"
             ],
             [
              0.4444444444444444,
              "#bd3786"
             ],
             [
              0.5555555555555556,
              "#d8576b"
             ],
             [
              0.6666666666666666,
              "#ed7953"
             ],
             [
              0.7777777777777778,
              "#fb9f3a"
             ],
             [
              0.8888888888888888,
              "#fdca26"
             ],
             [
              1,
              "#f0f921"
             ]
            ],
            "type": "contour"
           }
          ],
          "contourcarpet": [
           {
            "colorbar": {
             "outlinewidth": 0,
             "ticks": ""
            },
            "type": "contourcarpet"
           }
          ],
          "heatmap": [
           {
            "colorbar": {
             "outlinewidth": 0,
             "ticks": ""
            },
            "colorscale": [
             [
              0,
              "#0d0887"
             ],
             [
              0.1111111111111111,
              "#46039f"
             ],
             [
              0.2222222222222222,
              "#7201a8"
             ],
             [
              0.3333333333333333,
              "#9c179e"
             ],
             [
              0.4444444444444444,
              "#bd3786"
             ],
             [
              0.5555555555555556,
              "#d8576b"
             ],
             [
              0.6666666666666666,
              "#ed7953"
             ],
             [
              0.7777777777777778,
              "#fb9f3a"
             ],
             [
              0.8888888888888888,
              "#fdca26"
             ],
             [
              1,
              "#f0f921"
             ]
            ],
            "type": "heatmap"
           }
          ],
          "heatmapgl": [
           {
            "colorbar": {
             "outlinewidth": 0,
             "ticks": ""
            },
            "colorscale": [
             [
              0,
              "#0d0887"
             ],
             [
              0.1111111111111111,
              "#46039f"
             ],
             [
              0.2222222222222222,
              "#7201a8"
             ],
             [
              0.3333333333333333,
              "#9c179e"
             ],
             [
              0.4444444444444444,
              "#bd3786"
             ],
             [
              0.5555555555555556,
              "#d8576b"
             ],
             [
              0.6666666666666666,
              "#ed7953"
             ],
             [
              0.7777777777777778,
              "#fb9f3a"
             ],
             [
              0.8888888888888888,
              "#fdca26"
             ],
             [
              1,
              "#f0f921"
             ]
            ],
            "type": "heatmapgl"
           }
          ],
          "histogram": [
           {
            "marker": {
             "pattern": {
              "fillmode": "overlay",
              "size": 10,
              "solidity": 0.2
             }
            },
            "type": "histogram"
           }
          ],
          "histogram2d": [
           {
            "colorbar": {
             "outlinewidth": 0,
             "ticks": ""
            },
            "colorscale": [
             [
              0,
              "#0d0887"
             ],
             [
              0.1111111111111111,
              "#46039f"
             ],
             [
              0.2222222222222222,
              "#7201a8"
             ],
             [
              0.3333333333333333,
              "#9c179e"
             ],
             [
              0.4444444444444444,
              "#bd3786"
             ],
             [
              0.5555555555555556,
              "#d8576b"
             ],
             [
              0.6666666666666666,
              "#ed7953"
             ],
             [
              0.7777777777777778,
              "#fb9f3a"
             ],
             [
              0.8888888888888888,
              "#fdca26"
             ],
             [
              1,
              "#f0f921"
             ]
            ],
            "type": "histogram2d"
           }
          ],
          "histogram2dcontour": [
           {
            "colorbar": {
             "outlinewidth": 0,
             "ticks": ""
            },
            "colorscale": [
             [
              0,
              "#0d0887"
             ],
             [
              0.1111111111111111,
              "#46039f"
             ],
             [
              0.2222222222222222,
              "#7201a8"
             ],
             [
              0.3333333333333333,
              "#9c179e"
             ],
             [
              0.4444444444444444,
              "#bd3786"
             ],
             [
              0.5555555555555556,
              "#d8576b"
             ],
             [
              0.6666666666666666,
              "#ed7953"
             ],
             [
              0.7777777777777778,
              "#fb9f3a"
             ],
             [
              0.8888888888888888,
              "#fdca26"
             ],
             [
              1,
              "#f0f921"
             ]
            ],
            "type": "histogram2dcontour"
           }
          ],
          "mesh3d": [
           {
            "colorbar": {
             "outlinewidth": 0,
             "ticks": ""
            },
            "type": "mesh3d"
           }
          ],
          "parcoords": [
           {
            "line": {
             "colorbar": {
              "outlinewidth": 0,
              "ticks": ""
             }
            },
            "type": "parcoords"
           }
          ],
          "pie": [
           {
            "automargin": true,
            "type": "pie"
           }
          ],
          "scatter": [
           {
            "fillpattern": {
             "fillmode": "overlay",
             "size": 10,
             "solidity": 0.2
            },
            "type": "scatter"
           }
          ],
          "scatter3d": [
           {
            "line": {
             "colorbar": {
              "outlinewidth": 0,
              "ticks": ""
             }
            },
            "marker": {
             "colorbar": {
              "outlinewidth": 0,
              "ticks": ""
             }
            },
            "type": "scatter3d"
           }
          ],
          "scattercarpet": [
           {
            "marker": {
             "colorbar": {
              "outlinewidth": 0,
              "ticks": ""
             }
            },
            "type": "scattercarpet"
           }
          ],
          "scattergeo": [
           {
            "marker": {
             "colorbar": {
              "outlinewidth": 0,
              "ticks": ""
             }
            },
            "type": "scattergeo"
           }
          ],
          "scattergl": [
           {
            "marker": {
             "colorbar": {
              "outlinewidth": 0,
              "ticks": ""
             }
            },
            "type": "scattergl"
           }
          ],
          "scattermapbox": [
           {
            "marker": {
             "colorbar": {
              "outlinewidth": 0,
              "ticks": ""
             }
            },
            "type": "scattermapbox"
           }
          ],
          "scatterpolar": [
           {
            "marker": {
             "colorbar": {
              "outlinewidth": 0,
              "ticks": ""
             }
            },
            "type": "scatterpolar"
           }
          ],
          "scatterpolargl": [
           {
            "marker": {
             "colorbar": {
              "outlinewidth": 0,
              "ticks": ""
             }
            },
            "type": "scatterpolargl"
           }
          ],
          "scatterternary": [
           {
            "marker": {
             "colorbar": {
              "outlinewidth": 0,
              "ticks": ""
             }
            },
            "type": "scatterternary"
           }
          ],
          "surface": [
           {
            "colorbar": {
             "outlinewidth": 0,
             "ticks": ""
            },
            "colorscale": [
             [
              0,
              "#0d0887"
             ],
             [
              0.1111111111111111,
              "#46039f"
             ],
             [
              0.2222222222222222,
              "#7201a8"
             ],
             [
              0.3333333333333333,
              "#9c179e"
             ],
             [
              0.4444444444444444,
              "#bd3786"
             ],
             [
              0.5555555555555556,
              "#d8576b"
             ],
             [
              0.6666666666666666,
              "#ed7953"
             ],
             [
              0.7777777777777778,
              "#fb9f3a"
             ],
             [
              0.8888888888888888,
              "#fdca26"
             ],
             [
              1,
              "#f0f921"
             ]
            ],
            "type": "surface"
           }
          ],
          "table": [
           {
            "cells": {
             "fill": {
              "color": "#EBF0F8"
             },
             "line": {
              "color": "white"
             }
            },
            "header": {
             "fill": {
              "color": "#C8D4E3"
             },
             "line": {
              "color": "white"
             }
            },
            "type": "table"
           }
          ]
         },
         "layout": {
          "annotationdefaults": {
           "arrowcolor": "#2a3f5f",
           "arrowhead": 0,
           "arrowwidth": 1
          },
          "autotypenumbers": "strict",
          "coloraxis": {
           "colorbar": {
            "outlinewidth": 0,
            "ticks": ""
           }
          },
          "colorscale": {
           "diverging": [
            [
             0,
             "#8e0152"
            ],
            [
             0.1,
             "#c51b7d"
            ],
            [
             0.2,
             "#de77ae"
            ],
            [
             0.3,
             "#f1b6da"
            ],
            [
             0.4,
             "#fde0ef"
            ],
            [
             0.5,
             "#f7f7f7"
            ],
            [
             0.6,
             "#e6f5d0"
            ],
            [
             0.7,
             "#b8e186"
            ],
            [
             0.8,
             "#7fbc41"
            ],
            [
             0.9,
             "#4d9221"
            ],
            [
             1,
             "#276419"
            ]
           ],
           "sequential": [
            [
             0,
             "#0d0887"
            ],
            [
             0.1111111111111111,
             "#46039f"
            ],
            [
             0.2222222222222222,
             "#7201a8"
            ],
            [
             0.3333333333333333,
             "#9c179e"
            ],
            [
             0.4444444444444444,
             "#bd3786"
            ],
            [
             0.5555555555555556,
             "#d8576b"
            ],
            [
             0.6666666666666666,
             "#ed7953"
            ],
            [
             0.7777777777777778,
             "#fb9f3a"
            ],
            [
             0.8888888888888888,
             "#fdca26"
            ],
            [
             1,
             "#f0f921"
            ]
           ],
           "sequentialminus": [
            [
             0,
             "#0d0887"
            ],
            [
             0.1111111111111111,
             "#46039f"
            ],
            [
             0.2222222222222222,
             "#7201a8"
            ],
            [
             0.3333333333333333,
             "#9c179e"
            ],
            [
             0.4444444444444444,
             "#bd3786"
            ],
            [
             0.5555555555555556,
             "#d8576b"
            ],
            [
             0.6666666666666666,
             "#ed7953"
            ],
            [
             0.7777777777777778,
             "#fb9f3a"
            ],
            [
             0.8888888888888888,
             "#fdca26"
            ],
            [
             1,
             "#f0f921"
            ]
           ]
          },
          "colorway": [
           "#636efa",
           "#EF553B",
           "#00cc96",
           "#ab63fa",
           "#FFA15A",
           "#19d3f3",
           "#FF6692",
           "#B6E880",
           "#FF97FF",
           "#FECB52"
          ],
          "font": {
           "color": "#2a3f5f"
          },
          "geo": {
           "bgcolor": "white",
           "lakecolor": "white",
           "landcolor": "white",
           "showlakes": true,
           "showland": true,
           "subunitcolor": "#C8D4E3"
          },
          "hoverlabel": {
           "align": "left"
          },
          "hovermode": "closest",
          "mapbox": {
           "style": "light"
          },
          "paper_bgcolor": "white",
          "plot_bgcolor": "white",
          "polar": {
           "angularaxis": {
            "gridcolor": "#EBF0F8",
            "linecolor": "#EBF0F8",
            "ticks": ""
           },
           "bgcolor": "white",
           "radialaxis": {
            "gridcolor": "#EBF0F8",
            "linecolor": "#EBF0F8",
            "ticks": ""
           }
          },
          "scene": {
           "xaxis": {
            "backgroundcolor": "white",
            "gridcolor": "#DFE8F3",
            "gridwidth": 2,
            "linecolor": "#EBF0F8",
            "showbackground": true,
            "ticks": "",
            "zerolinecolor": "#EBF0F8"
           },
           "yaxis": {
            "backgroundcolor": "white",
            "gridcolor": "#DFE8F3",
            "gridwidth": 2,
            "linecolor": "#EBF0F8",
            "showbackground": true,
            "ticks": "",
            "zerolinecolor": "#EBF0F8"
           },
           "zaxis": {
            "backgroundcolor": "white",
            "gridcolor": "#DFE8F3",
            "gridwidth": 2,
            "linecolor": "#EBF0F8",
            "showbackground": true,
            "ticks": "",
            "zerolinecolor": "#EBF0F8"
           }
          },
          "shapedefaults": {
           "line": {
            "color": "#2a3f5f"
           }
          },
          "ternary": {
           "aaxis": {
            "gridcolor": "#DFE8F3",
            "linecolor": "#A2B1C6",
            "ticks": ""
           },
           "baxis": {
            "gridcolor": "#DFE8F3",
            "linecolor": "#A2B1C6",
            "ticks": ""
           },
           "bgcolor": "white",
           "caxis": {
            "gridcolor": "#DFE8F3",
            "linecolor": "#A2B1C6",
            "ticks": ""
           }
          },
          "title": {
           "x": 0.05
          },
          "xaxis": {
           "automargin": true,
           "gridcolor": "#EBF0F8",
           "linecolor": "#EBF0F8",
           "ticks": "",
           "title": {
            "standoff": 15
           },
           "zerolinecolor": "#EBF0F8",
           "zerolinewidth": 2
          },
          "yaxis": {
           "automargin": true,
           "gridcolor": "#EBF0F8",
           "linecolor": "#EBF0F8",
           "ticks": "",
           "title": {
            "standoff": 15
           },
           "zerolinecolor": "#EBF0F8",
           "zerolinewidth": 2
          }
         }
        },
        "title": {
         "text": "Distribution of Impressions"
        },
        "xaxis": {
         "anchor": "y",
         "domain": [
          0,
          1
         ],
         "title": {
          "text": "Impressions"
         }
        },
        "yaxis": {
         "anchor": "x",
         "domain": [
          0,
          1
         ],
         "title": {
          "text": "count"
         }
        }
       }
      }
     },
     "metadata": {},
     "output_type": "display_data"
    }
   ],
   "source": [
    "# Distribution of Impressions\n",
    "\n",
    "fig = px.histogram(data,\n",
    "                   x = \"Impressions\",\n",
    "                   nbins = 10,\n",
    "                   title = \"Distribution of Impressions\")\n",
    "fig.show()"
   ]
  },
  {
   "cell_type": "code",
   "execution_count": 32,
   "metadata": {},
   "outputs": [
    {
     "data": {
      "application/vnd.plotly.v1+json": {
       "config": {
        "plotlyServerURL": "https://plot.ly"
       },
       "data": [
        {
         "hovertemplate": "index=%{x}<br>Impressions=%{y}<extra></extra>",
         "legendgroup": "",
         "line": {
          "color": "#636efa",
          "dash": "solid"
         },
         "marker": {
          "symbol": "circle"
         },
         "mode": "lines",
         "name": "",
         "orientation": "v",
         "showlegend": false,
         "type": "scatter",
         "x": [
          0,
          1,
          2,
          3,
          4,
          5,
          6,
          7,
          8,
          9,
          10,
          11,
          12,
          13,
          14,
          15,
          16,
          17,
          18,
          19,
          20,
          21,
          22,
          23,
          24,
          25,
          26,
          27,
          28,
          29,
          30,
          31,
          32,
          33,
          34,
          35,
          36,
          37,
          38,
          39,
          40,
          41,
          42,
          43,
          44,
          45,
          46,
          47,
          48,
          49,
          50,
          51,
          52,
          53,
          54,
          55,
          56,
          57,
          58,
          59,
          60,
          61,
          62,
          63,
          64,
          65,
          66,
          67,
          68,
          69,
          70,
          71,
          72,
          73,
          74,
          75,
          76,
          77,
          78,
          79,
          80,
          81,
          82,
          83,
          84,
          85,
          86,
          87,
          88,
          89,
          90,
          91,
          92,
          93,
          94,
          95,
          96,
          97,
          98,
          99,
          100,
          101,
          102,
          103,
          104,
          105,
          106,
          107,
          108,
          109,
          110,
          111,
          112,
          113,
          114,
          115,
          116,
          117,
          118
         ],
         "xaxis": "x",
         "y": [
          3920,
          5394,
          4021,
          4528,
          2518,
          3884,
          2621,
          3541,
          3749,
          4115,
          2218,
          3234,
          4344,
          3216,
          9453,
          5055,
          4002,
          3169,
          6168,
          2407,
          2064,
          3973,
          7281,
          3052,
          4628,
          4082,
          5394,
          2766,
          3924,
          3015,
          6666,
          3854,
          4355,
          4343,
          6108,
          2523,
          2327,
          3990,
          2191,
          1941,
          16062,
          4998,
          4289,
          3880,
          3786,
          4298,
          3630,
          2826,
          7407,
          10386,
          2998,
          7018,
          2941,
          6432,
          10667,
          3988,
          4978,
          3388,
          4467,
          3246,
          5072,
          6339,
          4239,
          3454,
          7571,
          3333,
          3818,
          10933,
          5058,
          3601,
          3480,
          3525,
          3606,
          5542,
          6559,
          3623,
          10493,
          4446,
          2957,
          5538,
          4681,
          5273,
          5055,
          4002,
          3169,
          6168,
          2407,
          3630,
          2826,
          7407,
          10386,
          2998,
          3052,
          4628,
          4082,
          5394,
          2766,
          3924,
          3015,
          5409,
          5323,
          8001,
          4150,
          4609,
          6348,
          11068,
          7231,
          17396,
          6814,
          17713,
          5563,
          4842,
          11149,
          10206,
          13700,
          5731,
          4139,
          32695,
          36919
         ],
         "yaxis": "y"
        }
       ],
       "layout": {
        "legend": {
         "tracegroupgap": 0
        },
        "template": {
         "data": {
          "bar": [
           {
            "error_x": {
             "color": "#2a3f5f"
            },
            "error_y": {
             "color": "#2a3f5f"
            },
            "marker": {
             "line": {
              "color": "white",
              "width": 0.5
             },
             "pattern": {
              "fillmode": "overlay",
              "size": 10,
              "solidity": 0.2
             }
            },
            "type": "bar"
           }
          ],
          "barpolar": [
           {
            "marker": {
             "line": {
              "color": "white",
              "width": 0.5
             },
             "pattern": {
              "fillmode": "overlay",
              "size": 10,
              "solidity": 0.2
             }
            },
            "type": "barpolar"
           }
          ],
          "carpet": [
           {
            "aaxis": {
             "endlinecolor": "#2a3f5f",
             "gridcolor": "#C8D4E3",
             "linecolor": "#C8D4E3",
             "minorgridcolor": "#C8D4E3",
             "startlinecolor": "#2a3f5f"
            },
            "baxis": {
             "endlinecolor": "#2a3f5f",
             "gridcolor": "#C8D4E3",
             "linecolor": "#C8D4E3",
             "minorgridcolor": "#C8D4E3",
             "startlinecolor": "#2a3f5f"
            },
            "type": "carpet"
           }
          ],
          "choropleth": [
           {
            "colorbar": {
             "outlinewidth": 0,
             "ticks": ""
            },
            "type": "choropleth"
           }
          ],
          "contour": [
           {
            "colorbar": {
             "outlinewidth": 0,
             "ticks": ""
            },
            "colorscale": [
             [
              0,
              "#0d0887"
             ],
             [
              0.1111111111111111,
              "#46039f"
             ],
             [
              0.2222222222222222,
              "#7201a8"
             ],
             [
              0.3333333333333333,
              "#9c179e"
             ],
             [
              0.4444444444444444,
              "#bd3786"
             ],
             [
              0.5555555555555556,
              "#d8576b"
             ],
             [
              0.6666666666666666,
              "#ed7953"
             ],
             [
              0.7777777777777778,
              "#fb9f3a"
             ],
             [
              0.8888888888888888,
              "#fdca26"
             ],
             [
              1,
              "#f0f921"
             ]
            ],
            "type": "contour"
           }
          ],
          "contourcarpet": [
           {
            "colorbar": {
             "outlinewidth": 0,
             "ticks": ""
            },
            "type": "contourcarpet"
           }
          ],
          "heatmap": [
           {
            "colorbar": {
             "outlinewidth": 0,
             "ticks": ""
            },
            "colorscale": [
             [
              0,
              "#0d0887"
             ],
             [
              0.1111111111111111,
              "#46039f"
             ],
             [
              0.2222222222222222,
              "#7201a8"
             ],
             [
              0.3333333333333333,
              "#9c179e"
             ],
             [
              0.4444444444444444,
              "#bd3786"
             ],
             [
              0.5555555555555556,
              "#d8576b"
             ],
             [
              0.6666666666666666,
              "#ed7953"
             ],
             [
              0.7777777777777778,
              "#fb9f3a"
             ],
             [
              0.8888888888888888,
              "#fdca26"
             ],
             [
              1,
              "#f0f921"
             ]
            ],
            "type": "heatmap"
           }
          ],
          "heatmapgl": [
           {
            "colorbar": {
             "outlinewidth": 0,
             "ticks": ""
            },
            "colorscale": [
             [
              0,
              "#0d0887"
             ],
             [
              0.1111111111111111,
              "#46039f"
             ],
             [
              0.2222222222222222,
              "#7201a8"
             ],
             [
              0.3333333333333333,
              "#9c179e"
             ],
             [
              0.4444444444444444,
              "#bd3786"
             ],
             [
              0.5555555555555556,
              "#d8576b"
             ],
             [
              0.6666666666666666,
              "#ed7953"
             ],
             [
              0.7777777777777778,
              "#fb9f3a"
             ],
             [
              0.8888888888888888,
              "#fdca26"
             ],
             [
              1,
              "#f0f921"
             ]
            ],
            "type": "heatmapgl"
           }
          ],
          "histogram": [
           {
            "marker": {
             "pattern": {
              "fillmode": "overlay",
              "size": 10,
              "solidity": 0.2
             }
            },
            "type": "histogram"
           }
          ],
          "histogram2d": [
           {
            "colorbar": {
             "outlinewidth": 0,
             "ticks": ""
            },
            "colorscale": [
             [
              0,
              "#0d0887"
             ],
             [
              0.1111111111111111,
              "#46039f"
             ],
             [
              0.2222222222222222,
              "#7201a8"
             ],
             [
              0.3333333333333333,
              "#9c179e"
             ],
             [
              0.4444444444444444,
              "#bd3786"
             ],
             [
              0.5555555555555556,
              "#d8576b"
             ],
             [
              0.6666666666666666,
              "#ed7953"
             ],
             [
              0.7777777777777778,
              "#fb9f3a"
             ],
             [
              0.8888888888888888,
              "#fdca26"
             ],
             [
              1,
              "#f0f921"
             ]
            ],
            "type": "histogram2d"
           }
          ],
          "histogram2dcontour": [
           {
            "colorbar": {
             "outlinewidth": 0,
             "ticks": ""
            },
            "colorscale": [
             [
              0,
              "#0d0887"
             ],
             [
              0.1111111111111111,
              "#46039f"
             ],
             [
              0.2222222222222222,
              "#7201a8"
             ],
             [
              0.3333333333333333,
              "#9c179e"
             ],
             [
              0.4444444444444444,
              "#bd3786"
             ],
             [
              0.5555555555555556,
              "#d8576b"
             ],
             [
              0.6666666666666666,
              "#ed7953"
             ],
             [
              0.7777777777777778,
              "#fb9f3a"
             ],
             [
              0.8888888888888888,
              "#fdca26"
             ],
             [
              1,
              "#f0f921"
             ]
            ],
            "type": "histogram2dcontour"
           }
          ],
          "mesh3d": [
           {
            "colorbar": {
             "outlinewidth": 0,
             "ticks": ""
            },
            "type": "mesh3d"
           }
          ],
          "parcoords": [
           {
            "line": {
             "colorbar": {
              "outlinewidth": 0,
              "ticks": ""
             }
            },
            "type": "parcoords"
           }
          ],
          "pie": [
           {
            "automargin": true,
            "type": "pie"
           }
          ],
          "scatter": [
           {
            "fillpattern": {
             "fillmode": "overlay",
             "size": 10,
             "solidity": 0.2
            },
            "type": "scatter"
           }
          ],
          "scatter3d": [
           {
            "line": {
             "colorbar": {
              "outlinewidth": 0,
              "ticks": ""
             }
            },
            "marker": {
             "colorbar": {
              "outlinewidth": 0,
              "ticks": ""
             }
            },
            "type": "scatter3d"
           }
          ],
          "scattercarpet": [
           {
            "marker": {
             "colorbar": {
              "outlinewidth": 0,
              "ticks": ""
             }
            },
            "type": "scattercarpet"
           }
          ],
          "scattergeo": [
           {
            "marker": {
             "colorbar": {
              "outlinewidth": 0,
              "ticks": ""
             }
            },
            "type": "scattergeo"
           }
          ],
          "scattergl": [
           {
            "marker": {
             "colorbar": {
              "outlinewidth": 0,
              "ticks": ""
             }
            },
            "type": "scattergl"
           }
          ],
          "scattermapbox": [
           {
            "marker": {
             "colorbar": {
              "outlinewidth": 0,
              "ticks": ""
             }
            },
            "type": "scattermapbox"
           }
          ],
          "scatterpolar": [
           {
            "marker": {
             "colorbar": {
              "outlinewidth": 0,
              "ticks": ""
             }
            },
            "type": "scatterpolar"
           }
          ],
          "scatterpolargl": [
           {
            "marker": {
             "colorbar": {
              "outlinewidth": 0,
              "ticks": ""
             }
            },
            "type": "scatterpolargl"
           }
          ],
          "scatterternary": [
           {
            "marker": {
             "colorbar": {
              "outlinewidth": 0,
              "ticks": ""
             }
            },
            "type": "scatterternary"
           }
          ],
          "surface": [
           {
            "colorbar": {
             "outlinewidth": 0,
             "ticks": ""
            },
            "colorscale": [
             [
              0,
              "#0d0887"
             ],
             [
              0.1111111111111111,
              "#46039f"
             ],
             [
              0.2222222222222222,
              "#7201a8"
             ],
             [
              0.3333333333333333,
              "#9c179e"
             ],
             [
              0.4444444444444444,
              "#bd3786"
             ],
             [
              0.5555555555555556,
              "#d8576b"
             ],
             [
              0.6666666666666666,
              "#ed7953"
             ],
             [
              0.7777777777777778,
              "#fb9f3a"
             ],
             [
              0.8888888888888888,
              "#fdca26"
             ],
             [
              1,
              "#f0f921"
             ]
            ],
            "type": "surface"
           }
          ],
          "table": [
           {
            "cells": {
             "fill": {
              "color": "#EBF0F8"
             },
             "line": {
              "color": "white"
             }
            },
            "header": {
             "fill": {
              "color": "#C8D4E3"
             },
             "line": {
              "color": "white"
             }
            },
            "type": "table"
           }
          ]
         },
         "layout": {
          "annotationdefaults": {
           "arrowcolor": "#2a3f5f",
           "arrowhead": 0,
           "arrowwidth": 1
          },
          "autotypenumbers": "strict",
          "coloraxis": {
           "colorbar": {
            "outlinewidth": 0,
            "ticks": ""
           }
          },
          "colorscale": {
           "diverging": [
            [
             0,
             "#8e0152"
            ],
            [
             0.1,
             "#c51b7d"
            ],
            [
             0.2,
             "#de77ae"
            ],
            [
             0.3,
             "#f1b6da"
            ],
            [
             0.4,
             "#fde0ef"
            ],
            [
             0.5,
             "#f7f7f7"
            ],
            [
             0.6,
             "#e6f5d0"
            ],
            [
             0.7,
             "#b8e186"
            ],
            [
             0.8,
             "#7fbc41"
            ],
            [
             0.9,
             "#4d9221"
            ],
            [
             1,
             "#276419"
            ]
           ],
           "sequential": [
            [
             0,
             "#0d0887"
            ],
            [
             0.1111111111111111,
             "#46039f"
            ],
            [
             0.2222222222222222,
             "#7201a8"
            ],
            [
             0.3333333333333333,
             "#9c179e"
            ],
            [
             0.4444444444444444,
             "#bd3786"
            ],
            [
             0.5555555555555556,
             "#d8576b"
            ],
            [
             0.6666666666666666,
             "#ed7953"
            ],
            [
             0.7777777777777778,
             "#fb9f3a"
            ],
            [
             0.8888888888888888,
             "#fdca26"
            ],
            [
             1,
             "#f0f921"
            ]
           ],
           "sequentialminus": [
            [
             0,
             "#0d0887"
            ],
            [
             0.1111111111111111,
             "#46039f"
            ],
            [
             0.2222222222222222,
             "#7201a8"
            ],
            [
             0.3333333333333333,
             "#9c179e"
            ],
            [
             0.4444444444444444,
             "#bd3786"
            ],
            [
             0.5555555555555556,
             "#d8576b"
            ],
            [
             0.6666666666666666,
             "#ed7953"
            ],
            [
             0.7777777777777778,
             "#fb9f3a"
            ],
            [
             0.8888888888888888,
             "#fdca26"
            ],
            [
             1,
             "#f0f921"
            ]
           ]
          },
          "colorway": [
           "#636efa",
           "#EF553B",
           "#00cc96",
           "#ab63fa",
           "#FFA15A",
           "#19d3f3",
           "#FF6692",
           "#B6E880",
           "#FF97FF",
           "#FECB52"
          ],
          "font": {
           "color": "#2a3f5f"
          },
          "geo": {
           "bgcolor": "white",
           "lakecolor": "white",
           "landcolor": "white",
           "showlakes": true,
           "showland": true,
           "subunitcolor": "#C8D4E3"
          },
          "hoverlabel": {
           "align": "left"
          },
          "hovermode": "closest",
          "mapbox": {
           "style": "light"
          },
          "paper_bgcolor": "white",
          "plot_bgcolor": "white",
          "polar": {
           "angularaxis": {
            "gridcolor": "#EBF0F8",
            "linecolor": "#EBF0F8",
            "ticks": ""
           },
           "bgcolor": "white",
           "radialaxis": {
            "gridcolor": "#EBF0F8",
            "linecolor": "#EBF0F8",
            "ticks": ""
           }
          },
          "scene": {
           "xaxis": {
            "backgroundcolor": "white",
            "gridcolor": "#DFE8F3",
            "gridwidth": 2,
            "linecolor": "#EBF0F8",
            "showbackground": true,
            "ticks": "",
            "zerolinecolor": "#EBF0F8"
           },
           "yaxis": {
            "backgroundcolor": "white",
            "gridcolor": "#DFE8F3",
            "gridwidth": 2,
            "linecolor": "#EBF0F8",
            "showbackground": true,
            "ticks": "",
            "zerolinecolor": "#EBF0F8"
           },
           "zaxis": {
            "backgroundcolor": "white",
            "gridcolor": "#DFE8F3",
            "gridwidth": 2,
            "linecolor": "#EBF0F8",
            "showbackground": true,
            "ticks": "",
            "zerolinecolor": "#EBF0F8"
           }
          },
          "shapedefaults": {
           "line": {
            "color": "#2a3f5f"
           }
          },
          "ternary": {
           "aaxis": {
            "gridcolor": "#DFE8F3",
            "linecolor": "#A2B1C6",
            "ticks": ""
           },
           "baxis": {
            "gridcolor": "#DFE8F3",
            "linecolor": "#A2B1C6",
            "ticks": ""
           },
           "bgcolor": "white",
           "caxis": {
            "gridcolor": "#DFE8F3",
            "linecolor": "#A2B1C6",
            "ticks": ""
           }
          },
          "title": {
           "x": 0.05
          },
          "xaxis": {
           "automargin": true,
           "gridcolor": "#EBF0F8",
           "linecolor": "#EBF0F8",
           "ticks": "",
           "title": {
            "standoff": 15
           },
           "zerolinecolor": "#EBF0F8",
           "zerolinewidth": 2
          },
          "yaxis": {
           "automargin": true,
           "gridcolor": "#EBF0F8",
           "linecolor": "#EBF0F8",
           "ticks": "",
           "title": {
            "standoff": 15
           },
           "zerolinecolor": "#EBF0F8",
           "zerolinewidth": 2
          }
         }
        },
        "title": {
         "text": "Impressions Over Time"
        },
        "xaxis": {
         "anchor": "y",
         "domain": [
          0,
          1
         ],
         "title": {
          "text": "index"
         }
        },
        "yaxis": {
         "anchor": "x",
         "domain": [
          0,
          1
         ],
         "title": {
          "text": "Impressions"
         }
        }
       }
      }
     },
     "metadata": {},
     "output_type": "display_data"
    }
   ],
   "source": [
    "# Impressions on each post over time\n",
    "\n",
    "fig = px.line(data, x = data.index,\n",
    "              y = \"Impressions\",\n",
    "              title = \"Impressions Over Time\")\n",
    "fig.show()"
   ]
  },
  {
   "cell_type": "code",
   "execution_count": 33,
   "metadata": {},
   "outputs": [
    {
     "data": {
      "application/vnd.plotly.v1+json": {
       "config": {
        "plotlyServerURL": "https://plot.ly"
       },
       "data": [
        {
         "name": "Likes",
         "type": "scatter",
         "x": [
          0,
          1,
          2,
          3,
          4,
          5,
          6,
          7,
          8,
          9,
          10,
          11,
          12,
          13,
          14,
          15,
          16,
          17,
          18,
          19,
          20,
          21,
          22,
          23,
          24,
          25,
          26,
          27,
          28,
          29,
          30,
          31,
          32,
          33,
          34,
          35,
          36,
          37,
          38,
          39,
          40,
          41,
          42,
          43,
          44,
          45,
          46,
          47,
          48,
          49,
          50,
          51,
          52,
          53,
          54,
          55,
          56,
          57,
          58,
          59,
          60,
          61,
          62,
          63,
          64,
          65,
          66,
          67,
          68,
          69,
          70,
          71,
          72,
          73,
          74,
          75,
          76,
          77,
          78,
          79,
          80,
          81,
          82,
          83,
          84,
          85,
          86,
          87,
          88,
          89,
          90,
          91,
          92,
          93,
          94,
          95,
          96,
          97,
          98,
          99,
          100,
          101,
          102,
          103,
          104,
          105,
          106,
          107,
          108,
          109,
          110,
          111,
          112,
          113,
          114,
          115,
          116,
          117,
          118
         ],
         "y": [
          162,
          224,
          131,
          213,
          123,
          144,
          76,
          124,
          159,
          191,
          81,
          151,
          162,
          142,
          294,
          159,
          205,
          121,
          151,
          72,
          76,
          91,
          195,
          129,
          160,
          175,
          147,
          114,
          151,
          92,
          214,
          150,
          122,
          152,
          196,
          86,
          85,
          156,
          72,
          82,
          416,
          180,
          150,
          127,
          167,
          225,
          137,
          114,
          263,
          328,
          126,
          236,
          99,
          212,
          297,
          142,
          186,
          112,
          149,
          132,
          115,
          248,
          178,
          107,
          269,
          96,
          134,
          301,
          187,
          94,
          114,
          96,
          138,
          122,
          257,
          95,
          244,
          190,
          118,
          178,
          170,
          250,
          159,
          205,
          121,
          151,
          72,
          137,
          114,
          263,
          328,
          126,
          129,
          160,
          175,
          147,
          114,
          151,
          92,
          275,
          192,
          203,
          145,
          168,
          194,
          250,
          171,
          416,
          249,
          308,
          163,
          86,
          210,
          172,
          373,
          148,
          92,
          549,
          443
         ]
        },
        {
         "name": "Saves",
         "type": "scatter",
         "x": [
          0,
          1,
          2,
          3,
          4,
          5,
          6,
          7,
          8,
          9,
          10,
          11,
          12,
          13,
          14,
          15,
          16,
          17,
          18,
          19,
          20,
          21,
          22,
          23,
          24,
          25,
          26,
          27,
          28,
          29,
          30,
          31,
          32,
          33,
          34,
          35,
          36,
          37,
          38,
          39,
          40,
          41,
          42,
          43,
          44,
          45,
          46,
          47,
          48,
          49,
          50,
          51,
          52,
          53,
          54,
          55,
          56,
          57,
          58,
          59,
          60,
          61,
          62,
          63,
          64,
          65,
          66,
          67,
          68,
          69,
          70,
          71,
          72,
          73,
          74,
          75,
          76,
          77,
          78,
          79,
          80,
          81,
          82,
          83,
          84,
          85,
          86,
          87,
          88,
          89,
          90,
          91,
          92,
          93,
          94,
          95,
          96,
          97,
          98,
          99,
          100,
          101,
          102,
          103,
          104,
          105,
          106,
          107,
          108,
          109,
          110,
          111,
          112,
          113,
          114,
          115,
          116,
          117,
          118
         ],
         "y": [
          98,
          194,
          41,
          172,
          96,
          74,
          22,
          135,
          155,
          122,
          28,
          122,
          119,
          121,
          100,
          101,
          111,
          106,
          82,
          40,
          49,
          72,
          167,
          63,
          144,
          135,
          61,
          40,
          139,
          52,
          84,
          81,
          79,
          105,
          90,
          34,
          45,
          98,
          35,
          49,
          252,
          167,
          111,
          90,
          144,
          263,
          137,
          67,
          288,
          668,
          42,
          342,
          48,
          250,
          219,
          118,
          143,
          99,
          89,
          148,
          42,
          171,
          109,
          38,
          421,
          38,
          116,
          225,
          144,
          51,
          104,
          33,
          174,
          46,
          179,
          34,
          99,
          174,
          70,
          149,
          207,
          318,
          101,
          111,
          106,
          82,
          40,
          137,
          67,
          288,
          668,
          42,
          63,
          144,
          135,
          61,
          40,
          139,
          52,
          393,
          152,
          83,
          74,
          94,
          188,
          214,
          73,
          285,
          469,
          504,
          149,
          55,
          273,
          182,
          573,
          135,
          36,
          1095,
          653
         ]
        },
        {
         "name": "Follows",
         "type": "scatter",
         "x": [
          0,
          1,
          2,
          3,
          4,
          5,
          6,
          7,
          8,
          9,
          10,
          11,
          12,
          13,
          14,
          15,
          16,
          17,
          18,
          19,
          20,
          21,
          22,
          23,
          24,
          25,
          26,
          27,
          28,
          29,
          30,
          31,
          32,
          33,
          34,
          35,
          36,
          37,
          38,
          39,
          40,
          41,
          42,
          43,
          44,
          45,
          46,
          47,
          48,
          49,
          50,
          51,
          52,
          53,
          54,
          55,
          56,
          57,
          58,
          59,
          60,
          61,
          62,
          63,
          64,
          65,
          66,
          67,
          68,
          69,
          70,
          71,
          72,
          73,
          74,
          75,
          76,
          77,
          78,
          79,
          80,
          81,
          82,
          83,
          84,
          85,
          86,
          87,
          88,
          89,
          90,
          91,
          92,
          93,
          94,
          95,
          96,
          97,
          98,
          99,
          100,
          101,
          102,
          103,
          104,
          105,
          106,
          107,
          108,
          109,
          110,
          111,
          112,
          113,
          114,
          115,
          116,
          117,
          118
         ],
         "y": [
          2,
          10,
          12,
          8,
          0,
          2,
          0,
          6,
          4,
          6,
          4,
          0,
          2,
          4,
          42,
          6,
          2,
          2,
          30,
          0,
          0,
          24,
          100,
          2,
          4,
          6,
          6,
          6,
          2,
          2,
          20,
          2,
          4,
          8,
          26,
          2,
          2,
          4,
          0,
          2,
          94,
          8,
          18,
          10,
          4,
          4,
          4,
          4,
          18,
          38,
          10,
          12,
          4,
          4,
          74,
          0,
          6,
          6,
          0,
          6,
          12,
          10,
          8,
          8,
          46,
          12,
          10,
          94,
          6,
          10,
          6,
          4,
          12,
          16,
          12,
          8,
          32,
          8,
          16,
          6,
          10,
          10,
          6,
          2,
          2,
          30,
          0,
          4,
          4,
          18,
          38,
          10,
          2,
          4,
          6,
          6,
          6,
          2,
          2,
          14,
          8,
          14,
          28,
          18,
          12,
          34,
          26,
          260,
          16,
          96,
          20,
          30,
          58,
          100,
          80,
          18,
          10,
          214,
          228
         ]
        }
       ],
       "layout": {
        "template": {
         "data": {
          "bar": [
           {
            "error_x": {
             "color": "#2a3f5f"
            },
            "error_y": {
             "color": "#2a3f5f"
            },
            "marker": {
             "line": {
              "color": "white",
              "width": 0.5
             },
             "pattern": {
              "fillmode": "overlay",
              "size": 10,
              "solidity": 0.2
             }
            },
            "type": "bar"
           }
          ],
          "barpolar": [
           {
            "marker": {
             "line": {
              "color": "white",
              "width": 0.5
             },
             "pattern": {
              "fillmode": "overlay",
              "size": 10,
              "solidity": 0.2
             }
            },
            "type": "barpolar"
           }
          ],
          "carpet": [
           {
            "aaxis": {
             "endlinecolor": "#2a3f5f",
             "gridcolor": "#C8D4E3",
             "linecolor": "#C8D4E3",
             "minorgridcolor": "#C8D4E3",
             "startlinecolor": "#2a3f5f"
            },
            "baxis": {
             "endlinecolor": "#2a3f5f",
             "gridcolor": "#C8D4E3",
             "linecolor": "#C8D4E3",
             "minorgridcolor": "#C8D4E3",
             "startlinecolor": "#2a3f5f"
            },
            "type": "carpet"
           }
          ],
          "choropleth": [
           {
            "colorbar": {
             "outlinewidth": 0,
             "ticks": ""
            },
            "type": "choropleth"
           }
          ],
          "contour": [
           {
            "colorbar": {
             "outlinewidth": 0,
             "ticks": ""
            },
            "colorscale": [
             [
              0,
              "#0d0887"
             ],
             [
              0.1111111111111111,
              "#46039f"
             ],
             [
              0.2222222222222222,
              "#7201a8"
             ],
             [
              0.3333333333333333,
              "#9c179e"
             ],
             [
              0.4444444444444444,
              "#bd3786"
             ],
             [
              0.5555555555555556,
              "#d8576b"
             ],
             [
              0.6666666666666666,
              "#ed7953"
             ],
             [
              0.7777777777777778,
              "#fb9f3a"
             ],
             [
              0.8888888888888888,
              "#fdca26"
             ],
             [
              1,
              "#f0f921"
             ]
            ],
            "type": "contour"
           }
          ],
          "contourcarpet": [
           {
            "colorbar": {
             "outlinewidth": 0,
             "ticks": ""
            },
            "type": "contourcarpet"
           }
          ],
          "heatmap": [
           {
            "colorbar": {
             "outlinewidth": 0,
             "ticks": ""
            },
            "colorscale": [
             [
              0,
              "#0d0887"
             ],
             [
              0.1111111111111111,
              "#46039f"
             ],
             [
              0.2222222222222222,
              "#7201a8"
             ],
             [
              0.3333333333333333,
              "#9c179e"
             ],
             [
              0.4444444444444444,
              "#bd3786"
             ],
             [
              0.5555555555555556,
              "#d8576b"
             ],
             [
              0.6666666666666666,
              "#ed7953"
             ],
             [
              0.7777777777777778,
              "#fb9f3a"
             ],
             [
              0.8888888888888888,
              "#fdca26"
             ],
             [
              1,
              "#f0f921"
             ]
            ],
            "type": "heatmap"
           }
          ],
          "heatmapgl": [
           {
            "colorbar": {
             "outlinewidth": 0,
             "ticks": ""
            },
            "colorscale": [
             [
              0,
              "#0d0887"
             ],
             [
              0.1111111111111111,
              "#46039f"
             ],
             [
              0.2222222222222222,
              "#7201a8"
             ],
             [
              0.3333333333333333,
              "#9c179e"
             ],
             [
              0.4444444444444444,
              "#bd3786"
             ],
             [
              0.5555555555555556,
              "#d8576b"
             ],
             [
              0.6666666666666666,
              "#ed7953"
             ],
             [
              0.7777777777777778,
              "#fb9f3a"
             ],
             [
              0.8888888888888888,
              "#fdca26"
             ],
             [
              1,
              "#f0f921"
             ]
            ],
            "type": "heatmapgl"
           }
          ],
          "histogram": [
           {
            "marker": {
             "pattern": {
              "fillmode": "overlay",
              "size": 10,
              "solidity": 0.2
             }
            },
            "type": "histogram"
           }
          ],
          "histogram2d": [
           {
            "colorbar": {
             "outlinewidth": 0,
             "ticks": ""
            },
            "colorscale": [
             [
              0,
              "#0d0887"
             ],
             [
              0.1111111111111111,
              "#46039f"
             ],
             [
              0.2222222222222222,
              "#7201a8"
             ],
             [
              0.3333333333333333,
              "#9c179e"
             ],
             [
              0.4444444444444444,
              "#bd3786"
             ],
             [
              0.5555555555555556,
              "#d8576b"
             ],
             [
              0.6666666666666666,
              "#ed7953"
             ],
             [
              0.7777777777777778,
              "#fb9f3a"
             ],
             [
              0.8888888888888888,
              "#fdca26"
             ],
             [
              1,
              "#f0f921"
             ]
            ],
            "type": "histogram2d"
           }
          ],
          "histogram2dcontour": [
           {
            "colorbar": {
             "outlinewidth": 0,
             "ticks": ""
            },
            "colorscale": [
             [
              0,
              "#0d0887"
             ],
             [
              0.1111111111111111,
              "#46039f"
             ],
             [
              0.2222222222222222,
              "#7201a8"
             ],
             [
              0.3333333333333333,
              "#9c179e"
             ],
             [
              0.4444444444444444,
              "#bd3786"
             ],
             [
              0.5555555555555556,
              "#d8576b"
             ],
             [
              0.6666666666666666,
              "#ed7953"
             ],
             [
              0.7777777777777778,
              "#fb9f3a"
             ],
             [
              0.8888888888888888,
              "#fdca26"
             ],
             [
              1,
              "#f0f921"
             ]
            ],
            "type": "histogram2dcontour"
           }
          ],
          "mesh3d": [
           {
            "colorbar": {
             "outlinewidth": 0,
             "ticks": ""
            },
            "type": "mesh3d"
           }
          ],
          "parcoords": [
           {
            "line": {
             "colorbar": {
              "outlinewidth": 0,
              "ticks": ""
             }
            },
            "type": "parcoords"
           }
          ],
          "pie": [
           {
            "automargin": true,
            "type": "pie"
           }
          ],
          "scatter": [
           {
            "fillpattern": {
             "fillmode": "overlay",
             "size": 10,
             "solidity": 0.2
            },
            "type": "scatter"
           }
          ],
          "scatter3d": [
           {
            "line": {
             "colorbar": {
              "outlinewidth": 0,
              "ticks": ""
             }
            },
            "marker": {
             "colorbar": {
              "outlinewidth": 0,
              "ticks": ""
             }
            },
            "type": "scatter3d"
           }
          ],
          "scattercarpet": [
           {
            "marker": {
             "colorbar": {
              "outlinewidth": 0,
              "ticks": ""
             }
            },
            "type": "scattercarpet"
           }
          ],
          "scattergeo": [
           {
            "marker": {
             "colorbar": {
              "outlinewidth": 0,
              "ticks": ""
             }
            },
            "type": "scattergeo"
           }
          ],
          "scattergl": [
           {
            "marker": {
             "colorbar": {
              "outlinewidth": 0,
              "ticks": ""
             }
            },
            "type": "scattergl"
           }
          ],
          "scattermapbox": [
           {
            "marker": {
             "colorbar": {
              "outlinewidth": 0,
              "ticks": ""
             }
            },
            "type": "scattermapbox"
           }
          ],
          "scatterpolar": [
           {
            "marker": {
             "colorbar": {
              "outlinewidth": 0,
              "ticks": ""
             }
            },
            "type": "scatterpolar"
           }
          ],
          "scatterpolargl": [
           {
            "marker": {
             "colorbar": {
              "outlinewidth": 0,
              "ticks": ""
             }
            },
            "type": "scatterpolargl"
           }
          ],
          "scatterternary": [
           {
            "marker": {
             "colorbar": {
              "outlinewidth": 0,
              "ticks": ""
             }
            },
            "type": "scatterternary"
           }
          ],
          "surface": [
           {
            "colorbar": {
             "outlinewidth": 0,
             "ticks": ""
            },
            "colorscale": [
             [
              0,
              "#0d0887"
             ],
             [
              0.1111111111111111,
              "#46039f"
             ],
             [
              0.2222222222222222,
              "#7201a8"
             ],
             [
              0.3333333333333333,
              "#9c179e"
             ],
             [
              0.4444444444444444,
              "#bd3786"
             ],
             [
              0.5555555555555556,
              "#d8576b"
             ],
             [
              0.6666666666666666,
              "#ed7953"
             ],
             [
              0.7777777777777778,
              "#fb9f3a"
             ],
             [
              0.8888888888888888,
              "#fdca26"
             ],
             [
              1,
              "#f0f921"
             ]
            ],
            "type": "surface"
           }
          ],
          "table": [
           {
            "cells": {
             "fill": {
              "color": "#EBF0F8"
             },
             "line": {
              "color": "white"
             }
            },
            "header": {
             "fill": {
              "color": "#C8D4E3"
             },
             "line": {
              "color": "white"
             }
            },
            "type": "table"
           }
          ]
         },
         "layout": {
          "annotationdefaults": {
           "arrowcolor": "#2a3f5f",
           "arrowhead": 0,
           "arrowwidth": 1
          },
          "autotypenumbers": "strict",
          "coloraxis": {
           "colorbar": {
            "outlinewidth": 0,
            "ticks": ""
           }
          },
          "colorscale": {
           "diverging": [
            [
             0,
             "#8e0152"
            ],
            [
             0.1,
             "#c51b7d"
            ],
            [
             0.2,
             "#de77ae"
            ],
            [
             0.3,
             "#f1b6da"
            ],
            [
             0.4,
             "#fde0ef"
            ],
            [
             0.5,
             "#f7f7f7"
            ],
            [
             0.6,
             "#e6f5d0"
            ],
            [
             0.7,
             "#b8e186"
            ],
            [
             0.8,
             "#7fbc41"
            ],
            [
             0.9,
             "#4d9221"
            ],
            [
             1,
             "#276419"
            ]
           ],
           "sequential": [
            [
             0,
             "#0d0887"
            ],
            [
             0.1111111111111111,
             "#46039f"
            ],
            [
             0.2222222222222222,
             "#7201a8"
            ],
            [
             0.3333333333333333,
             "#9c179e"
            ],
            [
             0.4444444444444444,
             "#bd3786"
            ],
            [
             0.5555555555555556,
             "#d8576b"
            ],
            [
             0.6666666666666666,
             "#ed7953"
            ],
            [
             0.7777777777777778,
             "#fb9f3a"
            ],
            [
             0.8888888888888888,
             "#fdca26"
            ],
            [
             1,
             "#f0f921"
            ]
           ],
           "sequentialminus": [
            [
             0,
             "#0d0887"
            ],
            [
             0.1111111111111111,
             "#46039f"
            ],
            [
             0.2222222222222222,
             "#7201a8"
            ],
            [
             0.3333333333333333,
             "#9c179e"
            ],
            [
             0.4444444444444444,
             "#bd3786"
            ],
            [
             0.5555555555555556,
             "#d8576b"
            ],
            [
             0.6666666666666666,
             "#ed7953"
            ],
            [
             0.7777777777777778,
             "#fb9f3a"
            ],
            [
             0.8888888888888888,
             "#fdca26"
            ],
            [
             1,
             "#f0f921"
            ]
           ]
          },
          "colorway": [
           "#636efa",
           "#EF553B",
           "#00cc96",
           "#ab63fa",
           "#FFA15A",
           "#19d3f3",
           "#FF6692",
           "#B6E880",
           "#FF97FF",
           "#FECB52"
          ],
          "font": {
           "color": "#2a3f5f"
          },
          "geo": {
           "bgcolor": "white",
           "lakecolor": "white",
           "landcolor": "white",
           "showlakes": true,
           "showland": true,
           "subunitcolor": "#C8D4E3"
          },
          "hoverlabel": {
           "align": "left"
          },
          "hovermode": "closest",
          "mapbox": {
           "style": "light"
          },
          "paper_bgcolor": "white",
          "plot_bgcolor": "white",
          "polar": {
           "angularaxis": {
            "gridcolor": "#EBF0F8",
            "linecolor": "#EBF0F8",
            "ticks": ""
           },
           "bgcolor": "white",
           "radialaxis": {
            "gridcolor": "#EBF0F8",
            "linecolor": "#EBF0F8",
            "ticks": ""
           }
          },
          "scene": {
           "xaxis": {
            "backgroundcolor": "white",
            "gridcolor": "#DFE8F3",
            "gridwidth": 2,
            "linecolor": "#EBF0F8",
            "showbackground": true,
            "ticks": "",
            "zerolinecolor": "#EBF0F8"
           },
           "yaxis": {
            "backgroundcolor": "white",
            "gridcolor": "#DFE8F3",
            "gridwidth": 2,
            "linecolor": "#EBF0F8",
            "showbackground": true,
            "ticks": "",
            "zerolinecolor": "#EBF0F8"
           },
           "zaxis": {
            "backgroundcolor": "white",
            "gridcolor": "#DFE8F3",
            "gridwidth": 2,
            "linecolor": "#EBF0F8",
            "showbackground": true,
            "ticks": "",
            "zerolinecolor": "#EBF0F8"
           }
          },
          "shapedefaults": {
           "line": {
            "color": "#2a3f5f"
           }
          },
          "ternary": {
           "aaxis": {
            "gridcolor": "#DFE8F3",
            "linecolor": "#A2B1C6",
            "ticks": ""
           },
           "baxis": {
            "gridcolor": "#DFE8F3",
            "linecolor": "#A2B1C6",
            "ticks": ""
           },
           "bgcolor": "white",
           "caxis": {
            "gridcolor": "#DFE8F3",
            "linecolor": "#A2B1C6",
            "ticks": ""
           }
          },
          "title": {
           "x": 0.05
          },
          "xaxis": {
           "automargin": true,
           "gridcolor": "#EBF0F8",
           "linecolor": "#EBF0F8",
           "ticks": "",
           "title": {
            "standoff": 15
           },
           "zerolinecolor": "#EBF0F8",
           "zerolinewidth": 2
          },
          "yaxis": {
           "automargin": true,
           "gridcolor": "#EBF0F8",
           "linecolor": "#EBF0F8",
           "ticks": "",
           "title": {
            "standoff": 15
           },
           "zerolinecolor": "#EBF0F8",
           "zerolinewidth": 2
          }
         }
        },
        "title": {
         "text": "Metrics Over Time"
        },
        "xaxis": {
         "title": {
          "text": "Date"
         }
        },
        "yaxis": {
         "title": {
          "text": "Count"
         }
        }
       }
      }
     },
     "metadata": {},
     "output_type": "display_data"
    }
   ],
   "source": [
    "# Likes, Saves and Follows from each post over time\n",
    "\n",
    "fig = go.Figure()\n",
    "\n",
    "fig.add_trace(go.Scatter(x=data.index, y = data[\"Likes\"], name = \"Likes\"))\n",
    "fig.add_trace(go.Scatter(x=data.index, y = data[\"Saves\"], name = \"Saves\"))\n",
    "fig.add_trace(go.Scatter(x=data.index, y = data[\"Follows\"], name = \"Follows\"))\n",
    "\n",
    "fig.update_layout(title=\"Metrics Over Time\",\n",
    "                  xaxis_title = \"Date\",\n",
    "                  yaxis_title = \"Count\")\n",
    "\n",
    "fig.show()"
   ]
  },
  {
   "cell_type": "code",
   "execution_count": 34,
   "metadata": {},
   "outputs": [
    {
     "data": {
      "application/vnd.plotly.v1+json": {
       "config": {
        "plotlyServerURL": "https://plot.ly"
       },
       "data": [
        {
         "domain": {
          "x": [
           0,
           1
          ],
          "y": [
           0,
           1
          ]
         },
         "hovertemplate": "label=%{label}<br>value=%{value}<extra></extra>",
         "labels": [
          "From Home",
          "From Hashtags",
          "From Explore",
          "From Other"
         ],
         "legendgroup": "",
         "name": "",
         "showlegend": true,
         "type": "pie",
         "values": [
          294619,
          224614,
          128294,
          20360
         ]
        }
       ],
       "layout": {
        "legend": {
         "tracegroupgap": 0
        },
        "piecolorway": [
         "#FFB6C1",
         "#87CEFA",
         "#90EE90",
         "#FFDAB9"
        ],
        "template": {
         "data": {
          "bar": [
           {
            "error_x": {
             "color": "#2a3f5f"
            },
            "error_y": {
             "color": "#2a3f5f"
            },
            "marker": {
             "line": {
              "color": "white",
              "width": 0.5
             },
             "pattern": {
              "fillmode": "overlay",
              "size": 10,
              "solidity": 0.2
             }
            },
            "type": "bar"
           }
          ],
          "barpolar": [
           {
            "marker": {
             "line": {
              "color": "white",
              "width": 0.5
             },
             "pattern": {
              "fillmode": "overlay",
              "size": 10,
              "solidity": 0.2
             }
            },
            "type": "barpolar"
           }
          ],
          "carpet": [
           {
            "aaxis": {
             "endlinecolor": "#2a3f5f",
             "gridcolor": "#C8D4E3",
             "linecolor": "#C8D4E3",
             "minorgridcolor": "#C8D4E3",
             "startlinecolor": "#2a3f5f"
            },
            "baxis": {
             "endlinecolor": "#2a3f5f",
             "gridcolor": "#C8D4E3",
             "linecolor": "#C8D4E3",
             "minorgridcolor": "#C8D4E3",
             "startlinecolor": "#2a3f5f"
            },
            "type": "carpet"
           }
          ],
          "choropleth": [
           {
            "colorbar": {
             "outlinewidth": 0,
             "ticks": ""
            },
            "type": "choropleth"
           }
          ],
          "contour": [
           {
            "colorbar": {
             "outlinewidth": 0,
             "ticks": ""
            },
            "colorscale": [
             [
              0,
              "#0d0887"
             ],
             [
              0.1111111111111111,
              "#46039f"
             ],
             [
              0.2222222222222222,
              "#7201a8"
             ],
             [
              0.3333333333333333,
              "#9c179e"
             ],
             [
              0.4444444444444444,
              "#bd3786"
             ],
             [
              0.5555555555555556,
              "#d8576b"
             ],
             [
              0.6666666666666666,
              "#ed7953"
             ],
             [
              0.7777777777777778,
              "#fb9f3a"
             ],
             [
              0.8888888888888888,
              "#fdca26"
             ],
             [
              1,
              "#f0f921"
             ]
            ],
            "type": "contour"
           }
          ],
          "contourcarpet": [
           {
            "colorbar": {
             "outlinewidth": 0,
             "ticks": ""
            },
            "type": "contourcarpet"
           }
          ],
          "heatmap": [
           {
            "colorbar": {
             "outlinewidth": 0,
             "ticks": ""
            },
            "colorscale": [
             [
              0,
              "#0d0887"
             ],
             [
              0.1111111111111111,
              "#46039f"
             ],
             [
              0.2222222222222222,
              "#7201a8"
             ],
             [
              0.3333333333333333,
              "#9c179e"
             ],
             [
              0.4444444444444444,
              "#bd3786"
             ],
             [
              0.5555555555555556,
              "#d8576b"
             ],
             [
              0.6666666666666666,
              "#ed7953"
             ],
             [
              0.7777777777777778,
              "#fb9f3a"
             ],
             [
              0.8888888888888888,
              "#fdca26"
             ],
             [
              1,
              "#f0f921"
             ]
            ],
            "type": "heatmap"
           }
          ],
          "heatmapgl": [
           {
            "colorbar": {
             "outlinewidth": 0,
             "ticks": ""
            },
            "colorscale": [
             [
              0,
              "#0d0887"
             ],
             [
              0.1111111111111111,
              "#46039f"
             ],
             [
              0.2222222222222222,
              "#7201a8"
             ],
             [
              0.3333333333333333,
              "#9c179e"
             ],
             [
              0.4444444444444444,
              "#bd3786"
             ],
             [
              0.5555555555555556,
              "#d8576b"
             ],
             [
              0.6666666666666666,
              "#ed7953"
             ],
             [
              0.7777777777777778,
              "#fb9f3a"
             ],
             [
              0.8888888888888888,
              "#fdca26"
             ],
             [
              1,
              "#f0f921"
             ]
            ],
            "type": "heatmapgl"
           }
          ],
          "histogram": [
           {
            "marker": {
             "pattern": {
              "fillmode": "overlay",
              "size": 10,
              "solidity": 0.2
             }
            },
            "type": "histogram"
           }
          ],
          "histogram2d": [
           {
            "colorbar": {
             "outlinewidth": 0,
             "ticks": ""
            },
            "colorscale": [
             [
              0,
              "#0d0887"
             ],
             [
              0.1111111111111111,
              "#46039f"
             ],
             [
              0.2222222222222222,
              "#7201a8"
             ],
             [
              0.3333333333333333,
              "#9c179e"
             ],
             [
              0.4444444444444444,
              "#bd3786"
             ],
             [
              0.5555555555555556,
              "#d8576b"
             ],
             [
              0.6666666666666666,
              "#ed7953"
             ],
             [
              0.7777777777777778,
              "#fb9f3a"
             ],
             [
              0.8888888888888888,
              "#fdca26"
             ],
             [
              1,
              "#f0f921"
             ]
            ],
            "type": "histogram2d"
           }
          ],
          "histogram2dcontour": [
           {
            "colorbar": {
             "outlinewidth": 0,
             "ticks": ""
            },
            "colorscale": [
             [
              0,
              "#0d0887"
             ],
             [
              0.1111111111111111,
              "#46039f"
             ],
             [
              0.2222222222222222,
              "#7201a8"
             ],
             [
              0.3333333333333333,
              "#9c179e"
             ],
             [
              0.4444444444444444,
              "#bd3786"
             ],
             [
              0.5555555555555556,
              "#d8576b"
             ],
             [
              0.6666666666666666,
              "#ed7953"
             ],
             [
              0.7777777777777778,
              "#fb9f3a"
             ],
             [
              0.8888888888888888,
              "#fdca26"
             ],
             [
              1,
              "#f0f921"
             ]
            ],
            "type": "histogram2dcontour"
           }
          ],
          "mesh3d": [
           {
            "colorbar": {
             "outlinewidth": 0,
             "ticks": ""
            },
            "type": "mesh3d"
           }
          ],
          "parcoords": [
           {
            "line": {
             "colorbar": {
              "outlinewidth": 0,
              "ticks": ""
             }
            },
            "type": "parcoords"
           }
          ],
          "pie": [
           {
            "automargin": true,
            "type": "pie"
           }
          ],
          "scatter": [
           {
            "fillpattern": {
             "fillmode": "overlay",
             "size": 10,
             "solidity": 0.2
            },
            "type": "scatter"
           }
          ],
          "scatter3d": [
           {
            "line": {
             "colorbar": {
              "outlinewidth": 0,
              "ticks": ""
             }
            },
            "marker": {
             "colorbar": {
              "outlinewidth": 0,
              "ticks": ""
             }
            },
            "type": "scatter3d"
           }
          ],
          "scattercarpet": [
           {
            "marker": {
             "colorbar": {
              "outlinewidth": 0,
              "ticks": ""
             }
            },
            "type": "scattercarpet"
           }
          ],
          "scattergeo": [
           {
            "marker": {
             "colorbar": {
              "outlinewidth": 0,
              "ticks": ""
             }
            },
            "type": "scattergeo"
           }
          ],
          "scattergl": [
           {
            "marker": {
             "colorbar": {
              "outlinewidth": 0,
              "ticks": ""
             }
            },
            "type": "scattergl"
           }
          ],
          "scattermapbox": [
           {
            "marker": {
             "colorbar": {
              "outlinewidth": 0,
              "ticks": ""
             }
            },
            "type": "scattermapbox"
           }
          ],
          "scatterpolar": [
           {
            "marker": {
             "colorbar": {
              "outlinewidth": 0,
              "ticks": ""
             }
            },
            "type": "scatterpolar"
           }
          ],
          "scatterpolargl": [
           {
            "marker": {
             "colorbar": {
              "outlinewidth": 0,
              "ticks": ""
             }
            },
            "type": "scatterpolargl"
           }
          ],
          "scatterternary": [
           {
            "marker": {
             "colorbar": {
              "outlinewidth": 0,
              "ticks": ""
             }
            },
            "type": "scatterternary"
           }
          ],
          "surface": [
           {
            "colorbar": {
             "outlinewidth": 0,
             "ticks": ""
            },
            "colorscale": [
             [
              0,
              "#0d0887"
             ],
             [
              0.1111111111111111,
              "#46039f"
             ],
             [
              0.2222222222222222,
              "#7201a8"
             ],
             [
              0.3333333333333333,
              "#9c179e"
             ],
             [
              0.4444444444444444,
              "#bd3786"
             ],
             [
              0.5555555555555556,
              "#d8576b"
             ],
             [
              0.6666666666666666,
              "#ed7953"
             ],
             [
              0.7777777777777778,
              "#fb9f3a"
             ],
             [
              0.8888888888888888,
              "#fdca26"
             ],
             [
              1,
              "#f0f921"
             ]
            ],
            "type": "surface"
           }
          ],
          "table": [
           {
            "cells": {
             "fill": {
              "color": "#EBF0F8"
             },
             "line": {
              "color": "white"
             }
            },
            "header": {
             "fill": {
              "color": "#C8D4E3"
             },
             "line": {
              "color": "white"
             }
            },
            "type": "table"
           }
          ]
         },
         "layout": {
          "annotationdefaults": {
           "arrowcolor": "#2a3f5f",
           "arrowhead": 0,
           "arrowwidth": 1
          },
          "autotypenumbers": "strict",
          "coloraxis": {
           "colorbar": {
            "outlinewidth": 0,
            "ticks": ""
           }
          },
          "colorscale": {
           "diverging": [
            [
             0,
             "#8e0152"
            ],
            [
             0.1,
             "#c51b7d"
            ],
            [
             0.2,
             "#de77ae"
            ],
            [
             0.3,
             "#f1b6da"
            ],
            [
             0.4,
             "#fde0ef"
            ],
            [
             0.5,
             "#f7f7f7"
            ],
            [
             0.6,
             "#e6f5d0"
            ],
            [
             0.7,
             "#b8e186"
            ],
            [
             0.8,
             "#7fbc41"
            ],
            [
             0.9,
             "#4d9221"
            ],
            [
             1,
             "#276419"
            ]
           ],
           "sequential": [
            [
             0,
             "#0d0887"
            ],
            [
             0.1111111111111111,
             "#46039f"
            ],
            [
             0.2222222222222222,
             "#7201a8"
            ],
            [
             0.3333333333333333,
             "#9c179e"
            ],
            [
             0.4444444444444444,
             "#bd3786"
            ],
            [
             0.5555555555555556,
             "#d8576b"
            ],
            [
             0.6666666666666666,
             "#ed7953"
            ],
            [
             0.7777777777777778,
             "#fb9f3a"
            ],
            [
             0.8888888888888888,
             "#fdca26"
            ],
            [
             1,
             "#f0f921"
            ]
           ],
           "sequentialminus": [
            [
             0,
             "#0d0887"
            ],
            [
             0.1111111111111111,
             "#46039f"
            ],
            [
             0.2222222222222222,
             "#7201a8"
            ],
            [
             0.3333333333333333,
             "#9c179e"
            ],
            [
             0.4444444444444444,
             "#bd3786"
            ],
            [
             0.5555555555555556,
             "#d8576b"
            ],
            [
             0.6666666666666666,
             "#ed7953"
            ],
            [
             0.7777777777777778,
             "#fb9f3a"
            ],
            [
             0.8888888888888888,
             "#fdca26"
            ],
            [
             1,
             "#f0f921"
            ]
           ]
          },
          "colorway": [
           "#636efa",
           "#EF553B",
           "#00cc96",
           "#ab63fa",
           "#FFA15A",
           "#19d3f3",
           "#FF6692",
           "#B6E880",
           "#FF97FF",
           "#FECB52"
          ],
          "font": {
           "color": "#2a3f5f"
          },
          "geo": {
           "bgcolor": "white",
           "lakecolor": "white",
           "landcolor": "white",
           "showlakes": true,
           "showland": true,
           "subunitcolor": "#C8D4E3"
          },
          "hoverlabel": {
           "align": "left"
          },
          "hovermode": "closest",
          "mapbox": {
           "style": "light"
          },
          "paper_bgcolor": "white",
          "plot_bgcolor": "white",
          "polar": {
           "angularaxis": {
            "gridcolor": "#EBF0F8",
            "linecolor": "#EBF0F8",
            "ticks": ""
           },
           "bgcolor": "white",
           "radialaxis": {
            "gridcolor": "#EBF0F8",
            "linecolor": "#EBF0F8",
            "ticks": ""
           }
          },
          "scene": {
           "xaxis": {
            "backgroundcolor": "white",
            "gridcolor": "#DFE8F3",
            "gridwidth": 2,
            "linecolor": "#EBF0F8",
            "showbackground": true,
            "ticks": "",
            "zerolinecolor": "#EBF0F8"
           },
           "yaxis": {
            "backgroundcolor": "white",
            "gridcolor": "#DFE8F3",
            "gridwidth": 2,
            "linecolor": "#EBF0F8",
            "showbackground": true,
            "ticks": "",
            "zerolinecolor": "#EBF0F8"
           },
           "zaxis": {
            "backgroundcolor": "white",
            "gridcolor": "#DFE8F3",
            "gridwidth": 2,
            "linecolor": "#EBF0F8",
            "showbackground": true,
            "ticks": "",
            "zerolinecolor": "#EBF0F8"
           }
          },
          "shapedefaults": {
           "line": {
            "color": "#2a3f5f"
           }
          },
          "ternary": {
           "aaxis": {
            "gridcolor": "#DFE8F3",
            "linecolor": "#A2B1C6",
            "ticks": ""
           },
           "baxis": {
            "gridcolor": "#DFE8F3",
            "linecolor": "#A2B1C6",
            "ticks": ""
           },
           "bgcolor": "white",
           "caxis": {
            "gridcolor": "#DFE8F3",
            "linecolor": "#A2B1C6",
            "ticks": ""
           }
          },
          "title": {
           "x": 0.05
          },
          "xaxis": {
           "automargin": true,
           "gridcolor": "#EBF0F8",
           "linecolor": "#EBF0F8",
           "ticks": "",
           "title": {
            "standoff": 15
           },
           "zerolinecolor": "#EBF0F8",
           "zerolinewidth": 2
          },
          "yaxis": {
           "automargin": true,
           "gridcolor": "#EBF0F8",
           "linecolor": "#EBF0F8",
           "ticks": "",
           "title": {
            "standoff": 15
           },
           "zerolinecolor": "#EBF0F8",
           "zerolinewidth": 2
          }
         }
        },
        "title": {
         "text": "Reach from Different Sources"
        }
       }
      }
     },
     "metadata": {},
     "output_type": "display_data"
    }
   ],
   "source": [
    "# Distribution of reach from different sources\n",
    "\n",
    "reach_sources = [\"From Home\", \"From Hashtags\", \"From Explore\", \"From Other\"]\n",
    "reach_counts = [data[source].sum() for source in reach_sources]\n",
    "\n",
    "colors = ['#FFB6C1', '#87CEFA', '#90EE90', '#FFDAB9']\n",
    "\n",
    "fig = px.pie(data_frame=data, names=reach_sources, \n",
    "             values=reach_counts, \n",
    "             title='Reach from Different Sources',\n",
    "             color_discrete_sequence=colors)\n",
    "fig.show()"
   ]
  },
  {
   "cell_type": "code",
   "execution_count": 35,
   "metadata": {},
   "outputs": [
    {
     "data": {
      "application/vnd.plotly.v1+json": {
       "config": {
        "plotlyServerURL": "https://plot.ly"
       },
       "data": [
        {
         "domain": {
          "x": [
           0,
           1
          ],
          "y": [
           0,
           1
          ]
         },
         "hovertemplate": "label=%{label}<br>value=%{value}<extra></extra>",
         "labels": [
          "Saves",
          "Comments",
          "Shares",
          "Likes"
         ],
         "legendgroup": "",
         "name": "",
         "showlegend": true,
         "type": "pie",
         "values": [
          18244,
          793,
          1114,
          20680
         ]
        }
       ],
       "layout": {
        "legend": {
         "tracegroupgap": 0
        },
        "piecolorway": [
         "#FFB6C1",
         "#87CEFA",
         "#90EE90",
         "#FFDAB9"
        ],
        "template": {
         "data": {
          "bar": [
           {
            "error_x": {
             "color": "#2a3f5f"
            },
            "error_y": {
             "color": "#2a3f5f"
            },
            "marker": {
             "line": {
              "color": "white",
              "width": 0.5
             },
             "pattern": {
              "fillmode": "overlay",
              "size": 10,
              "solidity": 0.2
             }
            },
            "type": "bar"
           }
          ],
          "barpolar": [
           {
            "marker": {
             "line": {
              "color": "white",
              "width": 0.5
             },
             "pattern": {
              "fillmode": "overlay",
              "size": 10,
              "solidity": 0.2
             }
            },
            "type": "barpolar"
           }
          ],
          "carpet": [
           {
            "aaxis": {
             "endlinecolor": "#2a3f5f",
             "gridcolor": "#C8D4E3",
             "linecolor": "#C8D4E3",
             "minorgridcolor": "#C8D4E3",
             "startlinecolor": "#2a3f5f"
            },
            "baxis": {
             "endlinecolor": "#2a3f5f",
             "gridcolor": "#C8D4E3",
             "linecolor": "#C8D4E3",
             "minorgridcolor": "#C8D4E3",
             "startlinecolor": "#2a3f5f"
            },
            "type": "carpet"
           }
          ],
          "choropleth": [
           {
            "colorbar": {
             "outlinewidth": 0,
             "ticks": ""
            },
            "type": "choropleth"
           }
          ],
          "contour": [
           {
            "colorbar": {
             "outlinewidth": 0,
             "ticks": ""
            },
            "colorscale": [
             [
              0,
              "#0d0887"
             ],
             [
              0.1111111111111111,
              "#46039f"
             ],
             [
              0.2222222222222222,
              "#7201a8"
             ],
             [
              0.3333333333333333,
              "#9c179e"
             ],
             [
              0.4444444444444444,
              "#bd3786"
             ],
             [
              0.5555555555555556,
              "#d8576b"
             ],
             [
              0.6666666666666666,
              "#ed7953"
             ],
             [
              0.7777777777777778,
              "#fb9f3a"
             ],
             [
              0.8888888888888888,
              "#fdca26"
             ],
             [
              1,
              "#f0f921"
             ]
            ],
            "type": "contour"
           }
          ],
          "contourcarpet": [
           {
            "colorbar": {
             "outlinewidth": 0,
             "ticks": ""
            },
            "type": "contourcarpet"
           }
          ],
          "heatmap": [
           {
            "colorbar": {
             "outlinewidth": 0,
             "ticks": ""
            },
            "colorscale": [
             [
              0,
              "#0d0887"
             ],
             [
              0.1111111111111111,
              "#46039f"
             ],
             [
              0.2222222222222222,
              "#7201a8"
             ],
             [
              0.3333333333333333,
              "#9c179e"
             ],
             [
              0.4444444444444444,
              "#bd3786"
             ],
             [
              0.5555555555555556,
              "#d8576b"
             ],
             [
              0.6666666666666666,
              "#ed7953"
             ],
             [
              0.7777777777777778,
              "#fb9f3a"
             ],
             [
              0.8888888888888888,
              "#fdca26"
             ],
             [
              1,
              "#f0f921"
             ]
            ],
            "type": "heatmap"
           }
          ],
          "heatmapgl": [
           {
            "colorbar": {
             "outlinewidth": 0,
             "ticks": ""
            },
            "colorscale": [
             [
              0,
              "#0d0887"
             ],
             [
              0.1111111111111111,
              "#46039f"
             ],
             [
              0.2222222222222222,
              "#7201a8"
             ],
             [
              0.3333333333333333,
              "#9c179e"
             ],
             [
              0.4444444444444444,
              "#bd3786"
             ],
             [
              0.5555555555555556,
              "#d8576b"
             ],
             [
              0.6666666666666666,
              "#ed7953"
             ],
             [
              0.7777777777777778,
              "#fb9f3a"
             ],
             [
              0.8888888888888888,
              "#fdca26"
             ],
             [
              1,
              "#f0f921"
             ]
            ],
            "type": "heatmapgl"
           }
          ],
          "histogram": [
           {
            "marker": {
             "pattern": {
              "fillmode": "overlay",
              "size": 10,
              "solidity": 0.2
             }
            },
            "type": "histogram"
           }
          ],
          "histogram2d": [
           {
            "colorbar": {
             "outlinewidth": 0,
             "ticks": ""
            },
            "colorscale": [
             [
              0,
              "#0d0887"
             ],
             [
              0.1111111111111111,
              "#46039f"
             ],
             [
              0.2222222222222222,
              "#7201a8"
             ],
             [
              0.3333333333333333,
              "#9c179e"
             ],
             [
              0.4444444444444444,
              "#bd3786"
             ],
             [
              0.5555555555555556,
              "#d8576b"
             ],
             [
              0.6666666666666666,
              "#ed7953"
             ],
             [
              0.7777777777777778,
              "#fb9f3a"
             ],
             [
              0.8888888888888888,
              "#fdca26"
             ],
             [
              1,
              "#f0f921"
             ]
            ],
            "type": "histogram2d"
           }
          ],
          "histogram2dcontour": [
           {
            "colorbar": {
             "outlinewidth": 0,
             "ticks": ""
            },
            "colorscale": [
             [
              0,
              "#0d0887"
             ],
             [
              0.1111111111111111,
              "#46039f"
             ],
             [
              0.2222222222222222,
              "#7201a8"
             ],
             [
              0.3333333333333333,
              "#9c179e"
             ],
             [
              0.4444444444444444,
              "#bd3786"
             ],
             [
              0.5555555555555556,
              "#d8576b"
             ],
             [
              0.6666666666666666,
              "#ed7953"
             ],
             [
              0.7777777777777778,
              "#fb9f3a"
             ],
             [
              0.8888888888888888,
              "#fdca26"
             ],
             [
              1,
              "#f0f921"
             ]
            ],
            "type": "histogram2dcontour"
           }
          ],
          "mesh3d": [
           {
            "colorbar": {
             "outlinewidth": 0,
             "ticks": ""
            },
            "type": "mesh3d"
           }
          ],
          "parcoords": [
           {
            "line": {
             "colorbar": {
              "outlinewidth": 0,
              "ticks": ""
             }
            },
            "type": "parcoords"
           }
          ],
          "pie": [
           {
            "automargin": true,
            "type": "pie"
           }
          ],
          "scatter": [
           {
            "fillpattern": {
             "fillmode": "overlay",
             "size": 10,
             "solidity": 0.2
            },
            "type": "scatter"
           }
          ],
          "scatter3d": [
           {
            "line": {
             "colorbar": {
              "outlinewidth": 0,
              "ticks": ""
             }
            },
            "marker": {
             "colorbar": {
              "outlinewidth": 0,
              "ticks": ""
             }
            },
            "type": "scatter3d"
           }
          ],
          "scattercarpet": [
           {
            "marker": {
             "colorbar": {
              "outlinewidth": 0,
              "ticks": ""
             }
            },
            "type": "scattercarpet"
           }
          ],
          "scattergeo": [
           {
            "marker": {
             "colorbar": {
              "outlinewidth": 0,
              "ticks": ""
             }
            },
            "type": "scattergeo"
           }
          ],
          "scattergl": [
           {
            "marker": {
             "colorbar": {
              "outlinewidth": 0,
              "ticks": ""
             }
            },
            "type": "scattergl"
           }
          ],
          "scattermapbox": [
           {
            "marker": {
             "colorbar": {
              "outlinewidth": 0,
              "ticks": ""
             }
            },
            "type": "scattermapbox"
           }
          ],
          "scatterpolar": [
           {
            "marker": {
             "colorbar": {
              "outlinewidth": 0,
              "ticks": ""
             }
            },
            "type": "scatterpolar"
           }
          ],
          "scatterpolargl": [
           {
            "marker": {
             "colorbar": {
              "outlinewidth": 0,
              "ticks": ""
             }
            },
            "type": "scatterpolargl"
           }
          ],
          "scatterternary": [
           {
            "marker": {
             "colorbar": {
              "outlinewidth": 0,
              "ticks": ""
             }
            },
            "type": "scatterternary"
           }
          ],
          "surface": [
           {
            "colorbar": {
             "outlinewidth": 0,
             "ticks": ""
            },
            "colorscale": [
             [
              0,
              "#0d0887"
             ],
             [
              0.1111111111111111,
              "#46039f"
             ],
             [
              0.2222222222222222,
              "#7201a8"
             ],
             [
              0.3333333333333333,
              "#9c179e"
             ],
             [
              0.4444444444444444,
              "#bd3786"
             ],
             [
              0.5555555555555556,
              "#d8576b"
             ],
             [
              0.6666666666666666,
              "#ed7953"
             ],
             [
              0.7777777777777778,
              "#fb9f3a"
             ],
             [
              0.8888888888888888,
              "#fdca26"
             ],
             [
              1,
              "#f0f921"
             ]
            ],
            "type": "surface"
           }
          ],
          "table": [
           {
            "cells": {
             "fill": {
              "color": "#EBF0F8"
             },
             "line": {
              "color": "white"
             }
            },
            "header": {
             "fill": {
              "color": "#C8D4E3"
             },
             "line": {
              "color": "white"
             }
            },
            "type": "table"
           }
          ]
         },
         "layout": {
          "annotationdefaults": {
           "arrowcolor": "#2a3f5f",
           "arrowhead": 0,
           "arrowwidth": 1
          },
          "autotypenumbers": "strict",
          "coloraxis": {
           "colorbar": {
            "outlinewidth": 0,
            "ticks": ""
           }
          },
          "colorscale": {
           "diverging": [
            [
             0,
             "#8e0152"
            ],
            [
             0.1,
             "#c51b7d"
            ],
            [
             0.2,
             "#de77ae"
            ],
            [
             0.3,
             "#f1b6da"
            ],
            [
             0.4,
             "#fde0ef"
            ],
            [
             0.5,
             "#f7f7f7"
            ],
            [
             0.6,
             "#e6f5d0"
            ],
            [
             0.7,
             "#b8e186"
            ],
            [
             0.8,
             "#7fbc41"
            ],
            [
             0.9,
             "#4d9221"
            ],
            [
             1,
             "#276419"
            ]
           ],
           "sequential": [
            [
             0,
             "#0d0887"
            ],
            [
             0.1111111111111111,
             "#46039f"
            ],
            [
             0.2222222222222222,
             "#7201a8"
            ],
            [
             0.3333333333333333,
             "#9c179e"
            ],
            [
             0.4444444444444444,
             "#bd3786"
            ],
            [
             0.5555555555555556,
             "#d8576b"
            ],
            [
             0.6666666666666666,
             "#ed7953"
            ],
            [
             0.7777777777777778,
             "#fb9f3a"
            ],
            [
             0.8888888888888888,
             "#fdca26"
            ],
            [
             1,
             "#f0f921"
            ]
           ],
           "sequentialminus": [
            [
             0,
             "#0d0887"
            ],
            [
             0.1111111111111111,
             "#46039f"
            ],
            [
             0.2222222222222222,
             "#7201a8"
            ],
            [
             0.3333333333333333,
             "#9c179e"
            ],
            [
             0.4444444444444444,
             "#bd3786"
            ],
            [
             0.5555555555555556,
             "#d8576b"
            ],
            [
             0.6666666666666666,
             "#ed7953"
            ],
            [
             0.7777777777777778,
             "#fb9f3a"
            ],
            [
             0.8888888888888888,
             "#fdca26"
            ],
            [
             1,
             "#f0f921"
            ]
           ]
          },
          "colorway": [
           "#636efa",
           "#EF553B",
           "#00cc96",
           "#ab63fa",
           "#FFA15A",
           "#19d3f3",
           "#FF6692",
           "#B6E880",
           "#FF97FF",
           "#FECB52"
          ],
          "font": {
           "color": "#2a3f5f"
          },
          "geo": {
           "bgcolor": "white",
           "lakecolor": "white",
           "landcolor": "white",
           "showlakes": true,
           "showland": true,
           "subunitcolor": "#C8D4E3"
          },
          "hoverlabel": {
           "align": "left"
          },
          "hovermode": "closest",
          "mapbox": {
           "style": "light"
          },
          "paper_bgcolor": "white",
          "plot_bgcolor": "white",
          "polar": {
           "angularaxis": {
            "gridcolor": "#EBF0F8",
            "linecolor": "#EBF0F8",
            "ticks": ""
           },
           "bgcolor": "white",
           "radialaxis": {
            "gridcolor": "#EBF0F8",
            "linecolor": "#EBF0F8",
            "ticks": ""
           }
          },
          "scene": {
           "xaxis": {
            "backgroundcolor": "white",
            "gridcolor": "#DFE8F3",
            "gridwidth": 2,
            "linecolor": "#EBF0F8",
            "showbackground": true,
            "ticks": "",
            "zerolinecolor": "#EBF0F8"
           },
           "yaxis": {
            "backgroundcolor": "white",
            "gridcolor": "#DFE8F3",
            "gridwidth": 2,
            "linecolor": "#EBF0F8",
            "showbackground": true,
            "ticks": "",
            "zerolinecolor": "#EBF0F8"
           },
           "zaxis": {
            "backgroundcolor": "white",
            "gridcolor": "#DFE8F3",
            "gridwidth": 2,
            "linecolor": "#EBF0F8",
            "showbackground": true,
            "ticks": "",
            "zerolinecolor": "#EBF0F8"
           }
          },
          "shapedefaults": {
           "line": {
            "color": "#2a3f5f"
           }
          },
          "ternary": {
           "aaxis": {
            "gridcolor": "#DFE8F3",
            "linecolor": "#A2B1C6",
            "ticks": ""
           },
           "baxis": {
            "gridcolor": "#DFE8F3",
            "linecolor": "#A2B1C6",
            "ticks": ""
           },
           "bgcolor": "white",
           "caxis": {
            "gridcolor": "#DFE8F3",
            "linecolor": "#A2B1C6",
            "ticks": ""
           }
          },
          "title": {
           "x": 0.05
          },
          "xaxis": {
           "automargin": true,
           "gridcolor": "#EBF0F8",
           "linecolor": "#EBF0F8",
           "ticks": "",
           "title": {
            "standoff": 15
           },
           "zerolinecolor": "#EBF0F8",
           "zerolinewidth": 2
          },
          "yaxis": {
           "automargin": true,
           "gridcolor": "#EBF0F8",
           "linecolor": "#EBF0F8",
           "ticks": "",
           "title": {
            "standoff": 15
           },
           "zerolinecolor": "#EBF0F8",
           "zerolinewidth": 2
          }
         }
        },
        "title": {
         "text": "Engagement Sources"
        }
       }
      }
     },
     "metadata": {},
     "output_type": "display_data"
    }
   ],
   "source": [
    "# Distribution of engagement\n",
    "\n",
    "engagement_metrics = ['Saves', 'Comments', 'Shares', 'Likes']\n",
    "engagement_counts = [data[metric].sum() for metric in engagement_metrics]\n",
    "\n",
    "colors = ['#FFB6C1', '#87CEFA', '#90EE90', '#FFDAB9']\n",
    "\n",
    "fig = px.pie(data_frame=data, names=engagement_metrics, \n",
    "             values=engagement_counts, \n",
    "             title='Engagement Sources',\n",
    "             color_discrete_sequence=colors)\n",
    "fig.show()"
   ]
  },
  {
   "cell_type": "code",
   "execution_count": 36,
   "metadata": {},
   "outputs": [
    {
     "data": {
      "application/vnd.plotly.v1+json": {
       "config": {
        "plotlyServerURL": "https://plot.ly"
       },
       "data": [
        {
         "hovertemplate": "Profile Visits=%{x}<br>Follows=%{y}<extra></extra>",
         "legendgroup": "",
         "marker": {
          "color": "#636efa",
          "symbol": "circle"
         },
         "mode": "markers",
         "name": "",
         "orientation": "v",
         "showlegend": false,
         "type": "scatter",
         "x": [
          35,
          48,
          62,
          23,
          8,
          9,
          26,
          12,
          36,
          31,
          29,
          15,
          8,
          20,
          181,
          17,
          16,
          21,
          77,
          10,
          9,
          11,
          144,
          14,
          10,
          19,
          69,
          11,
          19,
          9,
          57,
          13,
          11,
          24,
          81,
          4,
          7,
          14,
          18,
          8,
          330,
          21,
          19,
          32,
          19,
          21,
          14,
          30,
          39,
          42,
          31,
          20,
          12,
          22,
          306,
          13,
          26,
          16,
          15,
          15,
          39,
          21,
          8,
          45,
          50,
          37,
          25,
          347,
          26,
          48,
          16,
          26,
          17,
          52,
          22,
          41,
          155,
          12,
          22,
          20,
          23,
          25,
          17,
          16,
          21,
          77,
          10,
          14,
          30,
          39,
          42,
          31,
          14,
          10,
          19,
          69,
          11,
          19,
          9,
          38,
          42,
          92,
          75,
          21,
          26,
          39,
          74,
          467,
          24,
          70,
          22,
          46,
          61,
          237,
          73,
          20,
          34,
          148,
          611
         ],
         "xaxis": "x",
         "y": [
          2,
          10,
          12,
          8,
          0,
          2,
          0,
          6,
          4,
          6,
          4,
          0,
          2,
          4,
          42,
          6,
          2,
          2,
          30,
          0,
          0,
          24,
          100,
          2,
          4,
          6,
          6,
          6,
          2,
          2,
          20,
          2,
          4,
          8,
          26,
          2,
          2,
          4,
          0,
          2,
          94,
          8,
          18,
          10,
          4,
          4,
          4,
          4,
          18,
          38,
          10,
          12,
          4,
          4,
          74,
          0,
          6,
          6,
          0,
          6,
          12,
          10,
          8,
          8,
          46,
          12,
          10,
          94,
          6,
          10,
          6,
          4,
          12,
          16,
          12,
          8,
          32,
          8,
          16,
          6,
          10,
          10,
          6,
          2,
          2,
          30,
          0,
          4,
          4,
          18,
          38,
          10,
          2,
          4,
          6,
          6,
          6,
          2,
          2,
          14,
          8,
          14,
          28,
          18,
          12,
          34,
          26,
          260,
          16,
          96,
          20,
          30,
          58,
          100,
          80,
          18,
          10,
          214,
          228
         ],
         "yaxis": "y"
        },
        {
         "hovertemplate": "<b>OLS trendline</b><br>Follows = 0.400884 * Profile Visits + 0.46283<br>R<sup>2</sup>=0.727868<br><br>Profile Visits=%{x}<br>Follows=%{y} <b>(trend)</b><extra></extra>",
         "legendgroup": "",
         "marker": {
          "color": "#636efa",
          "symbol": "circle"
         },
         "mode": "lines",
         "name": "",
         "showlegend": false,
         "type": "scatter",
         "x": [
          4,
          7,
          8,
          8,
          8,
          8,
          9,
          9,
          9,
          9,
          10,
          10,
          10,
          10,
          11,
          11,
          11,
          11,
          12,
          12,
          12,
          13,
          13,
          14,
          14,
          14,
          14,
          14,
          15,
          15,
          15,
          16,
          16,
          16,
          16,
          17,
          17,
          17,
          18,
          19,
          19,
          19,
          19,
          19,
          19,
          20,
          20,
          20,
          20,
          21,
          21,
          21,
          21,
          21,
          21,
          22,
          22,
          22,
          22,
          23,
          23,
          24,
          24,
          25,
          25,
          26,
          26,
          26,
          26,
          26,
          29,
          30,
          30,
          31,
          31,
          31,
          32,
          34,
          35,
          36,
          37,
          38,
          39,
          39,
          39,
          39,
          41,
          42,
          42,
          42,
          45,
          46,
          48,
          48,
          50,
          52,
          57,
          61,
          62,
          69,
          69,
          70,
          73,
          74,
          75,
          77,
          77,
          81,
          92,
          144,
          148,
          155,
          181,
          237,
          306,
          330,
          347,
          467,
          611
         ],
         "xaxis": "x",
         "y": [
          2.0663650704225325,
          3.2690160563380255,
          3.6698997183098565,
          3.6698997183098565,
          3.6698997183098565,
          3.6698997183098565,
          4.0707833802816875,
          4.0707833802816875,
          4.0707833802816875,
          4.0707833802816875,
          4.471667042253518,
          4.471667042253518,
          4.471667042253518,
          4.471667042253518,
          4.87255070422535,
          4.87255070422535,
          4.87255070422535,
          4.87255070422535,
          5.273434366197181,
          5.273434366197181,
          5.273434366197181,
          5.6743180281690115,
          5.6743180281690115,
          6.075201690140842,
          6.075201690140842,
          6.075201690140842,
          6.075201690140842,
          6.075201690140842,
          6.476085352112674,
          6.476085352112674,
          6.476085352112674,
          6.876969014084505,
          6.876969014084505,
          6.876969014084505,
          6.876969014084505,
          7.277852676056336,
          7.277852676056336,
          7.277852676056336,
          7.678736338028166,
          8.079619999999998,
          8.079619999999998,
          8.079619999999998,
          8.079619999999998,
          8.079619999999998,
          8.079619999999998,
          8.480503661971829,
          8.480503661971829,
          8.480503661971829,
          8.480503661971829,
          8.88138732394366,
          8.88138732394366,
          8.88138732394366,
          8.88138732394366,
          8.88138732394366,
          8.88138732394366,
          9.282270985915492,
          9.282270985915492,
          9.282270985915492,
          9.282270985915492,
          9.683154647887322,
          9.683154647887322,
          10.084038309859153,
          10.084038309859153,
          10.484921971830984,
          10.484921971830984,
          10.885805633802814,
          10.885805633802814,
          10.885805633802814,
          10.885805633802814,
          10.885805633802814,
          12.088456619718308,
          12.48934028169014,
          12.48934028169014,
          12.89022394366197,
          12.89022394366197,
          12.89022394366197,
          13.291107605633801,
          14.092874929577462,
          14.493758591549295,
          14.894642253521125,
          15.295525915492956,
          15.696409577464788,
          16.097293239436617,
          16.097293239436617,
          16.097293239436617,
          16.097293239436617,
          16.89906056338028,
          17.29994422535211,
          17.29994422535211,
          17.29994422535211,
          18.502595211267604,
          18.903478873239436,
          19.705246197183097,
          19.705246197183097,
          20.50701352112676,
          21.30878084507042,
          23.313199154929578,
          24.9167338028169,
          25.317617464788732,
          28.123803098591548,
          28.123803098591548,
          28.52468676056338,
          29.727337746478874,
          30.128221408450703,
          30.529105070422535,
          31.330872394366196,
          31.330872394366196,
          32.93440704225352,
          37.34412732394366,
          58.19007774647887,
          59.79361239436619,
          62.59979802816901,
          73.02277323943662,
          95.47225830985916,
          123.13323098591549,
          132.75443887323945,
          139.56946112676056,
          187.6755005633803,
          245.40274788732395
         ],
         "yaxis": "y"
        }
       ],
       "layout": {
        "legend": {
         "tracegroupgap": 0
        },
        "template": {
         "data": {
          "bar": [
           {
            "error_x": {
             "color": "#2a3f5f"
            },
            "error_y": {
             "color": "#2a3f5f"
            },
            "marker": {
             "line": {
              "color": "white",
              "width": 0.5
             },
             "pattern": {
              "fillmode": "overlay",
              "size": 10,
              "solidity": 0.2
             }
            },
            "type": "bar"
           }
          ],
          "barpolar": [
           {
            "marker": {
             "line": {
              "color": "white",
              "width": 0.5
             },
             "pattern": {
              "fillmode": "overlay",
              "size": 10,
              "solidity": 0.2
             }
            },
            "type": "barpolar"
           }
          ],
          "carpet": [
           {
            "aaxis": {
             "endlinecolor": "#2a3f5f",
             "gridcolor": "#C8D4E3",
             "linecolor": "#C8D4E3",
             "minorgridcolor": "#C8D4E3",
             "startlinecolor": "#2a3f5f"
            },
            "baxis": {
             "endlinecolor": "#2a3f5f",
             "gridcolor": "#C8D4E3",
             "linecolor": "#C8D4E3",
             "minorgridcolor": "#C8D4E3",
             "startlinecolor": "#2a3f5f"
            },
            "type": "carpet"
           }
          ],
          "choropleth": [
           {
            "colorbar": {
             "outlinewidth": 0,
             "ticks": ""
            },
            "type": "choropleth"
           }
          ],
          "contour": [
           {
            "colorbar": {
             "outlinewidth": 0,
             "ticks": ""
            },
            "colorscale": [
             [
              0,
              "#0d0887"
             ],
             [
              0.1111111111111111,
              "#46039f"
             ],
             [
              0.2222222222222222,
              "#7201a8"
             ],
             [
              0.3333333333333333,
              "#9c179e"
             ],
             [
              0.4444444444444444,
              "#bd3786"
             ],
             [
              0.5555555555555556,
              "#d8576b"
             ],
             [
              0.6666666666666666,
              "#ed7953"
             ],
             [
              0.7777777777777778,
              "#fb9f3a"
             ],
             [
              0.8888888888888888,
              "#fdca26"
             ],
             [
              1,
              "#f0f921"
             ]
            ],
            "type": "contour"
           }
          ],
          "contourcarpet": [
           {
            "colorbar": {
             "outlinewidth": 0,
             "ticks": ""
            },
            "type": "contourcarpet"
           }
          ],
          "heatmap": [
           {
            "colorbar": {
             "outlinewidth": 0,
             "ticks": ""
            },
            "colorscale": [
             [
              0,
              "#0d0887"
             ],
             [
              0.1111111111111111,
              "#46039f"
             ],
             [
              0.2222222222222222,
              "#7201a8"
             ],
             [
              0.3333333333333333,
              "#9c179e"
             ],
             [
              0.4444444444444444,
              "#bd3786"
             ],
             [
              0.5555555555555556,
              "#d8576b"
             ],
             [
              0.6666666666666666,
              "#ed7953"
             ],
             [
              0.7777777777777778,
              "#fb9f3a"
             ],
             [
              0.8888888888888888,
              "#fdca26"
             ],
             [
              1,
              "#f0f921"
             ]
            ],
            "type": "heatmap"
           }
          ],
          "heatmapgl": [
           {
            "colorbar": {
             "outlinewidth": 0,
             "ticks": ""
            },
            "colorscale": [
             [
              0,
              "#0d0887"
             ],
             [
              0.1111111111111111,
              "#46039f"
             ],
             [
              0.2222222222222222,
              "#7201a8"
             ],
             [
              0.3333333333333333,
              "#9c179e"
             ],
             [
              0.4444444444444444,
              "#bd3786"
             ],
             [
              0.5555555555555556,
              "#d8576b"
             ],
             [
              0.6666666666666666,
              "#ed7953"
             ],
             [
              0.7777777777777778,
              "#fb9f3a"
             ],
             [
              0.8888888888888888,
              "#fdca26"
             ],
             [
              1,
              "#f0f921"
             ]
            ],
            "type": "heatmapgl"
           }
          ],
          "histogram": [
           {
            "marker": {
             "pattern": {
              "fillmode": "overlay",
              "size": 10,
              "solidity": 0.2
             }
            },
            "type": "histogram"
           }
          ],
          "histogram2d": [
           {
            "colorbar": {
             "outlinewidth": 0,
             "ticks": ""
            },
            "colorscale": [
             [
              0,
              "#0d0887"
             ],
             [
              0.1111111111111111,
              "#46039f"
             ],
             [
              0.2222222222222222,
              "#7201a8"
             ],
             [
              0.3333333333333333,
              "#9c179e"
             ],
             [
              0.4444444444444444,
              "#bd3786"
             ],
             [
              0.5555555555555556,
              "#d8576b"
             ],
             [
              0.6666666666666666,
              "#ed7953"
             ],
             [
              0.7777777777777778,
              "#fb9f3a"
             ],
             [
              0.8888888888888888,
              "#fdca26"
             ],
             [
              1,
              "#f0f921"
             ]
            ],
            "type": "histogram2d"
           }
          ],
          "histogram2dcontour": [
           {
            "colorbar": {
             "outlinewidth": 0,
             "ticks": ""
            },
            "colorscale": [
             [
              0,
              "#0d0887"
             ],
             [
              0.1111111111111111,
              "#46039f"
             ],
             [
              0.2222222222222222,
              "#7201a8"
             ],
             [
              0.3333333333333333,
              "#9c179e"
             ],
             [
              0.4444444444444444,
              "#bd3786"
             ],
             [
              0.5555555555555556,
              "#d8576b"
             ],
             [
              0.6666666666666666,
              "#ed7953"
             ],
             [
              0.7777777777777778,
              "#fb9f3a"
             ],
             [
              0.8888888888888888,
              "#fdca26"
             ],
             [
              1,
              "#f0f921"
             ]
            ],
            "type": "histogram2dcontour"
           }
          ],
          "mesh3d": [
           {
            "colorbar": {
             "outlinewidth": 0,
             "ticks": ""
            },
            "type": "mesh3d"
           }
          ],
          "parcoords": [
           {
            "line": {
             "colorbar": {
              "outlinewidth": 0,
              "ticks": ""
             }
            },
            "type": "parcoords"
           }
          ],
          "pie": [
           {
            "automargin": true,
            "type": "pie"
           }
          ],
          "scatter": [
           {
            "fillpattern": {
             "fillmode": "overlay",
             "size": 10,
             "solidity": 0.2
            },
            "type": "scatter"
           }
          ],
          "scatter3d": [
           {
            "line": {
             "colorbar": {
              "outlinewidth": 0,
              "ticks": ""
             }
            },
            "marker": {
             "colorbar": {
              "outlinewidth": 0,
              "ticks": ""
             }
            },
            "type": "scatter3d"
           }
          ],
          "scattercarpet": [
           {
            "marker": {
             "colorbar": {
              "outlinewidth": 0,
              "ticks": ""
             }
            },
            "type": "scattercarpet"
           }
          ],
          "scattergeo": [
           {
            "marker": {
             "colorbar": {
              "outlinewidth": 0,
              "ticks": ""
             }
            },
            "type": "scattergeo"
           }
          ],
          "scattergl": [
           {
            "marker": {
             "colorbar": {
              "outlinewidth": 0,
              "ticks": ""
             }
            },
            "type": "scattergl"
           }
          ],
          "scattermapbox": [
           {
            "marker": {
             "colorbar": {
              "outlinewidth": 0,
              "ticks": ""
             }
            },
            "type": "scattermapbox"
           }
          ],
          "scatterpolar": [
           {
            "marker": {
             "colorbar": {
              "outlinewidth": 0,
              "ticks": ""
             }
            },
            "type": "scatterpolar"
           }
          ],
          "scatterpolargl": [
           {
            "marker": {
             "colorbar": {
              "outlinewidth": 0,
              "ticks": ""
             }
            },
            "type": "scatterpolargl"
           }
          ],
          "scatterternary": [
           {
            "marker": {
             "colorbar": {
              "outlinewidth": 0,
              "ticks": ""
             }
            },
            "type": "scatterternary"
           }
          ],
          "surface": [
           {
            "colorbar": {
             "outlinewidth": 0,
             "ticks": ""
            },
            "colorscale": [
             [
              0,
              "#0d0887"
             ],
             [
              0.1111111111111111,
              "#46039f"
             ],
             [
              0.2222222222222222,
              "#7201a8"
             ],
             [
              0.3333333333333333,
              "#9c179e"
             ],
             [
              0.4444444444444444,
              "#bd3786"
             ],
             [
              0.5555555555555556,
              "#d8576b"
             ],
             [
              0.6666666666666666,
              "#ed7953"
             ],
             [
              0.7777777777777778,
              "#fb9f3a"
             ],
             [
              0.8888888888888888,
              "#fdca26"
             ],
             [
              1,
              "#f0f921"
             ]
            ],
            "type": "surface"
           }
          ],
          "table": [
           {
            "cells": {
             "fill": {
              "color": "#EBF0F8"
             },
             "line": {
              "color": "white"
             }
            },
            "header": {
             "fill": {
              "color": "#C8D4E3"
             },
             "line": {
              "color": "white"
             }
            },
            "type": "table"
           }
          ]
         },
         "layout": {
          "annotationdefaults": {
           "arrowcolor": "#2a3f5f",
           "arrowhead": 0,
           "arrowwidth": 1
          },
          "autotypenumbers": "strict",
          "coloraxis": {
           "colorbar": {
            "outlinewidth": 0,
            "ticks": ""
           }
          },
          "colorscale": {
           "diverging": [
            [
             0,
             "#8e0152"
            ],
            [
             0.1,
             "#c51b7d"
            ],
            [
             0.2,
             "#de77ae"
            ],
            [
             0.3,
             "#f1b6da"
            ],
            [
             0.4,
             "#fde0ef"
            ],
            [
             0.5,
             "#f7f7f7"
            ],
            [
             0.6,
             "#e6f5d0"
            ],
            [
             0.7,
             "#b8e186"
            ],
            [
             0.8,
             "#7fbc41"
            ],
            [
             0.9,
             "#4d9221"
            ],
            [
             1,
             "#276419"
            ]
           ],
           "sequential": [
            [
             0,
             "#0d0887"
            ],
            [
             0.1111111111111111,
             "#46039f"
            ],
            [
             0.2222222222222222,
             "#7201a8"
            ],
            [
             0.3333333333333333,
             "#9c179e"
            ],
            [
             0.4444444444444444,
             "#bd3786"
            ],
            [
             0.5555555555555556,
             "#d8576b"
            ],
            [
             0.6666666666666666,
             "#ed7953"
            ],
            [
             0.7777777777777778,
             "#fb9f3a"
            ],
            [
             0.8888888888888888,
             "#fdca26"
            ],
            [
             1,
             "#f0f921"
            ]
           ],
           "sequentialminus": [
            [
             0,
             "#0d0887"
            ],
            [
             0.1111111111111111,
             "#46039f"
            ],
            [
             0.2222222222222222,
             "#7201a8"
            ],
            [
             0.3333333333333333,
             "#9c179e"
            ],
            [
             0.4444444444444444,
             "#bd3786"
            ],
            [
             0.5555555555555556,
             "#d8576b"
            ],
            [
             0.6666666666666666,
             "#ed7953"
            ],
            [
             0.7777777777777778,
             "#fb9f3a"
            ],
            [
             0.8888888888888888,
             "#fdca26"
            ],
            [
             1,
             "#f0f921"
            ]
           ]
          },
          "colorway": [
           "#636efa",
           "#EF553B",
           "#00cc96",
           "#ab63fa",
           "#FFA15A",
           "#19d3f3",
           "#FF6692",
           "#B6E880",
           "#FF97FF",
           "#FECB52"
          ],
          "font": {
           "color": "#2a3f5f"
          },
          "geo": {
           "bgcolor": "white",
           "lakecolor": "white",
           "landcolor": "white",
           "showlakes": true,
           "showland": true,
           "subunitcolor": "#C8D4E3"
          },
          "hoverlabel": {
           "align": "left"
          },
          "hovermode": "closest",
          "mapbox": {
           "style": "light"
          },
          "paper_bgcolor": "white",
          "plot_bgcolor": "white",
          "polar": {
           "angularaxis": {
            "gridcolor": "#EBF0F8",
            "linecolor": "#EBF0F8",
            "ticks": ""
           },
           "bgcolor": "white",
           "radialaxis": {
            "gridcolor": "#EBF0F8",
            "linecolor": "#EBF0F8",
            "ticks": ""
           }
          },
          "scene": {
           "xaxis": {
            "backgroundcolor": "white",
            "gridcolor": "#DFE8F3",
            "gridwidth": 2,
            "linecolor": "#EBF0F8",
            "showbackground": true,
            "ticks": "",
            "zerolinecolor": "#EBF0F8"
           },
           "yaxis": {
            "backgroundcolor": "white",
            "gridcolor": "#DFE8F3",
            "gridwidth": 2,
            "linecolor": "#EBF0F8",
            "showbackground": true,
            "ticks": "",
            "zerolinecolor": "#EBF0F8"
           },
           "zaxis": {
            "backgroundcolor": "white",
            "gridcolor": "#DFE8F3",
            "gridwidth": 2,
            "linecolor": "#EBF0F8",
            "showbackground": true,
            "ticks": "",
            "zerolinecolor": "#EBF0F8"
           }
          },
          "shapedefaults": {
           "line": {
            "color": "#2a3f5f"
           }
          },
          "ternary": {
           "aaxis": {
            "gridcolor": "#DFE8F3",
            "linecolor": "#A2B1C6",
            "ticks": ""
           },
           "baxis": {
            "gridcolor": "#DFE8F3",
            "linecolor": "#A2B1C6",
            "ticks": ""
           },
           "bgcolor": "white",
           "caxis": {
            "gridcolor": "#DFE8F3",
            "linecolor": "#A2B1C6",
            "ticks": ""
           }
          },
          "title": {
           "x": 0.05
          },
          "xaxis": {
           "automargin": true,
           "gridcolor": "#EBF0F8",
           "linecolor": "#EBF0F8",
           "ticks": "",
           "title": {
            "standoff": 15
           },
           "zerolinecolor": "#EBF0F8",
           "zerolinewidth": 2
          },
          "yaxis": {
           "automargin": true,
           "gridcolor": "#EBF0F8",
           "linecolor": "#EBF0F8",
           "ticks": "",
           "title": {
            "standoff": 15
           },
           "zerolinecolor": "#EBF0F8",
           "zerolinewidth": 2
          }
         }
        },
        "title": {
         "text": "Profile Visits vs. Follows"
        },
        "xaxis": {
         "anchor": "y",
         "domain": [
          0,
          1
         ],
         "title": {
          "text": "Profile Visits"
         }
        },
        "yaxis": {
         "anchor": "x",
         "domain": [
          0,
          1
         ],
         "title": {
          "text": "Follows"
         }
        }
       }
      }
     },
     "metadata": {},
     "output_type": "display_data"
    }
   ],
   "source": [
    "# Number of profile visists and follows\n",
    "\n",
    "fig = px.scatter(data, \n",
    "                 x='Profile Visits', \n",
    "                 y='Follows', \n",
    "                 trendline = 'ols',\n",
    "                 title='Profile Visits vs. Follows')\n",
    "fig.show()"
   ]
  },
  {
   "cell_type": "code",
   "execution_count": 37,
   "metadata": {},
   "outputs": [
    {
     "data": {
      "application/vnd.plotly.v1+json": {
       "config": {
        "plotlyServerURL": "https://plot.ly"
       },
       "data": [
        {
         "hovertemplate": "x: %{x}<br>y: %{y}<br>color: [%{z[0]}, %{z[1]}, %{z[2]}]<extra></extra>",
         "name": "0",
         "source": "data:image/png;base64,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",
         "type": "image",
         "xaxis": "x",
         "yaxis": "y"
        }
       ],
       "layout": {
        "template": {
         "data": {
          "bar": [
           {
            "error_x": {
             "color": "#2a3f5f"
            },
            "error_y": {
             "color": "#2a3f5f"
            },
            "marker": {
             "line": {
              "color": "white",
              "width": 0.5
             },
             "pattern": {
              "fillmode": "overlay",
              "size": 10,
              "solidity": 0.2
             }
            },
            "type": "bar"
           }
          ],
          "barpolar": [
           {
            "marker": {
             "line": {
              "color": "white",
              "width": 0.5
             },
             "pattern": {
              "fillmode": "overlay",
              "size": 10,
              "solidity": 0.2
             }
            },
            "type": "barpolar"
           }
          ],
          "carpet": [
           {
            "aaxis": {
             "endlinecolor": "#2a3f5f",
             "gridcolor": "#C8D4E3",
             "linecolor": "#C8D4E3",
             "minorgridcolor": "#C8D4E3",
             "startlinecolor": "#2a3f5f"
            },
            "baxis": {
             "endlinecolor": "#2a3f5f",
             "gridcolor": "#C8D4E3",
             "linecolor": "#C8D4E3",
             "minorgridcolor": "#C8D4E3",
             "startlinecolor": "#2a3f5f"
            },
            "type": "carpet"
           }
          ],
          "choropleth": [
           {
            "colorbar": {
             "outlinewidth": 0,
             "ticks": ""
            },
            "type": "choropleth"
           }
          ],
          "contour": [
           {
            "colorbar": {
             "outlinewidth": 0,
             "ticks": ""
            },
            "colorscale": [
             [
              0,
              "#0d0887"
             ],
             [
              0.1111111111111111,
              "#46039f"
             ],
             [
              0.2222222222222222,
              "#7201a8"
             ],
             [
              0.3333333333333333,
              "#9c179e"
             ],
             [
              0.4444444444444444,
              "#bd3786"
             ],
             [
              0.5555555555555556,
              "#d8576b"
             ],
             [
              0.6666666666666666,
              "#ed7953"
             ],
             [
              0.7777777777777778,
              "#fb9f3a"
             ],
             [
              0.8888888888888888,
              "#fdca26"
             ],
             [
              1,
              "#f0f921"
             ]
            ],
            "type": "contour"
           }
          ],
          "contourcarpet": [
           {
            "colorbar": {
             "outlinewidth": 0,
             "ticks": ""
            },
            "type": "contourcarpet"
           }
          ],
          "heatmap": [
           {
            "colorbar": {
             "outlinewidth": 0,
             "ticks": ""
            },
            "colorscale": [
             [
              0,
              "#0d0887"
             ],
             [
              0.1111111111111111,
              "#46039f"
             ],
             [
              0.2222222222222222,
              "#7201a8"
             ],
             [
              0.3333333333333333,
              "#9c179e"
             ],
             [
              0.4444444444444444,
              "#bd3786"
             ],
             [
              0.5555555555555556,
              "#d8576b"
             ],
             [
              0.6666666666666666,
              "#ed7953"
             ],
             [
              0.7777777777777778,
              "#fb9f3a"
             ],
             [
              0.8888888888888888,
              "#fdca26"
             ],
             [
              1,
              "#f0f921"
             ]
            ],
            "type": "heatmap"
           }
          ],
          "heatmapgl": [
           {
            "colorbar": {
             "outlinewidth": 0,
             "ticks": ""
            },
            "colorscale": [
             [
              0,
              "#0d0887"
             ],
             [
              0.1111111111111111,
              "#46039f"
             ],
             [
              0.2222222222222222,
              "#7201a8"
             ],
             [
              0.3333333333333333,
              "#9c179e"
             ],
             [
              0.4444444444444444,
              "#bd3786"
             ],
             [
              0.5555555555555556,
              "#d8576b"
             ],
             [
              0.6666666666666666,
              "#ed7953"
             ],
             [
              0.7777777777777778,
              "#fb9f3a"
             ],
             [
              0.8888888888888888,
              "#fdca26"
             ],
             [
              1,
              "#f0f921"
             ]
            ],
            "type": "heatmapgl"
           }
          ],
          "histogram": [
           {
            "marker": {
             "pattern": {
              "fillmode": "overlay",
              "size": 10,
              "solidity": 0.2
             }
            },
            "type": "histogram"
           }
          ],
          "histogram2d": [
           {
            "colorbar": {
             "outlinewidth": 0,
             "ticks": ""
            },
            "colorscale": [
             [
              0,
              "#0d0887"
             ],
             [
              0.1111111111111111,
              "#46039f"
             ],
             [
              0.2222222222222222,
              "#7201a8"
             ],
             [
              0.3333333333333333,
              "#9c179e"
             ],
             [
              0.4444444444444444,
              "#bd3786"
             ],
             [
              0.5555555555555556,
              "#d8576b"
             ],
             [
              0.6666666666666666,
              "#ed7953"
             ],
             [
              0.7777777777777778,
              "#fb9f3a"
             ],
             [
              0.8888888888888888,
              "#fdca26"
             ],
             [
              1,
              "#f0f921"
             ]
            ],
            "type": "histogram2d"
           }
          ],
          "histogram2dcontour": [
           {
            "colorbar": {
             "outlinewidth": 0,
             "ticks": ""
            },
            "colorscale": [
             [
              0,
              "#0d0887"
             ],
             [
              0.1111111111111111,
              "#46039f"
             ],
             [
              0.2222222222222222,
              "#7201a8"
             ],
             [
              0.3333333333333333,
              "#9c179e"
             ],
             [
              0.4444444444444444,
              "#bd3786"
             ],
             [
              0.5555555555555556,
              "#d8576b"
             ],
             [
              0.6666666666666666,
              "#ed7953"
             ],
             [
              0.7777777777777778,
              "#fb9f3a"
             ],
             [
              0.8888888888888888,
              "#fdca26"
             ],
             [
              1,
              "#f0f921"
             ]
            ],
            "type": "histogram2dcontour"
           }
          ],
          "mesh3d": [
           {
            "colorbar": {
             "outlinewidth": 0,
             "ticks": ""
            },
            "type": "mesh3d"
           }
          ],
          "parcoords": [
           {
            "line": {
             "colorbar": {
              "outlinewidth": 0,
              "ticks": ""
             }
            },
            "type": "parcoords"
           }
          ],
          "pie": [
           {
            "automargin": true,
            "type": "pie"
           }
          ],
          "scatter": [
           {
            "fillpattern": {
             "fillmode": "overlay",
             "size": 10,
             "solidity": 0.2
            },
            "type": "scatter"
           }
          ],
          "scatter3d": [
           {
            "line": {
             "colorbar": {
              "outlinewidth": 0,
              "ticks": ""
             }
            },
            "marker": {
             "colorbar": {
              "outlinewidth": 0,
              "ticks": ""
             }
            },
            "type": "scatter3d"
           }
          ],
          "scattercarpet": [
           {
            "marker": {
             "colorbar": {
              "outlinewidth": 0,
              "ticks": ""
             }
            },
            "type": "scattercarpet"
           }
          ],
          "scattergeo": [
           {
            "marker": {
             "colorbar": {
              "outlinewidth": 0,
              "ticks": ""
             }
            },
            "type": "scattergeo"
           }
          ],
          "scattergl": [
           {
            "marker": {
             "colorbar": {
              "outlinewidth": 0,
              "ticks": ""
             }
            },
            "type": "scattergl"
           }
          ],
          "scattermapbox": [
           {
            "marker": {
             "colorbar": {
              "outlinewidth": 0,
              "ticks": ""
             }
            },
            "type": "scattermapbox"
           }
          ],
          "scatterpolar": [
           {
            "marker": {
             "colorbar": {
              "outlinewidth": 0,
              "ticks": ""
             }
            },
            "type": "scatterpolar"
           }
          ],
          "scatterpolargl": [
           {
            "marker": {
             "colorbar": {
              "outlinewidth": 0,
              "ticks": ""
             }
            },
            "type": "scatterpolargl"
           }
          ],
          "scatterternary": [
           {
            "marker": {
             "colorbar": {
              "outlinewidth": 0,
              "ticks": ""
             }
            },
            "type": "scatterternary"
           }
          ],
          "surface": [
           {
            "colorbar": {
             "outlinewidth": 0,
             "ticks": ""
            },
            "colorscale": [
             [
              0,
              "#0d0887"
             ],
             [
              0.1111111111111111,
              "#46039f"
             ],
             [
              0.2222222222222222,
              "#7201a8"
             ],
             [
              0.3333333333333333,
              "#9c179e"
             ],
             [
              0.4444444444444444,
              "#bd3786"
             ],
             [
              0.5555555555555556,
              "#d8576b"
             ],
             [
              0.6666666666666666,
              "#ed7953"
             ],
             [
              0.7777777777777778,
              "#fb9f3a"
             ],
             [
              0.8888888888888888,
              "#fdca26"
             ],
             [
              1,
              "#f0f921"
             ]
            ],
            "type": "surface"
           }
          ],
          "table": [
           {
            "cells": {
             "fill": {
              "color": "#EBF0F8"
             },
             "line": {
              "color": "white"
             }
            },
            "header": {
             "fill": {
              "color": "#C8D4E3"
             },
             "line": {
              "color": "white"
             }
            },
            "type": "table"
           }
          ]
         },
         "layout": {
          "annotationdefaults": {
           "arrowcolor": "#2a3f5f",
           "arrowhead": 0,
           "arrowwidth": 1
          },
          "autotypenumbers": "strict",
          "coloraxis": {
           "colorbar": {
            "outlinewidth": 0,
            "ticks": ""
           }
          },
          "colorscale": {
           "diverging": [
            [
             0,
             "#8e0152"
            ],
            [
             0.1,
             "#c51b7d"
            ],
            [
             0.2,
             "#de77ae"
            ],
            [
             0.3,
             "#f1b6da"
            ],
            [
             0.4,
             "#fde0ef"
            ],
            [
             0.5,
             "#f7f7f7"
            ],
            [
             0.6,
             "#e6f5d0"
            ],
            [
             0.7,
             "#b8e186"
            ],
            [
             0.8,
             "#7fbc41"
            ],
            [
             0.9,
             "#4d9221"
            ],
            [
             1,
             "#276419"
            ]
           ],
           "sequential": [
            [
             0,
             "#0d0887"
            ],
            [
             0.1111111111111111,
             "#46039f"
            ],
            [
             0.2222222222222222,
             "#7201a8"
            ],
            [
             0.3333333333333333,
             "#9c179e"
            ],
            [
             0.4444444444444444,
             "#bd3786"
            ],
            [
             0.5555555555555556,
             "#d8576b"
            ],
            [
             0.6666666666666666,
             "#ed7953"
            ],
            [
             0.7777777777777778,
             "#fb9f3a"
            ],
            [
             0.8888888888888888,
             "#fdca26"
            ],
            [
             1,
             "#f0f921"
            ]
           ],
           "sequentialminus": [
            [
             0,
             "#0d0887"
            ],
            [
             0.1111111111111111,
             "#46039f"
            ],
            [
             0.2222222222222222,
             "#7201a8"
            ],
            [
             0.3333333333333333,
             "#9c179e"
            ],
            [
             0.4444444444444444,
             "#bd3786"
            ],
            [
             0.5555555555555556,
             "#d8576b"
            ],
            [
             0.6666666666666666,
             "#ed7953"
            ],
            [
             0.7777777777777778,
             "#fb9f3a"
            ],
            [
             0.8888888888888888,
             "#fdca26"
            ],
            [
             1,
             "#f0f921"
            ]
           ]
          },
          "colorway": [
           "#636efa",
           "#EF553B",
           "#00cc96",
           "#ab63fa",
           "#FFA15A",
           "#19d3f3",
           "#FF6692",
           "#B6E880",
           "#FF97FF",
           "#FECB52"
          ],
          "font": {
           "color": "#2a3f5f"
          },
          "geo": {
           "bgcolor": "white",
           "lakecolor": "white",
           "landcolor": "white",
           "showlakes": true,
           "showland": true,
           "subunitcolor": "#C8D4E3"
          },
          "hoverlabel": {
           "align": "left"
          },
          "hovermode": "closest",
          "mapbox": {
           "style": "light"
          },
          "paper_bgcolor": "white",
          "plot_bgcolor": "white",
          "polar": {
           "angularaxis": {
            "gridcolor": "#EBF0F8",
            "linecolor": "#EBF0F8",
            "ticks": ""
           },
           "bgcolor": "white",
           "radialaxis": {
            "gridcolor": "#EBF0F8",
            "linecolor": "#EBF0F8",
            "ticks": ""
           }
          },
          "scene": {
           "xaxis": {
            "backgroundcolor": "white",
            "gridcolor": "#DFE8F3",
            "gridwidth": 2,
            "linecolor": "#EBF0F8",
            "showbackground": true,
            "ticks": "",
            "zerolinecolor": "#EBF0F8"
           },
           "yaxis": {
            "backgroundcolor": "white",
            "gridcolor": "#DFE8F3",
            "gridwidth": 2,
            "linecolor": "#EBF0F8",
            "showbackground": true,
            "ticks": "",
            "zerolinecolor": "#EBF0F8"
           },
           "zaxis": {
            "backgroundcolor": "white",
            "gridcolor": "#DFE8F3",
            "gridwidth": 2,
            "linecolor": "#EBF0F8",
            "showbackground": true,
            "ticks": "",
            "zerolinecolor": "#EBF0F8"
           }
          },
          "shapedefaults": {
           "line": {
            "color": "#2a3f5f"
           }
          },
          "ternary": {
           "aaxis": {
            "gridcolor": "#DFE8F3",
            "linecolor": "#A2B1C6",
            "ticks": ""
           },
           "baxis": {
            "gridcolor": "#DFE8F3",
            "linecolor": "#A2B1C6",
            "ticks": ""
           },
           "bgcolor": "white",
           "caxis": {
            "gridcolor": "#DFE8F3",
            "linecolor": "#A2B1C6",
            "ticks": ""
           }
          },
          "title": {
           "x": 0.05
          },
          "xaxis": {
           "automargin": true,
           "gridcolor": "#EBF0F8",
           "linecolor": "#EBF0F8",
           "ticks": "",
           "title": {
            "standoff": 15
           },
           "zerolinecolor": "#EBF0F8",
           "zerolinewidth": 2
          },
          "yaxis": {
           "automargin": true,
           "gridcolor": "#EBF0F8",
           "linecolor": "#EBF0F8",
           "ticks": "",
           "title": {
            "standoff": 15
           },
           "zerolinecolor": "#EBF0F8",
           "zerolinewidth": 2
          }
         }
        },
        "title": {
         "text": "Hashtags Word Cloud"
        },
        "xaxis": {
         "anchor": "y",
         "domain": [
          0,
          1
         ]
        },
        "yaxis": {
         "anchor": "x",
         "domain": [
          0,
          1
         ]
        }
       }
      }
     },
     "metadata": {},
     "output_type": "display_data"
    }
   ],
   "source": [
    "# Type of hashtags used in the posts using a wordcloud\n",
    "\n",
    "from wordcloud import WordCloud\n",
    "\n",
    "hashtags = ' '.join(data['Hashtags'].astype(str))\n",
    "wordcloud = WordCloud().generate(hashtags)\n",
    "\n",
    "fig = px.imshow(wordcloud, title='Hashtags Word Cloud')\n",
    "fig.show()"
   ]
  },
  {
   "cell_type": "code",
   "execution_count": 38,
   "metadata": {},
   "outputs": [],
   "source": [
    "# Exclude non-numeric columns from the DataFrame\n",
    "numeric_data = data.select_dtypes(include=['number'])\n",
    "\n",
    "# Calculate the correlation matrix for numeric columns\n",
    "corr_matrix = numeric_data.corr()\n"
   ]
  },
  {
   "cell_type": "code",
   "execution_count": 39,
   "metadata": {},
   "outputs": [],
   "source": [
    "# Exclude non-numeric columns from the DataFrame\n",
    "numeric_data = data.select_dtypes(include=['number'])\n",
    "\n",
    "# Calculate the correlation matrix for numeric columns\n",
    "corr_matrix = numeric_data.corr()\n"
   ]
  },
  {
   "cell_type": "code",
   "execution_count": 40,
   "metadata": {},
   "outputs": [],
   "source": [
    "import pandas as pd\n",
    "\n",
    "# Assuming you have already loaded your DataFrame 'data'\n",
    "\n",
    "# One-hot encode the 'Hashtags' column\n",
    "hashtags_encoded = data['Hashtags'].str.get_dummies(sep=' ')\n",
    "\n",
    "# Combine the one-hot encoded columns with the numeric columns\n",
    "data_encoded = pd.concat([data.drop(['Hashtags', 'Caption'], axis=1), hashtags_encoded], axis=1)\n",
    "\n",
    "# Calculate the correlation matrix\n",
    "corr_matrix = data_encoded.corr()\n"
   ]
  },
  {
   "cell_type": "code",
   "execution_count": 41,
   "metadata": {},
   "outputs": [
    {
     "data": {
      "application/vnd.plotly.v1+json": {
       "config": {
        "plotlyServerURL": "https://plot.ly"
       },
       "data": [
        {
         "colorscale": [
          [
           0,
           "rgb(103,0,31)"
          ],
          [
           0.1,
           "rgb(178,24,43)"
          ],
          [
           0.2,
           "rgb(214,96,77)"
          ],
          [
           0.3,
           "rgb(244,165,130)"
          ],
          [
           0.4,
           "rgb(253,219,199)"
          ],
          [
           0.5,
           "rgb(247,247,247)"
          ],
          [
           0.6,
           "rgb(209,229,240)"
          ],
          [
           0.7,
           "rgb(146,197,222)"
          ],
          [
           0.8,
           "rgb(67,147,195)"
          ],
          [
           0.9,
           "rgb(33,102,172)"
          ],
          [
           1,
           "rgb(5,48,97)"
          ]
         ],
         "type": "heatmap",
         "x": [
          "Impressions",
          "From Home",
          "From Hashtags",
          "From Explore",
          "From Other",
          "Saves",
          "Comments",
          "Shares",
          "Likes",
          "Profile Visits",
          "Follows"
         ],
         "y": [
          "Impressions",
          "From Home",
          "From Hashtags",
          "From Explore",
          "From Other",
          "Saves",
          "Comments",
          "Shares",
          "Likes",
          "Profile Visits",
          "Follows"
         ],
         "z": [
          [
           1,
           0.8446984764644079,
           0.5607600444158378,
           0.8936074202433567,
           0.5929604758091378,
           0.7792314114268593,
           -0.028523933548663824,
           0.6346751252181763,
           0.8498353377178177,
           0.7609809286546657,
           0.8893634430344086
          ],
          [
           0.8446984764644079,
           1,
           0.1775156543309878,
           0.800573110578866,
           0.5556659551465412,
           0.768817005684724,
           0.012716248342545502,
           0.6749850448685393,
           0.698329637893805,
           0.531076205366268,
           0.6726750588858736
          ],
          [
           0.5607600444158378,
           0.1775156543309878,
           1,
           0.1904532189703739,
           0.2296233181732429,
           0.30592870314657494,
           0.1614388259073108,
           0.21951145515685286,
           0.6621242000877943,
           0.6913449048454711,
           0.5554854735531087
          ],
          [
           0.8936074202433567,
           0.800573110578866,
           0.1904532189703739,
           1,
           0.49568473618614567,
           0.7478028035868068,
           -0.15856537914498336,
           0.6157309658741993,
           0.653699336224973,
           0.5318502558055156,
           0.7960189422044351
          ],
          [
           0.5929604758091378,
           0.5556659551465412,
           0.2296233181732429,
           0.49568473618614567,
           1,
           0.3319068864386735,
           -0.1087029734222875,
           0.15683375635736396,
           0.3935104122090607,
           0.6330799446255249,
           0.5467370225356449
          ],
          [
           0.7792314114268593,
           0.768817005684724,
           0.30592870314657494,
           0.7478028035868068,
           0.3319068864386735,
           1,
           -0.026912263707560984,
           0.860324185158795,
           0.8456432932068351,
           0.36062821319868793,
           0.6284608823148304
          ],
          [
           -0.028523933548663824,
           0.012716248342545502,
           0.1614388259073108,
           -0.15856537914498336,
           -0.1087029734222875,
           -0.026912263707560984,
           1,
           0.016932532855360494,
           0.1235861027264814,
           0.09671424134518669,
           -0.060630774375331827
          ],
          [
           0.6346751252181763,
           0.6749850448685393,
           0.21951145515685286,
           0.6157309658741993,
           0.15683375635736396,
           0.860324185158795,
           0.016932532855360494,
           1,
           0.707794002688105,
           0.24536082330737743,
           0.4930698051158401
          ],
          [
           0.8498353377178177,
           0.698329637893805,
           0.6621242000877943,
           0.653699336224973,
           0.3935104122090607,
           0.8456432932068351,
           0.1235861027264814,
           0.707794002688105,
           1,
           0.6261070345218044,
           0.746333165592919
          ],
          [
           0.7609809286546657,
           0.531076205366268,
           0.6913449048454711,
           0.5318502558055156,
           0.6330799446255249,
           0.36062821319868793,
           0.09671424134518669,
           0.24536082330737743,
           0.6261070345218044,
           1,
           0.8531517459145104
          ],
          [
           0.8893634430344086,
           0.6726750588858736,
           0.5554854735531087,
           0.7960189422044351,
           0.5467370225356449,
           0.6284608823148304,
           -0.060630774375331827,
           0.4930698051158401,
           0.746333165592919,
           0.8531517459145104,
           1
          ]
         ],
         "zmax": 1,
         "zmin": -1
        }
       ],
       "layout": {
        "template": {
         "data": {
          "bar": [
           {
            "error_x": {
             "color": "#2a3f5f"
            },
            "error_y": {
             "color": "#2a3f5f"
            },
            "marker": {
             "line": {
              "color": "white",
              "width": 0.5
             },
             "pattern": {
              "fillmode": "overlay",
              "size": 10,
              "solidity": 0.2
             }
            },
            "type": "bar"
           }
          ],
          "barpolar": [
           {
            "marker": {
             "line": {
              "color": "white",
              "width": 0.5
             },
             "pattern": {
              "fillmode": "overlay",
              "size": 10,
              "solidity": 0.2
             }
            },
            "type": "barpolar"
           }
          ],
          "carpet": [
           {
            "aaxis": {
             "endlinecolor": "#2a3f5f",
             "gridcolor": "#C8D4E3",
             "linecolor": "#C8D4E3",
             "minorgridcolor": "#C8D4E3",
             "startlinecolor": "#2a3f5f"
            },
            "baxis": {
             "endlinecolor": "#2a3f5f",
             "gridcolor": "#C8D4E3",
             "linecolor": "#C8D4E3",
             "minorgridcolor": "#C8D4E3",
             "startlinecolor": "#2a3f5f"
            },
            "type": "carpet"
           }
          ],
          "choropleth": [
           {
            "colorbar": {
             "outlinewidth": 0,
             "ticks": ""
            },
            "type": "choropleth"
           }
          ],
          "contour": [
           {
            "colorbar": {
             "outlinewidth": 0,
             "ticks": ""
            },
            "colorscale": [
             [
              0,
              "#0d0887"
             ],
             [
              0.1111111111111111,
              "#46039f"
             ],
             [
              0.2222222222222222,
              "#7201a8"
             ],
             [
              0.3333333333333333,
              "#9c179e"
             ],
             [
              0.4444444444444444,
              "#bd3786"
             ],
             [
              0.5555555555555556,
              "#d8576b"
             ],
             [
              0.6666666666666666,
              "#ed7953"
             ],
             [
              0.7777777777777778,
              "#fb9f3a"
             ],
             [
              0.8888888888888888,
              "#fdca26"
             ],
             [
              1,
              "#f0f921"
             ]
            ],
            "type": "contour"
           }
          ],
          "contourcarpet": [
           {
            "colorbar": {
             "outlinewidth": 0,
             "ticks": ""
            },
            "type": "contourcarpet"
           }
          ],
          "heatmap": [
           {
            "colorbar": {
             "outlinewidth": 0,
             "ticks": ""
            },
            "colorscale": [
             [
              0,
              "#0d0887"
             ],
             [
              0.1111111111111111,
              "#46039f"
             ],
             [
              0.2222222222222222,
              "#7201a8"
             ],
             [
              0.3333333333333333,
              "#9c179e"
             ],
             [
              0.4444444444444444,
              "#bd3786"
             ],
             [
              0.5555555555555556,
              "#d8576b"
             ],
             [
              0.6666666666666666,
              "#ed7953"
             ],
             [
              0.7777777777777778,
              "#fb9f3a"
             ],
             [
              0.8888888888888888,
              "#fdca26"
             ],
             [
              1,
              "#f0f921"
             ]
            ],
            "type": "heatmap"
           }
          ],
          "heatmapgl": [
           {
            "colorbar": {
             "outlinewidth": 0,
             "ticks": ""
            },
            "colorscale": [
             [
              0,
              "#0d0887"
             ],
             [
              0.1111111111111111,
              "#46039f"
             ],
             [
              0.2222222222222222,
              "#7201a8"
             ],
             [
              0.3333333333333333,
              "#9c179e"
             ],
             [
              0.4444444444444444,
              "#bd3786"
             ],
             [
              0.5555555555555556,
              "#d8576b"
             ],
             [
              0.6666666666666666,
              "#ed7953"
             ],
             [
              0.7777777777777778,
              "#fb9f3a"
             ],
             [
              0.8888888888888888,
              "#fdca26"
             ],
             [
              1,
              "#f0f921"
             ]
            ],
            "type": "heatmapgl"
           }
          ],
          "histogram": [
           {
            "marker": {
             "pattern": {
              "fillmode": "overlay",
              "size": 10,
              "solidity": 0.2
             }
            },
            "type": "histogram"
           }
          ],
          "histogram2d": [
           {
            "colorbar": {
             "outlinewidth": 0,
             "ticks": ""
            },
            "colorscale": [
             [
              0,
              "#0d0887"
             ],
             [
              0.1111111111111111,
              "#46039f"
             ],
             [
              0.2222222222222222,
              "#7201a8"
             ],
             [
              0.3333333333333333,
              "#9c179e"
             ],
             [
              0.4444444444444444,
              "#bd3786"
             ],
             [
              0.5555555555555556,
              "#d8576b"
             ],
             [
              0.6666666666666666,
              "#ed7953"
             ],
             [
              0.7777777777777778,
              "#fb9f3a"
             ],
             [
              0.8888888888888888,
              "#fdca26"
             ],
             [
              1,
              "#f0f921"
             ]
            ],
            "type": "histogram2d"
           }
          ],
          "histogram2dcontour": [
           {
            "colorbar": {
             "outlinewidth": 0,
             "ticks": ""
            },
            "colorscale": [
             [
              0,
              "#0d0887"
             ],
             [
              0.1111111111111111,
              "#46039f"
             ],
             [
              0.2222222222222222,
              "#7201a8"
             ],
             [
              0.3333333333333333,
              "#9c179e"
             ],
             [
              0.4444444444444444,
              "#bd3786"
             ],
             [
              0.5555555555555556,
              "#d8576b"
             ],
             [
              0.6666666666666666,
              "#ed7953"
             ],
             [
              0.7777777777777778,
              "#fb9f3a"
             ],
             [
              0.8888888888888888,
              "#fdca26"
             ],
             [
              1,
              "#f0f921"
             ]
            ],
            "type": "histogram2dcontour"
           }
          ],
          "mesh3d": [
           {
            "colorbar": {
             "outlinewidth": 0,
             "ticks": ""
            },
            "type": "mesh3d"
           }
          ],
          "parcoords": [
           {
            "line": {
             "colorbar": {
              "outlinewidth": 0,
              "ticks": ""
             }
            },
            "type": "parcoords"
           }
          ],
          "pie": [
           {
            "automargin": true,
            "type": "pie"
           }
          ],
          "scatter": [
           {
            "fillpattern": {
             "fillmode": "overlay",
             "size": 10,
             "solidity": 0.2
            },
            "type": "scatter"
           }
          ],
          "scatter3d": [
           {
            "line": {
             "colorbar": {
              "outlinewidth": 0,
              "ticks": ""
             }
            },
            "marker": {
             "colorbar": {
              "outlinewidth": 0,
              "ticks": ""
             }
            },
            "type": "scatter3d"
           }
          ],
          "scattercarpet": [
           {
            "marker": {
             "colorbar": {
              "outlinewidth": 0,
              "ticks": ""
             }
            },
            "type": "scattercarpet"
           }
          ],
          "scattergeo": [
           {
            "marker": {
             "colorbar": {
              "outlinewidth": 0,
              "ticks": ""
             }
            },
            "type": "scattergeo"
           }
          ],
          "scattergl": [
           {
            "marker": {
             "colorbar": {
              "outlinewidth": 0,
              "ticks": ""
             }
            },
            "type": "scattergl"
           }
          ],
          "scattermapbox": [
           {
            "marker": {
             "colorbar": {
              "outlinewidth": 0,
              "ticks": ""
             }
            },
            "type": "scattermapbox"
           }
          ],
          "scatterpolar": [
           {
            "marker": {
             "colorbar": {
              "outlinewidth": 0,
              "ticks": ""
             }
            },
            "type": "scatterpolar"
           }
          ],
          "scatterpolargl": [
           {
            "marker": {
             "colorbar": {
              "outlinewidth": 0,
              "ticks": ""
             }
            },
            "type": "scatterpolargl"
           }
          ],
          "scatterternary": [
           {
            "marker": {
             "colorbar": {
              "outlinewidth": 0,
              "ticks": ""
             }
            },
            "type": "scatterternary"
           }
          ],
          "surface": [
           {
            "colorbar": {
             "outlinewidth": 0,
             "ticks": ""
            },
            "colorscale": [
             [
              0,
              "#0d0887"
             ],
             [
              0.1111111111111111,
              "#46039f"
             ],
             [
              0.2222222222222222,
              "#7201a8"
             ],
             [
              0.3333333333333333,
              "#9c179e"
             ],
             [
              0.4444444444444444,
              "#bd3786"
             ],
             [
              0.5555555555555556,
              "#d8576b"
             ],
             [
              0.6666666666666666,
              "#ed7953"
             ],
             [
              0.7777777777777778,
              "#fb9f3a"
             ],
             [
              0.8888888888888888,
              "#fdca26"
             ],
             [
              1,
              "#f0f921"
             ]
            ],
            "type": "surface"
           }
          ],
          "table": [
           {
            "cells": {
             "fill": {
              "color": "#EBF0F8"
             },
             "line": {
              "color": "white"
             }
            },
            "header": {
             "fill": {
              "color": "#C8D4E3"
             },
             "line": {
              "color": "white"
             }
            },
            "type": "table"
           }
          ]
         },
         "layout": {
          "annotationdefaults": {
           "arrowcolor": "#2a3f5f",
           "arrowhead": 0,
           "arrowwidth": 1
          },
          "autotypenumbers": "strict",
          "coloraxis": {
           "colorbar": {
            "outlinewidth": 0,
            "ticks": ""
           }
          },
          "colorscale": {
           "diverging": [
            [
             0,
             "#8e0152"
            ],
            [
             0.1,
             "#c51b7d"
            ],
            [
             0.2,
             "#de77ae"
            ],
            [
             0.3,
             "#f1b6da"
            ],
            [
             0.4,
             "#fde0ef"
            ],
            [
             0.5,
             "#f7f7f7"
            ],
            [
             0.6,
             "#e6f5d0"
            ],
            [
             0.7,
             "#b8e186"
            ],
            [
             0.8,
             "#7fbc41"
            ],
            [
             0.9,
             "#4d9221"
            ],
            [
             1,
             "#276419"
            ]
           ],
           "sequential": [
            [
             0,
             "#0d0887"
            ],
            [
             0.1111111111111111,
             "#46039f"
            ],
            [
             0.2222222222222222,
             "#7201a8"
            ],
            [
             0.3333333333333333,
             "#9c179e"
            ],
            [
             0.4444444444444444,
             "#bd3786"
            ],
            [
             0.5555555555555556,
             "#d8576b"
            ],
            [
             0.6666666666666666,
             "#ed7953"
            ],
            [
             0.7777777777777778,
             "#fb9f3a"
            ],
            [
             0.8888888888888888,
             "#fdca26"
            ],
            [
             1,
             "#f0f921"
            ]
           ],
           "sequentialminus": [
            [
             0,
             "#0d0887"
            ],
            [
             0.1111111111111111,
             "#46039f"
            ],
            [
             0.2222222222222222,
             "#7201a8"
            ],
            [
             0.3333333333333333,
             "#9c179e"
            ],
            [
             0.4444444444444444,
             "#bd3786"
            ],
            [
             0.5555555555555556,
             "#d8576b"
            ],
            [
             0.6666666666666666,
             "#ed7953"
            ],
            [
             0.7777777777777778,
             "#fb9f3a"
            ],
            [
             0.8888888888888888,
             "#fdca26"
            ],
            [
             1,
             "#f0f921"
            ]
           ]
          },
          "colorway": [
           "#636efa",
           "#EF553B",
           "#00cc96",
           "#ab63fa",
           "#FFA15A",
           "#19d3f3",
           "#FF6692",
           "#B6E880",
           "#FF97FF",
           "#FECB52"
          ],
          "font": {
           "color": "#2a3f5f"
          },
          "geo": {
           "bgcolor": "white",
           "lakecolor": "white",
           "landcolor": "white",
           "showlakes": true,
           "showland": true,
           "subunitcolor": "#C8D4E3"
          },
          "hoverlabel": {
           "align": "left"
          },
          "hovermode": "closest",
          "mapbox": {
           "style": "light"
          },
          "paper_bgcolor": "white",
          "plot_bgcolor": "white",
          "polar": {
           "angularaxis": {
            "gridcolor": "#EBF0F8",
            "linecolor": "#EBF0F8",
            "ticks": ""
           },
           "bgcolor": "white",
           "radialaxis": {
            "gridcolor": "#EBF0F8",
            "linecolor": "#EBF0F8",
            "ticks": ""
           }
          },
          "scene": {
           "xaxis": {
            "backgroundcolor": "white",
            "gridcolor": "#DFE8F3",
            "gridwidth": 2,
            "linecolor": "#EBF0F8",
            "showbackground": true,
            "ticks": "",
            "zerolinecolor": "#EBF0F8"
           },
           "yaxis": {
            "backgroundcolor": "white",
            "gridcolor": "#DFE8F3",
            "gridwidth": 2,
            "linecolor": "#EBF0F8",
            "showbackground": true,
            "ticks": "",
            "zerolinecolor": "#EBF0F8"
           },
           "zaxis": {
            "backgroundcolor": "white",
            "gridcolor": "#DFE8F3",
            "gridwidth": 2,
            "linecolor": "#EBF0F8",
            "showbackground": true,
            "ticks": "",
            "zerolinecolor": "#EBF0F8"
           }
          },
          "shapedefaults": {
           "line": {
            "color": "#2a3f5f"
           }
          },
          "ternary": {
           "aaxis": {
            "gridcolor": "#DFE8F3",
            "linecolor": "#A2B1C6",
            "ticks": ""
           },
           "baxis": {
            "gridcolor": "#DFE8F3",
            "linecolor": "#A2B1C6",
            "ticks": ""
           },
           "bgcolor": "white",
           "caxis": {
            "gridcolor": "#DFE8F3",
            "linecolor": "#A2B1C6",
            "ticks": ""
           }
          },
          "title": {
           "x": 0.05
          },
          "xaxis": {
           "automargin": true,
           "gridcolor": "#EBF0F8",
           "linecolor": "#EBF0F8",
           "ticks": "",
           "title": {
            "standoff": 15
           },
           "zerolinecolor": "#EBF0F8",
           "zerolinewidth": 2
          },
          "yaxis": {
           "automargin": true,
           "gridcolor": "#EBF0F8",
           "linecolor": "#EBF0F8",
           "ticks": "",
           "title": {
            "standoff": 15
           },
           "zerolinecolor": "#EBF0F8",
           "zerolinewidth": 2
          }
         }
        },
        "title": {
         "text": "Correlation Matrix"
        },
        "xaxis": {
         "title": {
          "text": "Features"
         }
        },
        "yaxis": {
         "title": {
          "text": "Features"
         }
        }
       }
      }
     },
     "metadata": {},
     "output_type": "display_data"
    }
   ],
   "source": [
    "# Select only the numeric columns from the DataFrame\n",
    "numeric_data = data.select_dtypes(include=['int64'])\n",
    "\n",
    "# Calculate the correlation matrix for the numeric columns\n",
    "corr_matrix = numeric_data.corr()\n",
    "\n",
    "# Creating and displaying the heatmap\n",
    "fig = go.Figure(data=go.Heatmap(z=corr_matrix.values,\n",
    "                               x=corr_matrix.columns,\n",
    "                               y=corr_matrix.index,\n",
    "                               colorscale='RdBu',\n",
    "                               zmin=-1,\n",
    "                               zmax=1))\n",
    "\n",
    "fig.update_layout(title='Correlation Matrix',\n",
    "                  xaxis_title='Features',\n",
    "                  yaxis_title='Features')\n",
    "\n",
    "fig.show()\n"
   ]
  },
  {
   "cell_type": "code",
   "execution_count": 42,
   "metadata": {},
   "outputs": [
    {
     "data": {
      "application/vnd.plotly.v1+json": {
       "config": {
        "plotlyServerURL": "https://plot.ly"
       },
       "data": [
        {
         "alignmentgroup": "True",
         "hovertemplate": "Hashtag=%{x}<br>Count=%{y}<extra></extra>",
         "legendgroup": "",
         "marker": {
          "color": "#636efa",
          "pattern": {
           "shape": ""
          }
         },
         "name": "",
         "offsetgroup": "",
         "orientation": "v",
         "showlegend": false,
         "textposition": "auto",
         "type": "bar",
         "x": [
          "#thecleverprogrammer",
          "#amankharwal",
          "#python",
          "#machinelearning",
          "#pythonprogramming",
          "#datascience",
          "#ai",
          "#pythonprojects",
          "#artificialintelligence",
          "#data",
          "#dataanalytics",
          "#datascientist",
          "#pythoncode",
          "#dataanalysis",
          "#deeplearning",
          "#datascienceprojects",
          "#machinelearningprojects",
          "#programming",
          "#technology",
          "#coding",
          "#tech",
          "#computerscience",
          "#bigdata",
          "#pythonlearning",
          "#pythoncoding",
          "#pythondeveloper",
          "#datavisualization",
          "#pythonprogrammer",
          "#analytics",
          "#business",
          "#statistics",
          "#machinelearningalgorithms",
          "#dataanalyst",
          "#webdevelopment",
          "#algorithm",
          "#software",
          "#naturallanguageprocessing",
          "#algorithms",
          "#nlp",
          "#neuralnetwork",
          "#ml",
          "#database",
          "#javascript",
          "#code",
          "#coder",
          "#programmer",
          "#java",
          "#softwaredeveloper",
          "#codinglife",
          "#sentimentanalysis",
          "#sentiment",
          "#webdeveloper",
          "#css",
          "#html",
          "#machinelearningmodels",
          "#developer",
          "#timeseriesanalysis",
          "#iot",
          "#analysis",
          "#timeseriesmalaysia",
          "#businessintelligence",
          "#datasciencejobs",
          "#datasciencetraining",
          "#datascienceeducation",
          "#datasciencecourse",
          "#datamining",
          "#time",
          "#timeseries",
          "#php",
          "#programminglife",
          "#hacking",
          "#programmingmemes",
          "#programmers",
          "#neuralnetworks",
          "#webdesign",
          "#dataviz",
          "#linux",
          "#casestudy",
          "#businessmodel",
          "#zomato",
          "#money",
          "#interview",
          "#finance",
          "#powerbi",
          "#tensorflow",
          "#job",
          "#artificialintelligenceai",
          "#investing",
          "#trading",
          "#stockmarket",
          "#healthcare",
          "#health",
          "#covid",
          "#investment",
          "#cryptocurrency",
          "#bitcoin",
          "#dataanalysisprojects",
          "#businessanalytics",
          "#python3",
          "#roadmap",
          "#codinginterview",
          "#pythonprogramminglanguage",
          "#otp",
          "#innovation",
          "#recommendationsystem",
          "#recommendations",
          "#recommended",
          "#otpverification",
          "#projects",
          "#casestudies",
          "#amazonfinds",
          "#security",
          "#cybersecurity",
          "#network",
          "#internet",
          "#cloud",
          "#recommendation",
          "#careergoals",
          "#jobsearch",
          "#work",
          "#tableau",
          "#stocks",
          "#forex",
          "#candlestick",
          "#candlestickcharts",
          "#career",
          "#jobs",
          "#stressdetection",
          "#education",
          "#success",
          "#motivation",
          "#clustering",
          "#careerdevelopment",
          "#careeradvice",
          "#digitalmarketing",
          "#media",
          "#socialmedia",
          "#IT",
          "#marketing",
          "#students",
          "#resume",
          "#goals",
          "#careers",
          "#stress",
          "#sql",
          "#pythonbooks",
          "#mysql",
          "#softskills",
          "#instagramreach",
          "#instagram",
          "#ukraine",
          "#pythonprogram",
          "#whatsapp",
          "@codergallery",
          "#google",
          "#news",
          "#flipkart",
          "#bookstagram",
          "#alexnet",
          "#bigdataanalytics",
          "#qrcodes",
          "#datascienceinterview",
          "#facebook",
          "#boxplots"
         ],
         "xaxis": "x",
         "y": [
          117,
          117,
          109,
          97,
          95,
          94,
          91,
          90,
          89,
          88,
          87,
          83,
          78,
          77,
          75,
          43,
          43,
          26,
          25,
          24,
          23,
          21,
          20,
          19,
          19,
          19,
          19,
          19,
          16,
          16,
          14,
          13,
          12,
          10,
          9,
          9,
          9,
          9,
          9,
          8,
          8,
          7,
          7,
          7,
          7,
          7,
          7,
          7,
          7,
          7,
          7,
          7,
          7,
          7,
          7,
          7,
          6,
          6,
          6,
          6,
          6,
          6,
          6,
          6,
          6,
          6,
          6,
          6,
          5,
          5,
          5,
          5,
          5,
          5,
          5,
          5,
          5,
          4,
          4,
          4,
          4,
          4,
          4,
          4,
          4,
          4,
          4,
          4,
          3,
          3,
          3,
          3,
          3,
          3,
          3,
          3,
          3,
          3,
          2,
          2,
          2,
          2,
          2,
          2,
          2,
          2,
          2,
          2,
          2,
          2,
          2,
          2,
          2,
          2,
          2,
          2,
          2,
          2,
          2,
          2,
          2,
          2,
          2,
          2,
          2,
          2,
          2,
          2,
          2,
          2,
          2,
          2,
          2,
          2,
          2,
          2,
          2,
          2,
          2,
          2,
          2,
          2,
          2,
          2,
          1,
          1,
          1,
          1,
          1,
          1,
          1,
          1,
          1,
          1,
          1,
          1,
          1,
          1,
          1,
          1,
          1,
          1,
          1,
          1
         ],
         "yaxis": "y"
        }
       ],
       "layout": {
        "barmode": "relative",
        "legend": {
         "tracegroupgap": 0
        },
        "template": {
         "data": {
          "bar": [
           {
            "error_x": {
             "color": "#2a3f5f"
            },
            "error_y": {
             "color": "#2a3f5f"
            },
            "marker": {
             "line": {
              "color": "white",
              "width": 0.5
             },
             "pattern": {
              "fillmode": "overlay",
              "size": 10,
              "solidity": 0.2
             }
            },
            "type": "bar"
           }
          ],
          "barpolar": [
           {
            "marker": {
             "line": {
              "color": "white",
              "width": 0.5
             },
             "pattern": {
              "fillmode": "overlay",
              "size": 10,
              "solidity": 0.2
             }
            },
            "type": "barpolar"
           }
          ],
          "carpet": [
           {
            "aaxis": {
             "endlinecolor": "#2a3f5f",
             "gridcolor": "#C8D4E3",
             "linecolor": "#C8D4E3",
             "minorgridcolor": "#C8D4E3",
             "startlinecolor": "#2a3f5f"
            },
            "baxis": {
             "endlinecolor": "#2a3f5f",
             "gridcolor": "#C8D4E3",
             "linecolor": "#C8D4E3",
             "minorgridcolor": "#C8D4E3",
             "startlinecolor": "#2a3f5f"
            },
            "type": "carpet"
           }
          ],
          "choropleth": [
           {
            "colorbar": {
             "outlinewidth": 0,
             "ticks": ""
            },
            "type": "choropleth"
           }
          ],
          "contour": [
           {
            "colorbar": {
             "outlinewidth": 0,
             "ticks": ""
            },
            "colorscale": [
             [
              0,
              "#0d0887"
             ],
             [
              0.1111111111111111,
              "#46039f"
             ],
             [
              0.2222222222222222,
              "#7201a8"
             ],
             [
              0.3333333333333333,
              "#9c179e"
             ],
             [
              0.4444444444444444,
              "#bd3786"
             ],
             [
              0.5555555555555556,
              "#d8576b"
             ],
             [
              0.6666666666666666,
              "#ed7953"
             ],
             [
              0.7777777777777778,
              "#fb9f3a"
             ],
             [
              0.8888888888888888,
              "#fdca26"
             ],
             [
              1,
              "#f0f921"
             ]
            ],
            "type": "contour"
           }
          ],
          "contourcarpet": [
           {
            "colorbar": {
             "outlinewidth": 0,
             "ticks": ""
            },
            "type": "contourcarpet"
           }
          ],
          "heatmap": [
           {
            "colorbar": {
             "outlinewidth": 0,
             "ticks": ""
            },
            "colorscale": [
             [
              0,
              "#0d0887"
             ],
             [
              0.1111111111111111,
              "#46039f"
             ],
             [
              0.2222222222222222,
              "#7201a8"
             ],
             [
              0.3333333333333333,
              "#9c179e"
             ],
             [
              0.4444444444444444,
              "#bd3786"
             ],
             [
              0.5555555555555556,
              "#d8576b"
             ],
             [
              0.6666666666666666,
              "#ed7953"
             ],
             [
              0.7777777777777778,
              "#fb9f3a"
             ],
             [
              0.8888888888888888,
              "#fdca26"
             ],
             [
              1,
              "#f0f921"
             ]
            ],
            "type": "heatmap"
           }
          ],
          "heatmapgl": [
           {
            "colorbar": {
             "outlinewidth": 0,
             "ticks": ""
            },
            "colorscale": [
             [
              0,
              "#0d0887"
             ],
             [
              0.1111111111111111,
              "#46039f"
             ],
             [
              0.2222222222222222,
              "#7201a8"
             ],
             [
              0.3333333333333333,
              "#9c179e"
             ],
             [
              0.4444444444444444,
              "#bd3786"
             ],
             [
              0.5555555555555556,
              "#d8576b"
             ],
             [
              0.6666666666666666,
              "#ed7953"
             ],
             [
              0.7777777777777778,
              "#fb9f3a"
             ],
             [
              0.8888888888888888,
              "#fdca26"
             ],
             [
              1,
              "#f0f921"
             ]
            ],
            "type": "heatmapgl"
           }
          ],
          "histogram": [
           {
            "marker": {
             "pattern": {
              "fillmode": "overlay",
              "size": 10,
              "solidity": 0.2
             }
            },
            "type": "histogram"
           }
          ],
          "histogram2d": [
           {
            "colorbar": {
             "outlinewidth": 0,
             "ticks": ""
            },
            "colorscale": [
             [
              0,
              "#0d0887"
             ],
             [
              0.1111111111111111,
              "#46039f"
             ],
             [
              0.2222222222222222,
              "#7201a8"
             ],
             [
              0.3333333333333333,
              "#9c179e"
             ],
             [
              0.4444444444444444,
              "#bd3786"
             ],
             [
              0.5555555555555556,
              "#d8576b"
             ],
             [
              0.6666666666666666,
              "#ed7953"
             ],
             [
              0.7777777777777778,
              "#fb9f3a"
             ],
             [
              0.8888888888888888,
              "#fdca26"
             ],
             [
              1,
              "#f0f921"
             ]
            ],
            "type": "histogram2d"
           }
          ],
          "histogram2dcontour": [
           {
            "colorbar": {
             "outlinewidth": 0,
             "ticks": ""
            },
            "colorscale": [
             [
              0,
              "#0d0887"
             ],
             [
              0.1111111111111111,
              "#46039f"
             ],
             [
              0.2222222222222222,
              "#7201a8"
             ],
             [
              0.3333333333333333,
              "#9c179e"
             ],
             [
              0.4444444444444444,
              "#bd3786"
             ],
             [
              0.5555555555555556,
              "#d8576b"
             ],
             [
              0.6666666666666666,
              "#ed7953"
             ],
             [
              0.7777777777777778,
              "#fb9f3a"
             ],
             [
              0.8888888888888888,
              "#fdca26"
             ],
             [
              1,
              "#f0f921"
             ]
            ],
            "type": "histogram2dcontour"
           }
          ],
          "mesh3d": [
           {
            "colorbar": {
             "outlinewidth": 0,
             "ticks": ""
            },
            "type": "mesh3d"
           }
          ],
          "parcoords": [
           {
            "line": {
             "colorbar": {
              "outlinewidth": 0,
              "ticks": ""
             }
            },
            "type": "parcoords"
           }
          ],
          "pie": [
           {
            "automargin": true,
            "type": "pie"
           }
          ],
          "scatter": [
           {
            "fillpattern": {
             "fillmode": "overlay",
             "size": 10,
             "solidity": 0.2
            },
            "type": "scatter"
           }
          ],
          "scatter3d": [
           {
            "line": {
             "colorbar": {
              "outlinewidth": 0,
              "ticks": ""
             }
            },
            "marker": {
             "colorbar": {
              "outlinewidth": 0,
              "ticks": ""
             }
            },
            "type": "scatter3d"
           }
          ],
          "scattercarpet": [
           {
            "marker": {
             "colorbar": {
              "outlinewidth": 0,
              "ticks": ""
             }
            },
            "type": "scattercarpet"
           }
          ],
          "scattergeo": [
           {
            "marker": {
             "colorbar": {
              "outlinewidth": 0,
              "ticks": ""
             }
            },
            "type": "scattergeo"
           }
          ],
          "scattergl": [
           {
            "marker": {
             "colorbar": {
              "outlinewidth": 0,
              "ticks": ""
             }
            },
            "type": "scattergl"
           }
          ],
          "scattermapbox": [
           {
            "marker": {
             "colorbar": {
              "outlinewidth": 0,
              "ticks": ""
             }
            },
            "type": "scattermapbox"
           }
          ],
          "scatterpolar": [
           {
            "marker": {
             "colorbar": {
              "outlinewidth": 0,
              "ticks": ""
             }
            },
            "type": "scatterpolar"
           }
          ],
          "scatterpolargl": [
           {
            "marker": {
             "colorbar": {
              "outlinewidth": 0,
              "ticks": ""
             }
            },
            "type": "scatterpolargl"
           }
          ],
          "scatterternary": [
           {
            "marker": {
             "colorbar": {
              "outlinewidth": 0,
              "ticks": ""
             }
            },
            "type": "scatterternary"
           }
          ],
          "surface": [
           {
            "colorbar": {
             "outlinewidth": 0,
             "ticks": ""
            },
            "colorscale": [
             [
              0,
              "#0d0887"
             ],
             [
              0.1111111111111111,
              "#46039f"
             ],
             [
              0.2222222222222222,
              "#7201a8"
             ],
             [
              0.3333333333333333,
              "#9c179e"
             ],
             [
              0.4444444444444444,
              "#bd3786"
             ],
             [
              0.5555555555555556,
              "#d8576b"
             ],
             [
              0.6666666666666666,
              "#ed7953"
             ],
             [
              0.7777777777777778,
              "#fb9f3a"
             ],
             [
              0.8888888888888888,
              "#fdca26"
             ],
             [
              1,
              "#f0f921"
             ]
            ],
            "type": "surface"
           }
          ],
          "table": [
           {
            "cells": {
             "fill": {
              "color": "#EBF0F8"
             },
             "line": {
              "color": "white"
             }
            },
            "header": {
             "fill": {
              "color": "#C8D4E3"
             },
             "line": {
              "color": "white"
             }
            },
            "type": "table"
           }
          ]
         },
         "layout": {
          "annotationdefaults": {
           "arrowcolor": "#2a3f5f",
           "arrowhead": 0,
           "arrowwidth": 1
          },
          "autotypenumbers": "strict",
          "coloraxis": {
           "colorbar": {
            "outlinewidth": 0,
            "ticks": ""
           }
          },
          "colorscale": {
           "diverging": [
            [
             0,
             "#8e0152"
            ],
            [
             0.1,
             "#c51b7d"
            ],
            [
             0.2,
             "#de77ae"
            ],
            [
             0.3,
             "#f1b6da"
            ],
            [
             0.4,
             "#fde0ef"
            ],
            [
             0.5,
             "#f7f7f7"
            ],
            [
             0.6,
             "#e6f5d0"
            ],
            [
             0.7,
             "#b8e186"
            ],
            [
             0.8,
             "#7fbc41"
            ],
            [
             0.9,
             "#4d9221"
            ],
            [
             1,
             "#276419"
            ]
           ],
           "sequential": [
            [
             0,
             "#0d0887"
            ],
            [
             0.1111111111111111,
             "#46039f"
            ],
            [
             0.2222222222222222,
             "#7201a8"
            ],
            [
             0.3333333333333333,
             "#9c179e"
            ],
            [
             0.4444444444444444,
             "#bd3786"
            ],
            [
             0.5555555555555556,
             "#d8576b"
            ],
            [
             0.6666666666666666,
             "#ed7953"
            ],
            [
             0.7777777777777778,
             "#fb9f3a"
            ],
            [
             0.8888888888888888,
             "#fdca26"
            ],
            [
             1,
             "#f0f921"
            ]
           ],
           "sequentialminus": [
            [
             0,
             "#0d0887"
            ],
            [
             0.1111111111111111,
             "#46039f"
            ],
            [
             0.2222222222222222,
             "#7201a8"
            ],
            [
             0.3333333333333333,
             "#9c179e"
            ],
            [
             0.4444444444444444,
             "#bd3786"
            ],
            [
             0.5555555555555556,
             "#d8576b"
            ],
            [
             0.6666666666666666,
             "#ed7953"
            ],
            [
             0.7777777777777778,
             "#fb9f3a"
            ],
            [
             0.8888888888888888,
             "#fdca26"
            ],
            [
             1,
             "#f0f921"
            ]
           ]
          },
          "colorway": [
           "#636efa",
           "#EF553B",
           "#00cc96",
           "#ab63fa",
           "#FFA15A",
           "#19d3f3",
           "#FF6692",
           "#B6E880",
           "#FF97FF",
           "#FECB52"
          ],
          "font": {
           "color": "#2a3f5f"
          },
          "geo": {
           "bgcolor": "white",
           "lakecolor": "white",
           "landcolor": "white",
           "showlakes": true,
           "showland": true,
           "subunitcolor": "#C8D4E3"
          },
          "hoverlabel": {
           "align": "left"
          },
          "hovermode": "closest",
          "mapbox": {
           "style": "light"
          },
          "paper_bgcolor": "white",
          "plot_bgcolor": "white",
          "polar": {
           "angularaxis": {
            "gridcolor": "#EBF0F8",
            "linecolor": "#EBF0F8",
            "ticks": ""
           },
           "bgcolor": "white",
           "radialaxis": {
            "gridcolor": "#EBF0F8",
            "linecolor": "#EBF0F8",
            "ticks": ""
           }
          },
          "scene": {
           "xaxis": {
            "backgroundcolor": "white",
            "gridcolor": "#DFE8F3",
            "gridwidth": 2,
            "linecolor": "#EBF0F8",
            "showbackground": true,
            "ticks": "",
            "zerolinecolor": "#EBF0F8"
           },
           "yaxis": {
            "backgroundcolor": "white",
            "gridcolor": "#DFE8F3",
            "gridwidth": 2,
            "linecolor": "#EBF0F8",
            "showbackground": true,
            "ticks": "",
            "zerolinecolor": "#EBF0F8"
           },
           "zaxis": {
            "backgroundcolor": "white",
            "gridcolor": "#DFE8F3",
            "gridwidth": 2,
            "linecolor": "#EBF0F8",
            "showbackground": true,
            "ticks": "",
            "zerolinecolor": "#EBF0F8"
           }
          },
          "shapedefaults": {
           "line": {
            "color": "#2a3f5f"
           }
          },
          "ternary": {
           "aaxis": {
            "gridcolor": "#DFE8F3",
            "linecolor": "#A2B1C6",
            "ticks": ""
           },
           "baxis": {
            "gridcolor": "#DFE8F3",
            "linecolor": "#A2B1C6",
            "ticks": ""
           },
           "bgcolor": "white",
           "caxis": {
            "gridcolor": "#DFE8F3",
            "linecolor": "#A2B1C6",
            "ticks": ""
           }
          },
          "title": {
           "x": 0.05
          },
          "xaxis": {
           "automargin": true,
           "gridcolor": "#EBF0F8",
           "linecolor": "#EBF0F8",
           "ticks": "",
           "title": {
            "standoff": 15
           },
           "zerolinecolor": "#EBF0F8",
           "zerolinewidth": 2
          },
          "yaxis": {
           "automargin": true,
           "gridcolor": "#EBF0F8",
           "linecolor": "#EBF0F8",
           "ticks": "",
           "title": {
            "standoff": 15
           },
           "zerolinecolor": "#EBF0F8",
           "zerolinewidth": 2
          }
         }
        },
        "title": {
         "text": "Distribution of Hashtags"
        },
        "xaxis": {
         "anchor": "y",
         "domain": [
          0,
          1
         ],
         "title": {
          "text": "Hashtag"
         }
        },
        "yaxis": {
         "anchor": "x",
         "domain": [
          0,
          1
         ],
         "title": {
          "text": "Count"
         }
        }
       }
      }
     },
     "metadata": {},
     "output_type": "display_data"
    }
   ],
   "source": [
    "# Create a list to store all hashtags\n",
    "\n",
    "all_hashtags = []\n",
    "\n",
    "# Iterate through each row in the 'Hashtags' column\n",
    "for row in data[\"Hashtags\"]:\n",
    "    hashtags = str(row).split()\n",
    "    hashtags = [tag.strip() for tag in hashtags]\n",
    "    all_hashtags.extend(hashtags)\n",
    "\n",
    "# Create a pandas Dataframe to store the hashtag distribution\n",
    "hashtag_distribution = pd.Series(all_hashtags).value_counts().reset_index()\n",
    "hashtag_distribution.columns = [\"Hashtag\", \"Count\"]\n",
    "\n",
    "fig = px.bar(hashtag_distribution, x = \"Hashtag\",\n",
    "             y = \"Count\", title = \"Distribution of Hashtags\")\n",
    "fig.show()\n",
    " \n",
    "    "
   ]
  },
  {
   "cell_type": "code",
   "execution_count": 46,
   "metadata": {},
   "outputs": [
    {
     "data": {
      "application/vnd.plotly.v1+json": {
       "config": {
        "plotlyServerURL": "https://plot.ly"
       },
       "data": [
        {
         "alignmentgroup": "True",
         "hovertemplate": "Hashtag=%{x}<br>Likes=%{y}<extra></extra>",
         "legendgroup": "",
         "marker": {
          "color": "#636efa",
          "pattern": {
           "shape": ""
          }
         },
         "name": "",
         "offsetgroup": "",
         "orientation": "v",
         "showlegend": false,
         "textposition": "auto",
         "type": "bar",
         "x": [
          "#finance",
          "#money",
          "#business",
          "#investing",
          "#investment",
          "#trading",
          "#stockmarket",
          "#data",
          "#datascience",
          "#dataanalysis",
          "#dataanalytics",
          "#datascientist",
          "#machinelearning",
          "#python",
          "#pythonprogramming",
          "#pythonprojects",
          "#pythoncode",
          "#artificialintelligence",
          "#ai",
          "#dataanalyst",
          "#amankharwal",
          "#thecleverprogrammer",
          "#healthcare",
          "#health",
          "#covid",
          "#deeplearning",
          "#machinelearningprojects",
          "#datascienceprojects",
          "#machinelearningmodels",
          "#pythonlearning",
          "#pythondeveloper",
          "#pythoncoding",
          "#pythonprogrammer",
          "#datavisualization",
          "#bigdata",
          "#dataviz",
          "#analytics",
          "#technology",
          "#programming",
          "#statistics",
          "#coding",
          "#businessintelligence",
          "#datamining",
          "#tech",
          "#computerscience",
          "#tableau",
          "#database",
          "#algorithm",
          "#algorithms",
          "#machinelearningalgorithms",
          "#ml",
          "#softskills",
          "#stocks",
          "#forex",
          "#candlestick",
          "#candlestickcharts",
          "#pythonbooks",
          "#bookstagram",
          "#powerbi",
          "#dataanalysisprojects",
          "#businessanalytics",
          "#neuralnetwork",
          "#neuralnetworks",
          "#tensorflow",
          "#artificialintelligenceai",
          "#alexnet",
          "#sentimentanalysis",
          "#sentiment",
          "#nlp",
          "#naturallanguageprocessing",
          "#timeseries",
          "#time",
          "#timeseriesanalysis",
          "#iot",
          "#analysis",
          "#timeseriesmalaysia",
          "#career",
          "#job",
          "#jobs",
          "#jobsearch",
          "#education",
          "#success",
          "#careergoals",
          "#motivation",
          "#work",
          "#careerdevelopment",
          "#careers",
          "#goals",
          "#resume",
          "#students",
          "#careeradvice",
          "#marketing",
          "#digitalmarketing",
          "#media",
          "#socialmedia",
          "#IT",
          "#webdevelopment",
          "#stress",
          "#stressdetection",
          "#zomato",
          "#casestudy",
          "#businessmodel",
          "#boxplots",
          "#programmer",
          "#developer",
          "#javascript",
          "#code",
          "#coder",
          "#java",
          "#html",
          "#css",
          "#webdeveloper",
          "#software",
          "#codinglife",
          "#softwaredeveloper",
          "#linux",
          "#programmingmemes",
          "#webdesign",
          "#programmers",
          "#php",
          "#programminglife",
          "#hacking",
          "#bitcoin",
          "#cryptocurrency",
          "#projects",
          "#casestudies",
          "#amazonfinds",
          "#security",
          "#cybersecurity",
          "#network",
          "#internet",
          "#cloud",
          "#innovation",
          "#google",
          "#facebook",
          "#interview",
          "#datascienceinterview",
          "#otp",
          "#otpverification",
          "#qrcodes",
          "#bigdataanalytics",
          "#recommended",
          "#recommendations",
          "#recommendationsystem",
          "#recommendation",
          "#codinginterview",
          "#flipkart",
          "#news",
          "#pythonprogram",
          "@codergallery",
          "#whatsapp",
          "#roadmap",
          "#ukraine",
          "#instagram",
          "#instagramreach",
          "#datasciencejobs",
          "#datasciencetraining",
          "#datascienceeducation",
          "#datasciencecourse",
          "#sql",
          "#mysql",
          "#python3",
          "#pythonprogramminglanguage",
          "#clustering"
         ],
         "xaxis": "x",
         "y": [
          529,
          529,
          2012,
          529,
          380,
          380,
          380,
          15077,
          16311,
          13801,
          15283,
          14703,
          16509,
          18238,
          16251,
          16818,
          14239,
          15515,
          15733,
          1845,
          20462,
          20462,
          729,
          729,
          729,
          13204,
          8458,
          8458,
          761,
          3659,
          3659,
          3659,
          3659,
          2382,
          2671,
          567,
          2001,
          3187,
          3355,
          1766,
          3129,
          728,
          728,
          2961,
          2818,
          265,
          887,
          1615,
          1615,
          2065,
          1058,
          144,
          218,
          218,
          218,
          218,
          124,
          124,
          529,
          387,
          387,
          1120,
          600,
          450,
          450,
          81,
          1057,
          1057,
          1238,
          1238,
          812,
          812,
          812,
          812,
          812,
          812,
          410,
          680,
          410,
          410,
          410,
          410,
          410,
          410,
          410,
          410,
          410,
          410,
          410,
          410,
          410,
          410,
          410,
          410,
          410,
          410,
          1456,
          302,
          302,
          328,
          328,
          328,
          76,
          878,
          878,
          878,
          878,
          878,
          878,
          878,
          878,
          878,
          1113,
          878,
          878,
          608,
          608,
          608,
          608,
          608,
          608,
          608,
          390,
          390,
          302,
          302,
          184,
          235,
          235,
          235,
          235,
          235,
          235,
          150,
          85,
          600,
          180,
          272,
          272,
          167,
          142,
          373,
          373,
          373,
          373,
          270,
          94,
          96,
          118,
          118,
          178,
          525,
          203,
          171,
          171,
          1814,
          1814,
          1814,
          1814,
          308,
          308,
          296,
          296,
          240
         ],
         "yaxis": "y"
        }
       ],
       "layout": {
        "barmode": "relative",
        "legend": {
         "tracegroupgap": 0
        },
        "template": {
         "data": {
          "bar": [
           {
            "error_x": {
             "color": "#2a3f5f"
            },
            "error_y": {
             "color": "#2a3f5f"
            },
            "marker": {
             "line": {
              "color": "white",
              "width": 0.5
             },
             "pattern": {
              "fillmode": "overlay",
              "size": 10,
              "solidity": 0.2
             }
            },
            "type": "bar"
           }
          ],
          "barpolar": [
           {
            "marker": {
             "line": {
              "color": "white",
              "width": 0.5
             },
             "pattern": {
              "fillmode": "overlay",
              "size": 10,
              "solidity": 0.2
             }
            },
            "type": "barpolar"
           }
          ],
          "carpet": [
           {
            "aaxis": {
             "endlinecolor": "#2a3f5f",
             "gridcolor": "#C8D4E3",
             "linecolor": "#C8D4E3",
             "minorgridcolor": "#C8D4E3",
             "startlinecolor": "#2a3f5f"
            },
            "baxis": {
             "endlinecolor": "#2a3f5f",
             "gridcolor": "#C8D4E3",
             "linecolor": "#C8D4E3",
             "minorgridcolor": "#C8D4E3",
             "startlinecolor": "#2a3f5f"
            },
            "type": "carpet"
           }
          ],
          "choropleth": [
           {
            "colorbar": {
             "outlinewidth": 0,
             "ticks": ""
            },
            "type": "choropleth"
           }
          ],
          "contour": [
           {
            "colorbar": {
             "outlinewidth": 0,
             "ticks": ""
            },
            "colorscale": [
             [
              0,
              "#0d0887"
             ],
             [
              0.1111111111111111,
              "#46039f"
             ],
             [
              0.2222222222222222,
              "#7201a8"
             ],
             [
              0.3333333333333333,
              "#9c179e"
             ],
             [
              0.4444444444444444,
              "#bd3786"
             ],
             [
              0.5555555555555556,
              "#d8576b"
             ],
             [
              0.6666666666666666,
              "#ed7953"
             ],
             [
              0.7777777777777778,
              "#fb9f3a"
             ],
             [
              0.8888888888888888,
              "#fdca26"
             ],
             [
              1,
              "#f0f921"
             ]
            ],
            "type": "contour"
           }
          ],
          "contourcarpet": [
           {
            "colorbar": {
             "outlinewidth": 0,
             "ticks": ""
            },
            "type": "contourcarpet"
           }
          ],
          "heatmap": [
           {
            "colorbar": {
             "outlinewidth": 0,
             "ticks": ""
            },
            "colorscale": [
             [
              0,
              "#0d0887"
             ],
             [
              0.1111111111111111,
              "#46039f"
             ],
             [
              0.2222222222222222,
              "#7201a8"
             ],
             [
              0.3333333333333333,
              "#9c179e"
             ],
             [
              0.4444444444444444,
              "#bd3786"
             ],
             [
              0.5555555555555556,
              "#d8576b"
             ],
             [
              0.6666666666666666,
              "#ed7953"
             ],
             [
              0.7777777777777778,
              "#fb9f3a"
             ],
             [
              0.8888888888888888,
              "#fdca26"
             ],
             [
              1,
              "#f0f921"
             ]
            ],
            "type": "heatmap"
           }
          ],
          "heatmapgl": [
           {
            "colorbar": {
             "outlinewidth": 0,
             "ticks": ""
            },
            "colorscale": [
             [
              0,
              "#0d0887"
             ],
             [
              0.1111111111111111,
              "#46039f"
             ],
             [
              0.2222222222222222,
              "#7201a8"
             ],
             [
              0.3333333333333333,
              "#9c179e"
             ],
             [
              0.4444444444444444,
              "#bd3786"
             ],
             [
              0.5555555555555556,
              "#d8576b"
             ],
             [
              0.6666666666666666,
              "#ed7953"
             ],
             [
              0.7777777777777778,
              "#fb9f3a"
             ],
             [
              0.8888888888888888,
              "#fdca26"
             ],
             [
              1,
              "#f0f921"
             ]
            ],
            "type": "heatmapgl"
           }
          ],
          "histogram": [
           {
            "marker": {
             "pattern": {
              "fillmode": "overlay",
              "size": 10,
              "solidity": 0.2
             }
            },
            "type": "histogram"
           }
          ],
          "histogram2d": [
           {
            "colorbar": {
             "outlinewidth": 0,
             "ticks": ""
            },
            "colorscale": [
             [
              0,
              "#0d0887"
             ],
             [
              0.1111111111111111,
              "#46039f"
             ],
             [
              0.2222222222222222,
              "#7201a8"
             ],
             [
              0.3333333333333333,
              "#9c179e"
             ],
             [
              0.4444444444444444,
              "#bd3786"
             ],
             [
              0.5555555555555556,
              "#d8576b"
             ],
             [
              0.6666666666666666,
              "#ed7953"
             ],
             [
              0.7777777777777778,
              "#fb9f3a"
             ],
             [
              0.8888888888888888,
              "#fdca26"
             ],
             [
              1,
              "#f0f921"
             ]
            ],
            "type": "histogram2d"
           }
          ],
          "histogram2dcontour": [
           {
            "colorbar": {
             "outlinewidth": 0,
             "ticks": ""
            },
            "colorscale": [
             [
              0,
              "#0d0887"
             ],
             [
              0.1111111111111111,
              "#46039f"
             ],
             [
              0.2222222222222222,
              "#7201a8"
             ],
             [
              0.3333333333333333,
              "#9c179e"
             ],
             [
              0.4444444444444444,
              "#bd3786"
             ],
             [
              0.5555555555555556,
              "#d8576b"
             ],
             [
              0.6666666666666666,
              "#ed7953"
             ],
             [
              0.7777777777777778,
              "#fb9f3a"
             ],
             [
              0.8888888888888888,
              "#fdca26"
             ],
             [
              1,
              "#f0f921"
             ]
            ],
            "type": "histogram2dcontour"
           }
          ],
          "mesh3d": [
           {
            "colorbar": {
             "outlinewidth": 0,
             "ticks": ""
            },
            "type": "mesh3d"
           }
          ],
          "parcoords": [
           {
            "line": {
             "colorbar": {
              "outlinewidth": 0,
              "ticks": ""
             }
            },
            "type": "parcoords"
           }
          ],
          "pie": [
           {
            "automargin": true,
            "type": "pie"
           }
          ],
          "scatter": [
           {
            "fillpattern": {
             "fillmode": "overlay",
             "size": 10,
             "solidity": 0.2
            },
            "type": "scatter"
           }
          ],
          "scatter3d": [
           {
            "line": {
             "colorbar": {
              "outlinewidth": 0,
              "ticks": ""
             }
            },
            "marker": {
             "colorbar": {
              "outlinewidth": 0,
              "ticks": ""
             }
            },
            "type": "scatter3d"
           }
          ],
          "scattercarpet": [
           {
            "marker": {
             "colorbar": {
              "outlinewidth": 0,
              "ticks": ""
             }
            },
            "type": "scattercarpet"
           }
          ],
          "scattergeo": [
           {
            "marker": {
             "colorbar": {
              "outlinewidth": 0,
              "ticks": ""
             }
            },
            "type": "scattergeo"
           }
          ],
          "scattergl": [
           {
            "marker": {
             "colorbar": {
              "outlinewidth": 0,
              "ticks": ""
             }
            },
            "type": "scattergl"
           }
          ],
          "scattermapbox": [
           {
            "marker": {
             "colorbar": {
              "outlinewidth": 0,
              "ticks": ""
             }
            },
            "type": "scattermapbox"
           }
          ],
          "scatterpolar": [
           {
            "marker": {
             "colorbar": {
              "outlinewidth": 0,
              "ticks": ""
             }
            },
            "type": "scatterpolar"
           }
          ],
          "scatterpolargl": [
           {
            "marker": {
             "colorbar": {
              "outlinewidth": 0,
              "ticks": ""
             }
            },
            "type": "scatterpolargl"
           }
          ],
          "scatterternary": [
           {
            "marker": {
             "colorbar": {
              "outlinewidth": 0,
              "ticks": ""
             }
            },
            "type": "scatterternary"
           }
          ],
          "surface": [
           {
            "colorbar": {
             "outlinewidth": 0,
             "ticks": ""
            },
            "colorscale": [
             [
              0,
              "#0d0887"
             ],
             [
              0.1111111111111111,
              "#46039f"
             ],
             [
              0.2222222222222222,
              "#7201a8"
             ],
             [
              0.3333333333333333,
              "#9c179e"
             ],
             [
              0.4444444444444444,
              "#bd3786"
             ],
             [
              0.5555555555555556,
              "#d8576b"
             ],
             [
              0.6666666666666666,
              "#ed7953"
             ],
             [
              0.7777777777777778,
              "#fb9f3a"
             ],
             [
              0.8888888888888888,
              "#fdca26"
             ],
             [
              1,
              "#f0f921"
             ]
            ],
            "type": "surface"
           }
          ],
          "table": [
           {
            "cells": {
             "fill": {
              "color": "#EBF0F8"
             },
             "line": {
              "color": "white"
             }
            },
            "header": {
             "fill": {
              "color": "#C8D4E3"
             },
             "line": {
              "color": "white"
             }
            },
            "type": "table"
           }
          ]
         },
         "layout": {
          "annotationdefaults": {
           "arrowcolor": "#2a3f5f",
           "arrowhead": 0,
           "arrowwidth": 1
          },
          "autotypenumbers": "strict",
          "coloraxis": {
           "colorbar": {
            "outlinewidth": 0,
            "ticks": ""
           }
          },
          "colorscale": {
           "diverging": [
            [
             0,
             "#8e0152"
            ],
            [
             0.1,
             "#c51b7d"
            ],
            [
             0.2,
             "#de77ae"
            ],
            [
             0.3,
             "#f1b6da"
            ],
            [
             0.4,
             "#fde0ef"
            ],
            [
             0.5,
             "#f7f7f7"
            ],
            [
             0.6,
             "#e6f5d0"
            ],
            [
             0.7,
             "#b8e186"
            ],
            [
             0.8,
             "#7fbc41"
            ],
            [
             0.9,
             "#4d9221"
            ],
            [
             1,
             "#276419"
            ]
           ],
           "sequential": [
            [
             0,
             "#0d0887"
            ],
            [
             0.1111111111111111,
             "#46039f"
            ],
            [
             0.2222222222222222,
             "#7201a8"
            ],
            [
             0.3333333333333333,
             "#9c179e"
            ],
            [
             0.4444444444444444,
             "#bd3786"
            ],
            [
             0.5555555555555556,
             "#d8576b"
            ],
            [
             0.6666666666666666,
             "#ed7953"
            ],
            [
             0.7777777777777778,
             "#fb9f3a"
            ],
            [
             0.8888888888888888,
             "#fdca26"
            ],
            [
             1,
             "#f0f921"
            ]
           ],
           "sequentialminus": [
            [
             0,
             "#0d0887"
            ],
            [
             0.1111111111111111,
             "#46039f"
            ],
            [
             0.2222222222222222,
             "#7201a8"
            ],
            [
             0.3333333333333333,
             "#9c179e"
            ],
            [
             0.4444444444444444,
             "#bd3786"
            ],
            [
             0.5555555555555556,
             "#d8576b"
            ],
            [
             0.6666666666666666,
             "#ed7953"
            ],
            [
             0.7777777777777778,
             "#fb9f3a"
            ],
            [
             0.8888888888888888,
             "#fdca26"
            ],
            [
             1,
             "#f0f921"
            ]
           ]
          },
          "colorway": [
           "#636efa",
           "#EF553B",
           "#00cc96",
           "#ab63fa",
           "#FFA15A",
           "#19d3f3",
           "#FF6692",
           "#B6E880",
           "#FF97FF",
           "#FECB52"
          ],
          "font": {
           "color": "#2a3f5f"
          },
          "geo": {
           "bgcolor": "white",
           "lakecolor": "white",
           "landcolor": "white",
           "showlakes": true,
           "showland": true,
           "subunitcolor": "#C8D4E3"
          },
          "hoverlabel": {
           "align": "left"
          },
          "hovermode": "closest",
          "mapbox": {
           "style": "light"
          },
          "paper_bgcolor": "white",
          "plot_bgcolor": "white",
          "polar": {
           "angularaxis": {
            "gridcolor": "#EBF0F8",
            "linecolor": "#EBF0F8",
            "ticks": ""
           },
           "bgcolor": "white",
           "radialaxis": {
            "gridcolor": "#EBF0F8",
            "linecolor": "#EBF0F8",
            "ticks": ""
           }
          },
          "scene": {
           "xaxis": {
            "backgroundcolor": "white",
            "gridcolor": "#DFE8F3",
            "gridwidth": 2,
            "linecolor": "#EBF0F8",
            "showbackground": true,
            "ticks": "",
            "zerolinecolor": "#EBF0F8"
           },
           "yaxis": {
            "backgroundcolor": "white",
            "gridcolor": "#DFE8F3",
            "gridwidth": 2,
            "linecolor": "#EBF0F8",
            "showbackground": true,
            "ticks": "",
            "zerolinecolor": "#EBF0F8"
           },
           "zaxis": {
            "backgroundcolor": "white",
            "gridcolor": "#DFE8F3",
            "gridwidth": 2,
            "linecolor": "#EBF0F8",
            "showbackground": true,
            "ticks": "",
            "zerolinecolor": "#EBF0F8"
           }
          },
          "shapedefaults": {
           "line": {
            "color": "#2a3f5f"
           }
          },
          "ternary": {
           "aaxis": {
            "gridcolor": "#DFE8F3",
            "linecolor": "#A2B1C6",
            "ticks": ""
           },
           "baxis": {
            "gridcolor": "#DFE8F3",
            "linecolor": "#A2B1C6",
            "ticks": ""
           },
           "bgcolor": "white",
           "caxis": {
            "gridcolor": "#DFE8F3",
            "linecolor": "#A2B1C6",
            "ticks": ""
           }
          },
          "title": {
           "x": 0.05
          },
          "xaxis": {
           "automargin": true,
           "gridcolor": "#EBF0F8",
           "linecolor": "#EBF0F8",
           "ticks": "",
           "title": {
            "standoff": 15
           },
           "zerolinecolor": "#EBF0F8",
           "zerolinewidth": 2
          },
          "yaxis": {
           "automargin": true,
           "gridcolor": "#EBF0F8",
           "linecolor": "#EBF0F8",
           "ticks": "",
           "title": {
            "standoff": 15
           },
           "zerolinecolor": "#EBF0F8",
           "zerolinewidth": 2
          }
         }
        },
        "title": {
         "text": "Likes Distribution for Each Hashtag"
        },
        "xaxis": {
         "anchor": "y",
         "domain": [
          0,
          1
         ],
         "title": {
          "text": "Hashtag"
         }
        },
        "yaxis": {
         "anchor": "x",
         "domain": [
          0,
          1
         ],
         "title": {
          "text": "Likes"
         }
        }
       }
      }
     },
     "metadata": {},
     "output_type": "display_data"
    },
    {
     "data": {
      "application/vnd.plotly.v1+json": {
       "config": {
        "plotlyServerURL": "https://plot.ly"
       },
       "data": [
        {
         "alignmentgroup": "True",
         "hovertemplate": "Hashtag=%{x}<br>Impressions=%{y}<extra></extra>",
         "legendgroup": "",
         "marker": {
          "color": "#636efa",
          "pattern": {
           "shape": ""
          }
         },
         "name": "",
         "offsetgroup": "",
         "orientation": "v",
         "showlegend": false,
         "textposition": "auto",
         "type": "bar",
         "x": [
          "#finance",
          "#money",
          "#business",
          "#investing",
          "#investment",
          "#trading",
          "#stockmarket",
          "#data",
          "#datascience",
          "#dataanalysis",
          "#dataanalytics",
          "#datascientist",
          "#machinelearning",
          "#python",
          "#pythonprogramming",
          "#pythonprojects",
          "#pythoncode",
          "#artificialintelligence",
          "#ai",
          "#dataanalyst",
          "#amankharwal",
          "#thecleverprogrammer",
          "#healthcare",
          "#health",
          "#covid",
          "#deeplearning",
          "#machinelearningprojects",
          "#datascienceprojects",
          "#machinelearningmodels",
          "#pythonlearning",
          "#pythondeveloper",
          "#pythoncoding",
          "#pythonprogrammer",
          "#datavisualization",
          "#bigdata",
          "#dataviz",
          "#analytics",
          "#technology",
          "#programming",
          "#statistics",
          "#coding",
          "#businessintelligence",
          "#datamining",
          "#tech",
          "#computerscience",
          "#tableau",
          "#database",
          "#algorithm",
          "#algorithms",
          "#machinelearningalgorithms",
          "#ml",
          "#softskills",
          "#stocks",
          "#forex",
          "#candlestick",
          "#candlestickcharts",
          "#pythonbooks",
          "#bookstagram",
          "#powerbi",
          "#dataanalysisprojects",
          "#businessanalytics",
          "#neuralnetwork",
          "#neuralnetworks",
          "#tensorflow",
          "#artificialintelligenceai",
          "#alexnet",
          "#sentimentanalysis",
          "#sentiment",
          "#nlp",
          "#naturallanguageprocessing",
          "#timeseries",
          "#time",
          "#timeseriesanalysis",
          "#iot",
          "#analysis",
          "#timeseriesmalaysia",
          "#career",
          "#job",
          "#jobs",
          "#jobsearch",
          "#education",
          "#success",
          "#careergoals",
          "#motivation",
          "#work",
          "#careerdevelopment",
          "#careers",
          "#goals",
          "#resume",
          "#students",
          "#careeradvice",
          "#marketing",
          "#digitalmarketing",
          "#media",
          "#socialmedia",
          "#IT",
          "#webdevelopment",
          "#stress",
          "#stressdetection",
          "#zomato",
          "#casestudy",
          "#businessmodel",
          "#boxplots",
          "#programmer",
          "#developer",
          "#javascript",
          "#code",
          "#coder",
          "#java",
          "#html",
          "#css",
          "#webdeveloper",
          "#software",
          "#codinglife",
          "#softwaredeveloper",
          "#linux",
          "#programmingmemes",
          "#webdesign",
          "#programmers",
          "#php",
          "#programminglife",
          "#hacking",
          "#bitcoin",
          "#cryptocurrency",
          "#projects",
          "#casestudies",
          "#amazonfinds",
          "#security",
          "#cybersecurity",
          "#network",
          "#internet",
          "#cloud",
          "#innovation",
          "#google",
          "#facebook",
          "#interview",
          "#datascienceinterview",
          "#otp",
          "#otpverification",
          "#qrcodes",
          "#bigdataanalytics",
          "#recommended",
          "#recommendations",
          "#recommendationsystem",
          "#recommendation",
          "#codinginterview",
          "#flipkart",
          "#news",
          "#pythonprogram",
          "@codergallery",
          "#whatsapp",
          "#roadmap",
          "#ukraine",
          "#instagram",
          "#instagramreach",
          "#datasciencejobs",
          "#datasciencetraining",
          "#datascienceeducation",
          "#datasciencecourse",
          "#sql",
          "#mysql",
          "#python3",
          "#pythonprogramminglanguage",
          "#clustering"
         ],
         "xaxis": "x",
         "y": [
          14224,
          14224,
          51387,
          14224,
          9757,
          9757,
          9757,
          484761,
          524640,
          457923,
          497787,
          483746,
          532627,
          578243,
          525346,
          567608,
          470276,
          506190,
          512027,
          47051,
          672166,
          672166,
          18292,
          18292,
          18292,
          445317,
          297427,
          297427,
          27201,
          135901,
          135901,
          135901,
          135901,
          64864,
          70884,
          15438,
          53464,
          85523,
          90132,
          47283,
          83264,
          17971,
          17971,
          78655,
          75019,
          6506,
          22088,
          57289,
          57289,
          71529,
          30316,
          3884,
          5837,
          5837,
          5837,
          5837,
          3541,
          3541,
          13389,
          9401,
          9401,
          31660,
          18529,
          14240,
          14240,
          2218,
          34102,
          34102,
          42567,
          42567,
          22444,
          22444,
          22444,
          22444,
          22444,
          22444,
          8004,
          14856,
          8004,
          8004,
          8004,
          8004,
          8004,
          8004,
          8004,
          8004,
          8004,
          8004,
          8004,
          8004,
          8004,
          8004,
          8004,
          8004,
          8004,
          8004,
          35456,
          12336,
          12336,
          10844,
          10844,
          10844,
          2064,
          22843,
          22843,
          22843,
          22843,
          22843,
          22843,
          22843,
          22843,
          22843,
          29024,
          22843,
          22843,
          15991,
          15991,
          15991,
          15991,
          15991,
          15991,
          15991,
          14121,
          14121,
          7848,
          7848,
          6030,
          6181,
          6181,
          6181,
          6181,
          6181,
          6181,
          3854,
          2327,
          16139,
          4998,
          8030,
          8030,
          3786,
          3988,
          10036,
          10036,
          10036,
          10036,
          6852,
          3601,
          3525,
          2957,
          2957,
          5538,
          10682,
          8001,
          7231,
          7231,
          86691,
          86691,
          86691,
          86691,
          17713,
          17713,
          15991,
          15991,
          9870
         ],
         "yaxis": "y"
        }
       ],
       "layout": {
        "barmode": "relative",
        "legend": {
         "tracegroupgap": 0
        },
        "template": {
         "data": {
          "bar": [
           {
            "error_x": {
             "color": "#2a3f5f"
            },
            "error_y": {
             "color": "#2a3f5f"
            },
            "marker": {
             "line": {
              "color": "white",
              "width": 0.5
             },
             "pattern": {
              "fillmode": "overlay",
              "size": 10,
              "solidity": 0.2
             }
            },
            "type": "bar"
           }
          ],
          "barpolar": [
           {
            "marker": {
             "line": {
              "color": "white",
              "width": 0.5
             },
             "pattern": {
              "fillmode": "overlay",
              "size": 10,
              "solidity": 0.2
             }
            },
            "type": "barpolar"
           }
          ],
          "carpet": [
           {
            "aaxis": {
             "endlinecolor": "#2a3f5f",
             "gridcolor": "#C8D4E3",
             "linecolor": "#C8D4E3",
             "minorgridcolor": "#C8D4E3",
             "startlinecolor": "#2a3f5f"
            },
            "baxis": {
             "endlinecolor": "#2a3f5f",
             "gridcolor": "#C8D4E3",
             "linecolor": "#C8D4E3",
             "minorgridcolor": "#C8D4E3",
             "startlinecolor": "#2a3f5f"
            },
            "type": "carpet"
           }
          ],
          "choropleth": [
           {
            "colorbar": {
             "outlinewidth": 0,
             "ticks": ""
            },
            "type": "choropleth"
           }
          ],
          "contour": [
           {
            "colorbar": {
             "outlinewidth": 0,
             "ticks": ""
            },
            "colorscale": [
             [
              0,
              "#0d0887"
             ],
             [
              0.1111111111111111,
              "#46039f"
             ],
             [
              0.2222222222222222,
              "#7201a8"
             ],
             [
              0.3333333333333333,
              "#9c179e"
             ],
             [
              0.4444444444444444,
              "#bd3786"
             ],
             [
              0.5555555555555556,
              "#d8576b"
             ],
             [
              0.6666666666666666,
              "#ed7953"
             ],
             [
              0.7777777777777778,
              "#fb9f3a"
             ],
             [
              0.8888888888888888,
              "#fdca26"
             ],
             [
              1,
              "#f0f921"
             ]
            ],
            "type": "contour"
           }
          ],
          "contourcarpet": [
           {
            "colorbar": {
             "outlinewidth": 0,
             "ticks": ""
            },
            "type": "contourcarpet"
           }
          ],
          "heatmap": [
           {
            "colorbar": {
             "outlinewidth": 0,
             "ticks": ""
            },
            "colorscale": [
             [
              0,
              "#0d0887"
             ],
             [
              0.1111111111111111,
              "#46039f"
             ],
             [
              0.2222222222222222,
              "#7201a8"
             ],
             [
              0.3333333333333333,
              "#9c179e"
             ],
             [
              0.4444444444444444,
              "#bd3786"
             ],
             [
              0.5555555555555556,
              "#d8576b"
             ],
             [
              0.6666666666666666,
              "#ed7953"
             ],
             [
              0.7777777777777778,
              "#fb9f3a"
             ],
             [
              0.8888888888888888,
              "#fdca26"
             ],
             [
              1,
              "#f0f921"
             ]
            ],
            "type": "heatmap"
           }
          ],
          "heatmapgl": [
           {
            "colorbar": {
             "outlinewidth": 0,
             "ticks": ""
            },
            "colorscale": [
             [
              0,
              "#0d0887"
             ],
             [
              0.1111111111111111,
              "#46039f"
             ],
             [
              0.2222222222222222,
              "#7201a8"
             ],
             [
              0.3333333333333333,
              "#9c179e"
             ],
             [
              0.4444444444444444,
              "#bd3786"
             ],
             [
              0.5555555555555556,
              "#d8576b"
             ],
             [
              0.6666666666666666,
              "#ed7953"
             ],
             [
              0.7777777777777778,
              "#fb9f3a"
             ],
             [
              0.8888888888888888,
              "#fdca26"
             ],
             [
              1,
              "#f0f921"
             ]
            ],
            "type": "heatmapgl"
           }
          ],
          "histogram": [
           {
            "marker": {
             "pattern": {
              "fillmode": "overlay",
              "size": 10,
              "solidity": 0.2
             }
            },
            "type": "histogram"
           }
          ],
          "histogram2d": [
           {
            "colorbar": {
             "outlinewidth": 0,
             "ticks": ""
            },
            "colorscale": [
             [
              0,
              "#0d0887"
             ],
             [
              0.1111111111111111,
              "#46039f"
             ],
             [
              0.2222222222222222,
              "#7201a8"
             ],
             [
              0.3333333333333333,
              "#9c179e"
             ],
             [
              0.4444444444444444,
              "#bd3786"
             ],
             [
              0.5555555555555556,
              "#d8576b"
             ],
             [
              0.6666666666666666,
              "#ed7953"
             ],
             [
              0.7777777777777778,
              "#fb9f3a"
             ],
             [
              0.8888888888888888,
              "#fdca26"
             ],
             [
              1,
              "#f0f921"
             ]
            ],
            "type": "histogram2d"
           }
          ],
          "histogram2dcontour": [
           {
            "colorbar": {
             "outlinewidth": 0,
             "ticks": ""
            },
            "colorscale": [
             [
              0,
              "#0d0887"
             ],
             [
              0.1111111111111111,
              "#46039f"
             ],
             [
              0.2222222222222222,
              "#7201a8"
             ],
             [
              0.3333333333333333,
              "#9c179e"
             ],
             [
              0.4444444444444444,
              "#bd3786"
             ],
             [
              0.5555555555555556,
              "#d8576b"
             ],
             [
              0.6666666666666666,
              "#ed7953"
             ],
             [
              0.7777777777777778,
              "#fb9f3a"
             ],
             [
              0.8888888888888888,
              "#fdca26"
             ],
             [
              1,
              "#f0f921"
             ]
            ],
            "type": "histogram2dcontour"
           }
          ],
          "mesh3d": [
           {
            "colorbar": {
             "outlinewidth": 0,
             "ticks": ""
            },
            "type": "mesh3d"
           }
          ],
          "parcoords": [
           {
            "line": {
             "colorbar": {
              "outlinewidth": 0,
              "ticks": ""
             }
            },
            "type": "parcoords"
           }
          ],
          "pie": [
           {
            "automargin": true,
            "type": "pie"
           }
          ],
          "scatter": [
           {
            "fillpattern": {
             "fillmode": "overlay",
             "size": 10,
             "solidity": 0.2
            },
            "type": "scatter"
           }
          ],
          "scatter3d": [
           {
            "line": {
             "colorbar": {
              "outlinewidth": 0,
              "ticks": ""
             }
            },
            "marker": {
             "colorbar": {
              "outlinewidth": 0,
              "ticks": ""
             }
            },
            "type": "scatter3d"
           }
          ],
          "scattercarpet": [
           {
            "marker": {
             "colorbar": {
              "outlinewidth": 0,
              "ticks": ""
             }
            },
            "type": "scattercarpet"
           }
          ],
          "scattergeo": [
           {
            "marker": {
             "colorbar": {
              "outlinewidth": 0,
              "ticks": ""
             }
            },
            "type": "scattergeo"
           }
          ],
          "scattergl": [
           {
            "marker": {
             "colorbar": {
              "outlinewidth": 0,
              "ticks": ""
             }
            },
            "type": "scattergl"
           }
          ],
          "scattermapbox": [
           {
            "marker": {
             "colorbar": {
              "outlinewidth": 0,
              "ticks": ""
             }
            },
            "type": "scattermapbox"
           }
          ],
          "scatterpolar": [
           {
            "marker": {
             "colorbar": {
              "outlinewidth": 0,
              "ticks": ""
             }
            },
            "type": "scatterpolar"
           }
          ],
          "scatterpolargl": [
           {
            "marker": {
             "colorbar": {
              "outlinewidth": 0,
              "ticks": ""
             }
            },
            "type": "scatterpolargl"
           }
          ],
          "scatterternary": [
           {
            "marker": {
             "colorbar": {
              "outlinewidth": 0,
              "ticks": ""
             }
            },
            "type": "scatterternary"
           }
          ],
          "surface": [
           {
            "colorbar": {
             "outlinewidth": 0,
             "ticks": ""
            },
            "colorscale": [
             [
              0,
              "#0d0887"
             ],
             [
              0.1111111111111111,
              "#46039f"
             ],
             [
              0.2222222222222222,
              "#7201a8"
             ],
             [
              0.3333333333333333,
              "#9c179e"
             ],
             [
              0.4444444444444444,
              "#bd3786"
             ],
             [
              0.5555555555555556,
              "#d8576b"
             ],
             [
              0.6666666666666666,
              "#ed7953"
             ],
             [
              0.7777777777777778,
              "#fb9f3a"
             ],
             [
              0.8888888888888888,
              "#fdca26"
             ],
             [
              1,
              "#f0f921"
             ]
            ],
            "type": "surface"
           }
          ],
          "table": [
           {
            "cells": {
             "fill": {
              "color": "#EBF0F8"
             },
             "line": {
              "color": "white"
             }
            },
            "header": {
             "fill": {
              "color": "#C8D4E3"
             },
             "line": {
              "color": "white"
             }
            },
            "type": "table"
           }
          ]
         },
         "layout": {
          "annotationdefaults": {
           "arrowcolor": "#2a3f5f",
           "arrowhead": 0,
           "arrowwidth": 1
          },
          "autotypenumbers": "strict",
          "coloraxis": {
           "colorbar": {
            "outlinewidth": 0,
            "ticks": ""
           }
          },
          "colorscale": {
           "diverging": [
            [
             0,
             "#8e0152"
            ],
            [
             0.1,
             "#c51b7d"
            ],
            [
             0.2,
             "#de77ae"
            ],
            [
             0.3,
             "#f1b6da"
            ],
            [
             0.4,
             "#fde0ef"
            ],
            [
             0.5,
             "#f7f7f7"
            ],
            [
             0.6,
             "#e6f5d0"
            ],
            [
             0.7,
             "#b8e186"
            ],
            [
             0.8,
             "#7fbc41"
            ],
            [
             0.9,
             "#4d9221"
            ],
            [
             1,
             "#276419"
            ]
           ],
           "sequential": [
            [
             0,
             "#0d0887"
            ],
            [
             0.1111111111111111,
             "#46039f"
            ],
            [
             0.2222222222222222,
             "#7201a8"
            ],
            [
             0.3333333333333333,
             "#9c179e"
            ],
            [
             0.4444444444444444,
             "#bd3786"
            ],
            [
             0.5555555555555556,
             "#d8576b"
            ],
            [
             0.6666666666666666,
             "#ed7953"
            ],
            [
             0.7777777777777778,
             "#fb9f3a"
            ],
            [
             0.8888888888888888,
             "#fdca26"
            ],
            [
             1,
             "#f0f921"
            ]
           ],
           "sequentialminus": [
            [
             0,
             "#0d0887"
            ],
            [
             0.1111111111111111,
             "#46039f"
            ],
            [
             0.2222222222222222,
             "#7201a8"
            ],
            [
             0.3333333333333333,
             "#9c179e"
            ],
            [
             0.4444444444444444,
             "#bd3786"
            ],
            [
             0.5555555555555556,
             "#d8576b"
            ],
            [
             0.6666666666666666,
             "#ed7953"
            ],
            [
             0.7777777777777778,
             "#fb9f3a"
            ],
            [
             0.8888888888888888,
             "#fdca26"
            ],
            [
             1,
             "#f0f921"
            ]
           ]
          },
          "colorway": [
           "#636efa",
           "#EF553B",
           "#00cc96",
           "#ab63fa",
           "#FFA15A",
           "#19d3f3",
           "#FF6692",
           "#B6E880",
           "#FF97FF",
           "#FECB52"
          ],
          "font": {
           "color": "#2a3f5f"
          },
          "geo": {
           "bgcolor": "white",
           "lakecolor": "white",
           "landcolor": "white",
           "showlakes": true,
           "showland": true,
           "subunitcolor": "#C8D4E3"
          },
          "hoverlabel": {
           "align": "left"
          },
          "hovermode": "closest",
          "mapbox": {
           "style": "light"
          },
          "paper_bgcolor": "white",
          "plot_bgcolor": "white",
          "polar": {
           "angularaxis": {
            "gridcolor": "#EBF0F8",
            "linecolor": "#EBF0F8",
            "ticks": ""
           },
           "bgcolor": "white",
           "radialaxis": {
            "gridcolor": "#EBF0F8",
            "linecolor": "#EBF0F8",
            "ticks": ""
           }
          },
          "scene": {
           "xaxis": {
            "backgroundcolor": "white",
            "gridcolor": "#DFE8F3",
            "gridwidth": 2,
            "linecolor": "#EBF0F8",
            "showbackground": true,
            "ticks": "",
            "zerolinecolor": "#EBF0F8"
           },
           "yaxis": {
            "backgroundcolor": "white",
            "gridcolor": "#DFE8F3",
            "gridwidth": 2,
            "linecolor": "#EBF0F8",
            "showbackground": true,
            "ticks": "",
            "zerolinecolor": "#EBF0F8"
           },
           "zaxis": {
            "backgroundcolor": "white",
            "gridcolor": "#DFE8F3",
            "gridwidth": 2,
            "linecolor": "#EBF0F8",
            "showbackground": true,
            "ticks": "",
            "zerolinecolor": "#EBF0F8"
           }
          },
          "shapedefaults": {
           "line": {
            "color": "#2a3f5f"
           }
          },
          "ternary": {
           "aaxis": {
            "gridcolor": "#DFE8F3",
            "linecolor": "#A2B1C6",
            "ticks": ""
           },
           "baxis": {
            "gridcolor": "#DFE8F3",
            "linecolor": "#A2B1C6",
            "ticks": ""
           },
           "bgcolor": "white",
           "caxis": {
            "gridcolor": "#DFE8F3",
            "linecolor": "#A2B1C6",
            "ticks": ""
           }
          },
          "title": {
           "x": 0.05
          },
          "xaxis": {
           "automargin": true,
           "gridcolor": "#EBF0F8",
           "linecolor": "#EBF0F8",
           "ticks": "",
           "title": {
            "standoff": 15
           },
           "zerolinecolor": "#EBF0F8",
           "zerolinewidth": 2
          },
          "yaxis": {
           "automargin": true,
           "gridcolor": "#EBF0F8",
           "linecolor": "#EBF0F8",
           "ticks": "",
           "title": {
            "standoff": 15
           },
           "zerolinecolor": "#EBF0F8",
           "zerolinewidth": 2
          }
         }
        },
        "title": {
         "text": "Impressions Distribution for Each Hashtag"
        },
        "xaxis": {
         "anchor": "y",
         "domain": [
          0,
          1
         ],
         "title": {
          "text": "Hashtag"
         }
        },
        "yaxis": {
         "anchor": "x",
         "domain": [
          0,
          1
         ],
         "title": {
          "text": "Impressions"
         }
        }
       }
      }
     },
     "metadata": {},
     "output_type": "display_data"
    }
   ],
   "source": [
    "# Create a dictionary to store the likes and impressions for each hashtag\n",
    "hashtag_likes = {}\n",
    "hashtag_impressions = {}\n",
    "\n",
    "# Iterate through each row in the dataset\n",
    "for index, row in data.iterrows():\n",
    "    hashtags = str(row['Hashtags']).split()\n",
    "    for hashtag in hashtags:\n",
    "        hashtag = hashtag.strip()\n",
    "        if hashtag not in hashtag_likes:\n",
    "            hashtag_likes[hashtag] = 0\n",
    "            hashtag_impressions[hashtag] = 0\n",
    "        hashtag_likes[hashtag] += row['Likes']\n",
    "        hashtag_impressions[hashtag] += row['Impressions']\n",
    "\n",
    "# Create a DataFrame for likes distribution\n",
    "likes_distribution = pd.DataFrame(list(hashtag_likes.items()), columns=['Hashtag', 'Likes'])\n",
    "\n",
    "# Create a DataFrame for impressions distribution\n",
    "impressions_distribution = pd.DataFrame(list(hashtag_impressions.items()), columns=['Hashtag', 'Impressions'])\n",
    "\n",
    "fig_likes = px.bar(likes_distribution, x='Hashtag', y='Likes', \n",
    "                   title='Likes Distribution for Each Hashtag')\n",
    "\n",
    "fig_impressions = px.bar(impressions_distribution, x='Hashtag', \n",
    "                         y='Impressions', \n",
    "                         title='Impressions Distribution for Each Hashtag')\n",
    "\n",
    "fig_likes.show()\n",
    "fig_impressions.show()"
   ]
  },
  {
   "cell_type": "markdown",
   "metadata": {},
   "source": [
    "## Summary\n",
    "#### Exploratory data analysis (EDA) is a Data Science concept where we analyze a dataset to discover patterns, trends, and relationships within the data. It helps us better understand the information contained in the dataset and guides us in making informed decisions and formulating strategies to solve real business problems."
   ]
  }
 ],
 "metadata": {
  "kernelspec": {
   "display_name": "Python 3",
   "language": "python",
   "name": "python3"
  },
  "language_info": {
   "codemirror_mode": {
    "name": "ipython",
    "version": 3
   },
   "file_extension": ".py",
   "mimetype": "text/x-python",
   "name": "python",
   "nbconvert_exporter": "python",
   "pygments_lexer": "ipython3",
   "version": "3.11.5"
  },
  "orig_nbformat": 4
 },
 "nbformat": 4,
 "nbformat_minor": 2
}
